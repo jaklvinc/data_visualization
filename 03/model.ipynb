{
 "cells": [
  {
   "cell_type": "markdown",
   "id": "cfcd0778-ac83-4c39-a644-d63c176d7a29",
   "metadata": {},
   "source": [
    "Data visualization and a part of data preprocessing was done in the previous notebook (**1-visualizations.ipynb**). This notebook will continue on the result from the previous one with the following tasks listed bellow.\n",
    "\n",
    "---"
   ]
  },
  {
   "cell_type": "markdown",
   "id": "f7b48c07-0334-4a83-83a9-3299cb0fa5b9",
   "metadata": {
    "execution": {
     "iopub.execute_input": "2023-01-15T08:45:01.199474Z",
     "iopub.status.busy": "2023-01-15T08:45:01.198475Z",
     "iopub.status.idle": "2023-01-15T08:45:01.224659Z",
     "shell.execute_reply": "2023-01-15T08:45:01.223663Z",
     "shell.execute_reply.started": "2023-01-15T08:45:01.198475Z"
    },
    "tags": []
   },
   "source": [
    "**✨ Dataset:**\n",
    "\n",
    "5. Proveďte všechny další úpravy, které jsou podle vás pro práci s vybraným datasetem nezbytné (např. konverze datových typů, odstranění duplicitních údajů, vytvoření nových příznaků, sjednocení reprezentace chybějících dat nebo jejich odstranění apod.). K úpravě datasetu se můžete v průběhu řešení úlohy vracet.\n",
    "6. Připravte dataset tak, abyste na něm mohli natrénovat a vyhodnotit vybraný model (např. data vhodně rozdělte, pokud je to pro váš model a evaluaci nutné, rozdělení komentujte, nebo můžete využít křížovou validaci apod. -> znáte z BI-ML1).\n",
    "\n",
    "Z této části lze získat celkem 15 bodů.\n",
    "\n",
    "**⚙️Model:**\n",
    "V této části je vaším úkolem natrénovat model, který se pokusí vyřešit vaši úlohu. Zaměřte se především na vizualizaci jednotlivých kroků a výsledků, včetně komentářů. Kvalita modelu jako takového nebude hodnocena.\n",
    "1. ✅Pro svoji úlohu zvolte vhodný klasifikační/regresní model.\n",
    "2. ✅Zvolte si alespoň dva hyperparametry spolu s minimálně pěti hodnotami (zde může být i více, případně méně v závislosti na zvoleném hyperparametru), jejichž nejlepší kombinaci budete během trénování modelu hledat. Zvolené hyperparametry a jejich hodnoty popište.\n",
    "3. ✅Zvolte a popište ztrátovou funkci, pomocí které provedete vyhodnocení úspěšnosti modelu.\n",
    "4. Daný model na datasetu natrénujte. Pokud to lze, model vizualizujte.\n",
    "5. ✅Vhodně vizualizujte a komentujte vliv jednotlivých kombinací hyperparamentrů na úspěšnost modelu. Uveďte nejlepší kombinaci.\n",
    "6. Pokud to lze (!), vizualizujte rozhodovací hranici nejlepšího modelu pro vámi vybrané příznaky. Pokud to nelze, zdůvodněte, případně realizujte jinou viualizaci související s prezentací nejlepšího modelu.\n",
    "7. ✅Vhodně vizualizujte úspěšnost výsledného modelu - využijte alespoň dvě vizualizační metody.\n",
    "\n",
    "**Pro zájemce:** Pokud byste chtěli, můžete pro řešení úlohy použít modelů více a provést jejich srovnání (včetně ladění hyperparametrů a dalších kroků zmíněných výše).\n",
    "\n",
    "Z této části lze získat celkem 25 bodů."
   ]
  },
  {
   "cell_type": "markdown",
   "id": "29a4b3c2-5e14-499e-8eed-b2a8f66f27fd",
   "metadata": {},
   "source": [
    "---"
   ]
  },
  {
   "cell_type": "code",
   "execution_count": 1,
   "id": "6473e372-d2b5-451b-bbae-def40bf3fdb3",
   "metadata": {
    "execution": {
     "iopub.execute_input": "2023-01-22T12:56:55.767003Z",
     "iopub.status.busy": "2023-01-22T12:56:55.766003Z",
     "iopub.status.idle": "2023-01-22T12:56:57.165936Z",
     "shell.execute_reply": "2023-01-22T12:56:57.165936Z",
     "shell.execute_reply.started": "2023-01-22T12:56:55.767003Z"
    },
    "tags": []
   },
   "outputs": [],
   "source": [
    "import pandas as pd\n",
    "import numpy as np\n",
    "import seaborn as sns\n",
    "import copy\n",
    "from matplotlib import pyplot as plt\n",
    "\n",
    "from sklearn.ensemble import RandomForestClassifier\n",
    "from sklearn.model_selection import train_test_split\n",
    "from sklearn.preprocessing import OneHotEncoder\n",
    "from sklearn.preprocessing import LabelEncoder\n",
    "from sklearn.impute import SimpleImputer\n",
    "from sklearn.pipeline import Pipeline\n",
    "from sklearn.metrics import ConfusionMatrixDisplay\n",
    "from sklearn.metrics import f1_score\n",
    "from sklearn.compose import ColumnTransformer\n",
    "\n",
    "from skopt import BayesSearchCV\n",
    "from scipy.sparse import vstack\n",
    "\n",
    "from mlxtend.plotting import plot_decision_regions \n",
    "# from dtreeviz.trees import DTreeVizAPI as dtreeviz\n",
    "import dtreeviz\n",
    "\n",
    "from yellowbrick.classifier import ROCAUC\n",
    "sns.set_theme()"
   ]
  },
  {
   "cell_type": "markdown",
   "id": "9f460e19-e76a-4824-aafe-e706e60c19ec",
   "metadata": {},
   "source": [
    "# ✨ Dataset part"
   ]
  },
  {
   "cell_type": "markdown",
   "id": "e51d7d72-297d-4876-9ce5-860a2d915377",
   "metadata": {},
   "source": [
    "## 5/ Data preprocessing\n",
    "This notebook follow the data from the previous notebook (1-visualizations.ipynb). Regarding data preprocessing there were introduced **new features**. This notebook follows up with the *duplicities handling*, *missing values* and *conversions to the proper data type*."
   ]
  },
  {
   "cell_type": "markdown",
   "id": "23c6b28f-259b-40e2-86d4-80106344556e",
   "metadata": {},
   "source": [
    "### 5.1/ Missing values\n",
    "As was stated in the previous notebook, there are **no missing** values. If there were some, they would be imputed/dropped."
   ]
  },
  {
   "cell_type": "code",
   "execution_count": 2,
   "id": "606a008d-3741-40a4-b97c-ed7edf23f9ce",
   "metadata": {
    "execution": {
     "iopub.execute_input": "2023-01-22T12:56:57.167937Z",
     "iopub.status.busy": "2023-01-22T12:56:57.166935Z",
     "iopub.status.idle": "2023-01-22T12:56:57.307333Z",
     "shell.execute_reply": "2023-01-22T12:56:57.307333Z",
     "shell.execute_reply.started": "2023-01-22T12:56:57.167937Z"
    },
    "tags": []
   },
   "outputs": [
    {
     "name": "stdout",
     "output_type": "stream",
     "text": [
      "<class 'pandas.core.frame.DataFrame'>\n",
      "RangeIndex: 20058 entries, 0 to 20057\n",
      "Data columns (total 29 columns):\n",
      " #   Column                Non-Null Count  Dtype  \n",
      "---  ------                --------------  -----  \n",
      " 0   id                    20058 non-null  object \n",
      " 1   rated                 20058 non-null  bool   \n",
      " 2   turns                 20058 non-null  int64  \n",
      " 3   victory_status        20058 non-null  object \n",
      " 4   winner                20058 non-null  object \n",
      " 5   increment_code        20058 non-null  object \n",
      " 6   white_id              20058 non-null  object \n",
      " 7   white_rating          20058 non-null  int64  \n",
      " 8   black_id              20058 non-null  object \n",
      " 9   black_rating          20058 non-null  int64  \n",
      " 10  moves                 20058 non-null  object \n",
      " 11  opening_eco           20058 non-null  object \n",
      " 12  opening_name          20058 non-null  object \n",
      " 13  opening_ply           20058 non-null  int64  \n",
      " 14  is_checkmate          20058 non-null  bool   \n",
      " 15  last_move_piece       20058 non-null  object \n",
      " 16  last_move             20058 non-null  object \n",
      " 17  white_pawns_lost      20058 non-null  int64  \n",
      " 18  white_knights_lost    20058 non-null  int64  \n",
      " 19  white_bishops_lost    20058 non-null  int64  \n",
      " 20  white_rooks_lost      20058 non-null  int64  \n",
      " 21  white_queens_lost     20058 non-null  int64  \n",
      " 22  black_pawns_lost      20058 non-null  int64  \n",
      " 23  black_knights_lost    20058 non-null  int64  \n",
      " 24  black_bishops_lost    20058 non-null  int64  \n",
      " 25  black_rooks_lost      20058 non-null  int64  \n",
      " 26  black_queens_lost     20058 non-null  int64  \n",
      " 27  played_on_white_side  20058 non-null  float64\n",
      " 28  rating_difference     20058 non-null  int64  \n",
      "dtypes: bool(2), float64(1), int64(15), object(11)\n",
      "memory usage: 4.2+ MB\n"
     ]
    }
   ],
   "source": [
    "df = pd.read_csv('games_preprocessed.csv')\n",
    "df.info()"
   ]
  },
  {
   "cell_type": "markdown",
   "id": "72bd6433-76b0-497a-bd1a-94f83f5c257d",
   "metadata": {},
   "source": [
    "### 5.2/ Duplicities"
   ]
  },
  {
   "cell_type": "code",
   "execution_count": 3,
   "id": "9be56bab-9108-4824-a3f1-c8ef97efa9da",
   "metadata": {
    "execution": {
     "iopub.execute_input": "2023-01-22T12:56:57.309332Z",
     "iopub.status.busy": "2023-01-22T12:56:57.309332Z",
     "iopub.status.idle": "2023-01-22T12:56:57.370434Z",
     "shell.execute_reply": "2023-01-22T12:56:57.370434Z",
     "shell.execute_reply.started": "2023-01-22T12:56:57.309332Z"
    },
    "tags": []
   },
   "outputs": [
    {
     "data": {
      "text/html": [
       "<div>\n",
       "<style scoped>\n",
       "    .dataframe tbody tr th:only-of-type {\n",
       "        vertical-align: middle;\n",
       "    }\n",
       "\n",
       "    .dataframe tbody tr th {\n",
       "        vertical-align: top;\n",
       "    }\n",
       "\n",
       "    .dataframe thead th {\n",
       "        text-align: right;\n",
       "    }\n",
       "</style>\n",
       "<table border=\"1\" class=\"dataframe\">\n",
       "  <thead>\n",
       "    <tr style=\"text-align: right;\">\n",
       "      <th></th>\n",
       "      <th>id</th>\n",
       "      <th>rated</th>\n",
       "      <th>turns</th>\n",
       "      <th>victory_status</th>\n",
       "      <th>winner</th>\n",
       "      <th>increment_code</th>\n",
       "      <th>white_id</th>\n",
       "      <th>white_rating</th>\n",
       "      <th>black_id</th>\n",
       "      <th>black_rating</th>\n",
       "      <th>...</th>\n",
       "      <th>white_bishops_lost</th>\n",
       "      <th>white_rooks_lost</th>\n",
       "      <th>white_queens_lost</th>\n",
       "      <th>black_pawns_lost</th>\n",
       "      <th>black_knights_lost</th>\n",
       "      <th>black_bishops_lost</th>\n",
       "      <th>black_rooks_lost</th>\n",
       "      <th>black_queens_lost</th>\n",
       "      <th>played_on_white_side</th>\n",
       "      <th>rating_difference</th>\n",
       "    </tr>\n",
       "  </thead>\n",
       "  <tbody>\n",
       "    <tr>\n",
       "      <th>950</th>\n",
       "      <td>XRuQPSzH</td>\n",
       "      <td>True</td>\n",
       "      <td>50</td>\n",
       "      <td>resign</td>\n",
       "      <td>black</td>\n",
       "      <td>10+0</td>\n",
       "      <td>chess-brahs</td>\n",
       "      <td>2036</td>\n",
       "      <td>cdvh</td>\n",
       "      <td>1706</td>\n",
       "      <td>...</td>\n",
       "      <td>1</td>\n",
       "      <td>0</td>\n",
       "      <td>0</td>\n",
       "      <td>1</td>\n",
       "      <td>2</td>\n",
       "      <td>0</td>\n",
       "      <td>0</td>\n",
       "      <td>0</td>\n",
       "      <td>0.700000</td>\n",
       "      <td>330</td>\n",
       "    </tr>\n",
       "    <tr>\n",
       "      <th>1794</th>\n",
       "      <td>x1Svcl0P</td>\n",
       "      <td>True</td>\n",
       "      <td>59</td>\n",
       "      <td>mate</td>\n",
       "      <td>white</td>\n",
       "      <td>10+0</td>\n",
       "      <td>kachess10204542</td>\n",
       "      <td>1171</td>\n",
       "      <td>quantummequanic</td>\n",
       "      <td>1432</td>\n",
       "      <td>...</td>\n",
       "      <td>1</td>\n",
       "      <td>1</td>\n",
       "      <td>0</td>\n",
       "      <td>3</td>\n",
       "      <td>2</td>\n",
       "      <td>2</td>\n",
       "      <td>0</td>\n",
       "      <td>1</td>\n",
       "      <td>0.508475</td>\n",
       "      <td>-261</td>\n",
       "    </tr>\n",
       "    <tr>\n",
       "      <th>1830</th>\n",
       "      <td>wgIHzqDo</td>\n",
       "      <td>True</td>\n",
       "      <td>113</td>\n",
       "      <td>mate</td>\n",
       "      <td>white</td>\n",
       "      <td>10+0</td>\n",
       "      <td>quantummequanic</td>\n",
       "      <td>1403</td>\n",
       "      <td>barrow-wight</td>\n",
       "      <td>1364</td>\n",
       "      <td>...</td>\n",
       "      <td>2</td>\n",
       "      <td>2</td>\n",
       "      <td>0</td>\n",
       "      <td>8</td>\n",
       "      <td>2</td>\n",
       "      <td>2</td>\n",
       "      <td>2</td>\n",
       "      <td>1</td>\n",
       "      <td>0.433628</td>\n",
       "      <td>39</td>\n",
       "    </tr>\n",
       "    <tr>\n",
       "      <th>2554</th>\n",
       "      <td>JrFxlGZo</td>\n",
       "      <td>False</td>\n",
       "      <td>78</td>\n",
       "      <td>mate</td>\n",
       "      <td>black</td>\n",
       "      <td>15+0</td>\n",
       "      <td>sp37578</td>\n",
       "      <td>1309</td>\n",
       "      <td>penguin100</td>\n",
       "      <td>1393</td>\n",
       "      <td>...</td>\n",
       "      <td>2</td>\n",
       "      <td>0</td>\n",
       "      <td>1</td>\n",
       "      <td>5</td>\n",
       "      <td>2</td>\n",
       "      <td>2</td>\n",
       "      <td>1</td>\n",
       "      <td>1</td>\n",
       "      <td>0.448718</td>\n",
       "      <td>-84</td>\n",
       "    </tr>\n",
       "    <tr>\n",
       "      <th>2556</th>\n",
       "      <td>ezKACesj</td>\n",
       "      <td>False</td>\n",
       "      <td>51</td>\n",
       "      <td>mate</td>\n",
       "      <td>white</td>\n",
       "      <td>15+0</td>\n",
       "      <td>penguin100</td>\n",
       "      <td>1393</td>\n",
       "      <td>sp37578</td>\n",
       "      <td>1309</td>\n",
       "      <td>...</td>\n",
       "      <td>1</td>\n",
       "      <td>1</td>\n",
       "      <td>0</td>\n",
       "      <td>1</td>\n",
       "      <td>2</td>\n",
       "      <td>2</td>\n",
       "      <td>2</td>\n",
       "      <td>1</td>\n",
       "      <td>0.372549</td>\n",
       "      <td>84</td>\n",
       "    </tr>\n",
       "    <tr>\n",
       "      <th>...</th>\n",
       "      <td>...</td>\n",
       "      <td>...</td>\n",
       "      <td>...</td>\n",
       "      <td>...</td>\n",
       "      <td>...</td>\n",
       "      <td>...</td>\n",
       "      <td>...</td>\n",
       "      <td>...</td>\n",
       "      <td>...</td>\n",
       "      <td>...</td>\n",
       "      <td>...</td>\n",
       "      <td>...</td>\n",
       "      <td>...</td>\n",
       "      <td>...</td>\n",
       "      <td>...</td>\n",
       "      <td>...</td>\n",
       "      <td>...</td>\n",
       "      <td>...</td>\n",
       "      <td>...</td>\n",
       "      <td>...</td>\n",
       "      <td>...</td>\n",
       "    </tr>\n",
       "    <tr>\n",
       "      <th>20013</th>\n",
       "      <td>Uk0pZCRR</td>\n",
       "      <td>True</td>\n",
       "      <td>95</td>\n",
       "      <td>resign</td>\n",
       "      <td>black</td>\n",
       "      <td>45+45</td>\n",
       "      <td>kferapont</td>\n",
       "      <td>2094</td>\n",
       "      <td>moistvonlipwig</td>\n",
       "      <td>2228</td>\n",
       "      <td>...</td>\n",
       "      <td>2</td>\n",
       "      <td>2</td>\n",
       "      <td>1</td>\n",
       "      <td>7</td>\n",
       "      <td>2</td>\n",
       "      <td>1</td>\n",
       "      <td>2</td>\n",
       "      <td>1</td>\n",
       "      <td>0.463158</td>\n",
       "      <td>-134</td>\n",
       "    </tr>\n",
       "    <tr>\n",
       "      <th>20014</th>\n",
       "      <td>ZhZm1ol9</td>\n",
       "      <td>True</td>\n",
       "      <td>109</td>\n",
       "      <td>draw</td>\n",
       "      <td>draw</td>\n",
       "      <td>45+45</td>\n",
       "      <td>moistvonlipwig</td>\n",
       "      <td>2229</td>\n",
       "      <td>mn8</td>\n",
       "      <td>2220</td>\n",
       "      <td>...</td>\n",
       "      <td>1</td>\n",
       "      <td>2</td>\n",
       "      <td>1</td>\n",
       "      <td>7</td>\n",
       "      <td>2</td>\n",
       "      <td>2</td>\n",
       "      <td>1</td>\n",
       "      <td>1</td>\n",
       "      <td>0.422018</td>\n",
       "      <td>9</td>\n",
       "    </tr>\n",
       "    <tr>\n",
       "      <th>20015</th>\n",
       "      <td>fpqjttDx</td>\n",
       "      <td>True</td>\n",
       "      <td>42</td>\n",
       "      <td>resign</td>\n",
       "      <td>black</td>\n",
       "      <td>7+30</td>\n",
       "      <td>waltersafarian</td>\n",
       "      <td>2162</td>\n",
       "      <td>moistvonlipwig</td>\n",
       "      <td>2214</td>\n",
       "      <td>...</td>\n",
       "      <td>2</td>\n",
       "      <td>1</td>\n",
       "      <td>0</td>\n",
       "      <td>2</td>\n",
       "      <td>1</td>\n",
       "      <td>1</td>\n",
       "      <td>1</td>\n",
       "      <td>0</td>\n",
       "      <td>0.547619</td>\n",
       "      <td>-52</td>\n",
       "    </tr>\n",
       "    <tr>\n",
       "      <th>20016</th>\n",
       "      <td>lzPgCJCS</td>\n",
       "      <td>True</td>\n",
       "      <td>102</td>\n",
       "      <td>resign</td>\n",
       "      <td>black</td>\n",
       "      <td>7+30</td>\n",
       "      <td>moistvonlipwig</td>\n",
       "      <td>2236</td>\n",
       "      <td>waltersafarian</td>\n",
       "      <td>2148</td>\n",
       "      <td>...</td>\n",
       "      <td>2</td>\n",
       "      <td>2</td>\n",
       "      <td>1</td>\n",
       "      <td>5</td>\n",
       "      <td>2</td>\n",
       "      <td>2</td>\n",
       "      <td>2</td>\n",
       "      <td>0</td>\n",
       "      <td>0.617647</td>\n",
       "      <td>88</td>\n",
       "    </tr>\n",
       "    <tr>\n",
       "      <th>20017</th>\n",
       "      <td>p391pBJv</td>\n",
       "      <td>True</td>\n",
       "      <td>97</td>\n",
       "      <td>resign</td>\n",
       "      <td>white</td>\n",
       "      <td>60+30</td>\n",
       "      <td>i9_4_2001</td>\n",
       "      <td>2268</td>\n",
       "      <td>moistvonlipwig</td>\n",
       "      <td>2254</td>\n",
       "      <td>...</td>\n",
       "      <td>1</td>\n",
       "      <td>2</td>\n",
       "      <td>0</td>\n",
       "      <td>6</td>\n",
       "      <td>2</td>\n",
       "      <td>2</td>\n",
       "      <td>0</td>\n",
       "      <td>1</td>\n",
       "      <td>0.484536</td>\n",
       "      <td>14</td>\n",
       "    </tr>\n",
       "  </tbody>\n",
       "</table>\n",
       "<p>945 rows × 29 columns</p>\n",
       "</div>"
      ],
      "text/plain": [
       "             id  rated  turns victory_status winner increment_code  \\\n",
       "950    XRuQPSzH   True     50         resign  black           10+0   \n",
       "1794   x1Svcl0P   True     59           mate  white           10+0   \n",
       "1830   wgIHzqDo   True    113           mate  white           10+0   \n",
       "2554   JrFxlGZo  False     78           mate  black           15+0   \n",
       "2556   ezKACesj  False     51           mate  white           15+0   \n",
       "...         ...    ...    ...            ...    ...            ...   \n",
       "20013  Uk0pZCRR   True     95         resign  black          45+45   \n",
       "20014  ZhZm1ol9   True    109           draw   draw          45+45   \n",
       "20015  fpqjttDx   True     42         resign  black           7+30   \n",
       "20016  lzPgCJCS   True    102         resign  black           7+30   \n",
       "20017  p391pBJv   True     97         resign  white          60+30   \n",
       "\n",
       "              white_id  white_rating         black_id  black_rating  ...  \\\n",
       "950        chess-brahs          2036             cdvh          1706  ...   \n",
       "1794   kachess10204542          1171  quantummequanic          1432  ...   \n",
       "1830   quantummequanic          1403     barrow-wight          1364  ...   \n",
       "2554           sp37578          1309       penguin100          1393  ...   \n",
       "2556        penguin100          1393          sp37578          1309  ...   \n",
       "...                ...           ...              ...           ...  ...   \n",
       "20013        kferapont          2094   moistvonlipwig          2228  ...   \n",
       "20014   moistvonlipwig          2229              mn8          2220  ...   \n",
       "20015   waltersafarian          2162   moistvonlipwig          2214  ...   \n",
       "20016   moistvonlipwig          2236   waltersafarian          2148  ...   \n",
       "20017        i9_4_2001          2268   moistvonlipwig          2254  ...   \n",
       "\n",
       "      white_bishops_lost white_rooks_lost white_queens_lost  black_pawns_lost  \\\n",
       "950                    1                0                 0                 1   \n",
       "1794                   1                1                 0                 3   \n",
       "1830                   2                2                 0                 8   \n",
       "2554                   2                0                 1                 5   \n",
       "2556                   1                1                 0                 1   \n",
       "...                  ...              ...               ...               ...   \n",
       "20013                  2                2                 1                 7   \n",
       "20014                  1                2                 1                 7   \n",
       "20015                  2                1                 0                 2   \n",
       "20016                  2                2                 1                 5   \n",
       "20017                  1                2                 0                 6   \n",
       "\n",
       "       black_knights_lost black_bishops_lost black_rooks_lost  \\\n",
       "950                     2                  0                0   \n",
       "1794                    2                  2                0   \n",
       "1830                    2                  2                2   \n",
       "2554                    2                  2                1   \n",
       "2556                    2                  2                2   \n",
       "...                   ...                ...              ...   \n",
       "20013                   2                  1                2   \n",
       "20014                   2                  2                1   \n",
       "20015                   1                  1                1   \n",
       "20016                   2                  2                2   \n",
       "20017                   2                  2                0   \n",
       "\n",
       "       black_queens_lost  played_on_white_side  rating_difference  \n",
       "950                    0              0.700000                330  \n",
       "1794                   1              0.508475               -261  \n",
       "1830                   1              0.433628                 39  \n",
       "2554                   1              0.448718                -84  \n",
       "2556                   1              0.372549                 84  \n",
       "...                  ...                   ...                ...  \n",
       "20013                  1              0.463158               -134  \n",
       "20014                  1              0.422018                  9  \n",
       "20015                  0              0.547619                -52  \n",
       "20016                  0              0.617647                 88  \n",
       "20017                  1              0.484536                 14  \n",
       "\n",
       "[945 rows x 29 columns]"
      ]
     },
     "execution_count": 3,
     "metadata": {},
     "output_type": "execute_result"
    }
   ],
   "source": [
    "df[df.duplicated()]"
   ]
  },
  {
   "cell_type": "markdown",
   "id": "4eb8f56a-06af-45c2-9d9a-0387ba89abfc",
   "metadata": {},
   "source": [
    "It's a bit suspicious how many duplicites are there, so let's check manually. Down bellow it may be seen that for one match there are 5 records."
   ]
  },
  {
   "cell_type": "code",
   "execution_count": 4,
   "id": "7fe90c39-3d9e-428f-9e6d-bb3e570a9798",
   "metadata": {
    "execution": {
     "iopub.execute_input": "2023-01-22T12:56:57.371593Z",
     "iopub.status.busy": "2023-01-22T12:56:57.371593Z",
     "iopub.status.idle": "2023-01-22T12:56:57.386109Z",
     "shell.execute_reply": "2023-01-22T12:56:57.386109Z",
     "shell.execute_reply.started": "2023-01-22T12:56:57.371593Z"
    },
    "tags": []
   },
   "outputs": [
    {
     "data": {
      "text/html": [
       "<div>\n",
       "<style scoped>\n",
       "    .dataframe tbody tr th:only-of-type {\n",
       "        vertical-align: middle;\n",
       "    }\n",
       "\n",
       "    .dataframe tbody tr th {\n",
       "        vertical-align: top;\n",
       "    }\n",
       "\n",
       "    .dataframe thead th {\n",
       "        text-align: right;\n",
       "    }\n",
       "</style>\n",
       "<table border=\"1\" class=\"dataframe\">\n",
       "  <thead>\n",
       "    <tr style=\"text-align: right;\">\n",
       "      <th></th>\n",
       "      <th>id</th>\n",
       "      <th>rated</th>\n",
       "      <th>turns</th>\n",
       "      <th>victory_status</th>\n",
       "      <th>winner</th>\n",
       "      <th>increment_code</th>\n",
       "      <th>white_id</th>\n",
       "      <th>white_rating</th>\n",
       "      <th>black_id</th>\n",
       "      <th>black_rating</th>\n",
       "      <th>...</th>\n",
       "      <th>white_bishops_lost</th>\n",
       "      <th>white_rooks_lost</th>\n",
       "      <th>white_queens_lost</th>\n",
       "      <th>black_pawns_lost</th>\n",
       "      <th>black_knights_lost</th>\n",
       "      <th>black_bishops_lost</th>\n",
       "      <th>black_rooks_lost</th>\n",
       "      <th>black_queens_lost</th>\n",
       "      <th>played_on_white_side</th>\n",
       "      <th>rating_difference</th>\n",
       "    </tr>\n",
       "  </thead>\n",
       "  <tbody>\n",
       "    <tr>\n",
       "      <th>120</th>\n",
       "      <td>XRuQPSzH</td>\n",
       "      <td>True</td>\n",
       "      <td>50</td>\n",
       "      <td>resign</td>\n",
       "      <td>black</td>\n",
       "      <td>10+0</td>\n",
       "      <td>chess-brahs</td>\n",
       "      <td>2036</td>\n",
       "      <td>cdvh</td>\n",
       "      <td>1706</td>\n",
       "      <td>...</td>\n",
       "      <td>1</td>\n",
       "      <td>0</td>\n",
       "      <td>0</td>\n",
       "      <td>1</td>\n",
       "      <td>2</td>\n",
       "      <td>0</td>\n",
       "      <td>0</td>\n",
       "      <td>0</td>\n",
       "      <td>0.7</td>\n",
       "      <td>330</td>\n",
       "    </tr>\n",
       "    <tr>\n",
       "      <th>950</th>\n",
       "      <td>XRuQPSzH</td>\n",
       "      <td>True</td>\n",
       "      <td>50</td>\n",
       "      <td>resign</td>\n",
       "      <td>black</td>\n",
       "      <td>10+0</td>\n",
       "      <td>chess-brahs</td>\n",
       "      <td>2036</td>\n",
       "      <td>cdvh</td>\n",
       "      <td>1706</td>\n",
       "      <td>...</td>\n",
       "      <td>1</td>\n",
       "      <td>0</td>\n",
       "      <td>0</td>\n",
       "      <td>1</td>\n",
       "      <td>2</td>\n",
       "      <td>0</td>\n",
       "      <td>0</td>\n",
       "      <td>0</td>\n",
       "      <td>0.7</td>\n",
       "      <td>330</td>\n",
       "    </tr>\n",
       "    <tr>\n",
       "      <th>12412</th>\n",
       "      <td>XRuQPSzH</td>\n",
       "      <td>True</td>\n",
       "      <td>50</td>\n",
       "      <td>resign</td>\n",
       "      <td>black</td>\n",
       "      <td>10+0</td>\n",
       "      <td>chess-brahs</td>\n",
       "      <td>2036</td>\n",
       "      <td>cdvh</td>\n",
       "      <td>1706</td>\n",
       "      <td>...</td>\n",
       "      <td>1</td>\n",
       "      <td>0</td>\n",
       "      <td>0</td>\n",
       "      <td>1</td>\n",
       "      <td>2</td>\n",
       "      <td>0</td>\n",
       "      <td>0</td>\n",
       "      <td>0</td>\n",
       "      <td>0.7</td>\n",
       "      <td>330</td>\n",
       "    </tr>\n",
       "    <tr>\n",
       "      <th>13729</th>\n",
       "      <td>XRuQPSzH</td>\n",
       "      <td>True</td>\n",
       "      <td>50</td>\n",
       "      <td>resign</td>\n",
       "      <td>black</td>\n",
       "      <td>10+0</td>\n",
       "      <td>chess-brahs</td>\n",
       "      <td>2036</td>\n",
       "      <td>cdvh</td>\n",
       "      <td>1706</td>\n",
       "      <td>...</td>\n",
       "      <td>1</td>\n",
       "      <td>0</td>\n",
       "      <td>0</td>\n",
       "      <td>1</td>\n",
       "      <td>2</td>\n",
       "      <td>0</td>\n",
       "      <td>0</td>\n",
       "      <td>0</td>\n",
       "      <td>0.7</td>\n",
       "      <td>330</td>\n",
       "    </tr>\n",
       "    <tr>\n",
       "      <th>14403</th>\n",
       "      <td>XRuQPSzH</td>\n",
       "      <td>True</td>\n",
       "      <td>50</td>\n",
       "      <td>resign</td>\n",
       "      <td>black</td>\n",
       "      <td>10+0</td>\n",
       "      <td>chess-brahs</td>\n",
       "      <td>2036</td>\n",
       "      <td>cdvh</td>\n",
       "      <td>1706</td>\n",
       "      <td>...</td>\n",
       "      <td>1</td>\n",
       "      <td>0</td>\n",
       "      <td>0</td>\n",
       "      <td>1</td>\n",
       "      <td>2</td>\n",
       "      <td>0</td>\n",
       "      <td>0</td>\n",
       "      <td>0</td>\n",
       "      <td>0.7</td>\n",
       "      <td>330</td>\n",
       "    </tr>\n",
       "  </tbody>\n",
       "</table>\n",
       "<p>5 rows × 29 columns</p>\n",
       "</div>"
      ],
      "text/plain": [
       "             id  rated  turns victory_status winner increment_code  \\\n",
       "120    XRuQPSzH   True     50         resign  black           10+0   \n",
       "950    XRuQPSzH   True     50         resign  black           10+0   \n",
       "12412  XRuQPSzH   True     50         resign  black           10+0   \n",
       "13729  XRuQPSzH   True     50         resign  black           10+0   \n",
       "14403  XRuQPSzH   True     50         resign  black           10+0   \n",
       "\n",
       "          white_id  white_rating black_id  black_rating  ...  \\\n",
       "120    chess-brahs          2036     cdvh          1706  ...   \n",
       "950    chess-brahs          2036     cdvh          1706  ...   \n",
       "12412  chess-brahs          2036     cdvh          1706  ...   \n",
       "13729  chess-brahs          2036     cdvh          1706  ...   \n",
       "14403  chess-brahs          2036     cdvh          1706  ...   \n",
       "\n",
       "      white_bishops_lost white_rooks_lost white_queens_lost  black_pawns_lost  \\\n",
       "120                    1                0                 0                 1   \n",
       "950                    1                0                 0                 1   \n",
       "12412                  1                0                 0                 1   \n",
       "13729                  1                0                 0                 1   \n",
       "14403                  1                0                 0                 1   \n",
       "\n",
       "       black_knights_lost black_bishops_lost black_rooks_lost  \\\n",
       "120                     2                  0                0   \n",
       "950                     2                  0                0   \n",
       "12412                   2                  0                0   \n",
       "13729                   2                  0                0   \n",
       "14403                   2                  0                0   \n",
       "\n",
       "       black_queens_lost  played_on_white_side  rating_difference  \n",
       "120                    0                   0.7                330  \n",
       "950                    0                   0.7                330  \n",
       "12412                  0                   0.7                330  \n",
       "13729                  0                   0.7                330  \n",
       "14403                  0                   0.7                330  \n",
       "\n",
       "[5 rows x 29 columns]"
      ]
     },
     "execution_count": 4,
     "metadata": {},
     "output_type": "execute_result"
    }
   ],
   "source": [
    "df[df['id'] == 'XRuQPSzH']"
   ]
  },
  {
   "cell_type": "markdown",
   "id": "06bc483e-33b2-40b8-b023-6b6cdb06bb84",
   "metadata": {},
   "source": [
    "So let's just keep the first one."
   ]
  },
  {
   "cell_type": "code",
   "execution_count": 5,
   "id": "69e86283-fcc6-4706-a251-c18e55b02e99",
   "metadata": {
    "execution": {
     "iopub.execute_input": "2023-01-22T12:56:57.388110Z",
     "iopub.status.busy": "2023-01-22T12:56:57.387109Z",
     "iopub.status.idle": "2023-01-22T12:56:57.448753Z",
     "shell.execute_reply": "2023-01-22T12:56:57.448753Z",
     "shell.execute_reply.started": "2023-01-22T12:56:57.388110Z"
    },
    "tags": []
   },
   "outputs": [
    {
     "data": {
      "text/plain": [
       "(19113, 29)"
      ]
     },
     "execution_count": 5,
     "metadata": {},
     "output_type": "execute_result"
    }
   ],
   "source": [
    "df = df[~df.duplicated()]\n",
    "df.shape"
   ]
  },
  {
   "cell_type": "markdown",
   "id": "ee58795a-b6be-46ef-bb92-7ff8a4c0dbe9",
   "metadata": {},
   "source": [
    "So dataframe is now reduced to 19k rows."
   ]
  },
  {
   "cell_type": "markdown",
   "id": "1de2e0f1-0c85-46c5-9b7d-eb1d7a37656a",
   "metadata": {},
   "source": [
    "### 5.3/ Drop useless features\n",
    "Some features were dropped in the previous notebook. Add also features:\n",
    "- `id` since it's just an id\n",
    "- `moves` since it is already preprocessed in the previous notebook"
   ]
  },
  {
   "cell_type": "code",
   "execution_count": 6,
   "id": "2cf7d4d5-eec9-430f-aab4-13b50470b730",
   "metadata": {
    "execution": {
     "iopub.execute_input": "2023-01-22T12:56:57.450260Z",
     "iopub.status.busy": "2023-01-22T12:56:57.450260Z",
     "iopub.status.idle": "2023-01-22T12:56:57.463775Z",
     "shell.execute_reply": "2023-01-22T12:56:57.463775Z",
     "shell.execute_reply.started": "2023-01-22T12:56:57.450260Z"
    },
    "tags": []
   },
   "outputs": [],
   "source": [
    "df.drop(['id', 'moves'], axis=1, inplace=True)"
   ]
  },
  {
   "cell_type": "code",
   "execution_count": 7,
   "id": "6e0ef1bb-e06e-4b07-ad5d-0b9324766c99",
   "metadata": {
    "execution": {
     "iopub.execute_input": "2023-01-22T12:56:57.465776Z",
     "iopub.status.busy": "2023-01-22T12:56:57.464777Z",
     "iopub.status.idle": "2023-01-22T12:56:57.495309Z",
     "shell.execute_reply": "2023-01-22T12:56:57.495309Z",
     "shell.execute_reply.started": "2023-01-22T12:56:57.465776Z"
    },
    "tags": []
   },
   "outputs": [
    {
     "data": {
      "text/html": [
       "<div>\n",
       "<style scoped>\n",
       "    .dataframe tbody tr th:only-of-type {\n",
       "        vertical-align: middle;\n",
       "    }\n",
       "\n",
       "    .dataframe tbody tr th {\n",
       "        vertical-align: top;\n",
       "    }\n",
       "\n",
       "    .dataframe thead th {\n",
       "        text-align: right;\n",
       "    }\n",
       "</style>\n",
       "<table border=\"1\" class=\"dataframe\">\n",
       "  <thead>\n",
       "    <tr style=\"text-align: right;\">\n",
       "      <th></th>\n",
       "      <th>rated</th>\n",
       "      <th>turns</th>\n",
       "      <th>victory_status</th>\n",
       "      <th>winner</th>\n",
       "      <th>increment_code</th>\n",
       "      <th>white_id</th>\n",
       "      <th>white_rating</th>\n",
       "      <th>black_id</th>\n",
       "      <th>black_rating</th>\n",
       "      <th>opening_eco</th>\n",
       "      <th>...</th>\n",
       "      <th>white_bishops_lost</th>\n",
       "      <th>white_rooks_lost</th>\n",
       "      <th>white_queens_lost</th>\n",
       "      <th>black_pawns_lost</th>\n",
       "      <th>black_knights_lost</th>\n",
       "      <th>black_bishops_lost</th>\n",
       "      <th>black_rooks_lost</th>\n",
       "      <th>black_queens_lost</th>\n",
       "      <th>played_on_white_side</th>\n",
       "      <th>rating_difference</th>\n",
       "    </tr>\n",
       "  </thead>\n",
       "  <tbody>\n",
       "    <tr>\n",
       "      <th>0</th>\n",
       "      <td>False</td>\n",
       "      <td>13</td>\n",
       "      <td>outoftime</td>\n",
       "      <td>white</td>\n",
       "      <td>15+2</td>\n",
       "      <td>bourgris</td>\n",
       "      <td>1500</td>\n",
       "      <td>a-00</td>\n",
       "      <td>1191</td>\n",
       "      <td>D10</td>\n",
       "      <td>...</td>\n",
       "      <td>0</td>\n",
       "      <td>0</td>\n",
       "      <td>0</td>\n",
       "      <td>2</td>\n",
       "      <td>0</td>\n",
       "      <td>0</td>\n",
       "      <td>0</td>\n",
       "      <td>0</td>\n",
       "      <td>0.461538</td>\n",
       "      <td>309</td>\n",
       "    </tr>\n",
       "    <tr>\n",
       "      <th>1</th>\n",
       "      <td>True</td>\n",
       "      <td>16</td>\n",
       "      <td>resign</td>\n",
       "      <td>black</td>\n",
       "      <td>5+10</td>\n",
       "      <td>a-00</td>\n",
       "      <td>1322</td>\n",
       "      <td>skinnerua</td>\n",
       "      <td>1261</td>\n",
       "      <td>B00</td>\n",
       "      <td>...</td>\n",
       "      <td>0</td>\n",
       "      <td>0</td>\n",
       "      <td>1</td>\n",
       "      <td>2</td>\n",
       "      <td>0</td>\n",
       "      <td>0</td>\n",
       "      <td>0</td>\n",
       "      <td>0</td>\n",
       "      <td>0.375000</td>\n",
       "      <td>61</td>\n",
       "    </tr>\n",
       "    <tr>\n",
       "      <th>2</th>\n",
       "      <td>True</td>\n",
       "      <td>61</td>\n",
       "      <td>mate</td>\n",
       "      <td>white</td>\n",
       "      <td>5+10</td>\n",
       "      <td>ischia</td>\n",
       "      <td>1496</td>\n",
       "      <td>a-00</td>\n",
       "      <td>1500</td>\n",
       "      <td>C20</td>\n",
       "      <td>...</td>\n",
       "      <td>1</td>\n",
       "      <td>0</td>\n",
       "      <td>0</td>\n",
       "      <td>7</td>\n",
       "      <td>2</td>\n",
       "      <td>2</td>\n",
       "      <td>2</td>\n",
       "      <td>1</td>\n",
       "      <td>0.377049</td>\n",
       "      <td>-4</td>\n",
       "    </tr>\n",
       "    <tr>\n",
       "      <th>3</th>\n",
       "      <td>True</td>\n",
       "      <td>61</td>\n",
       "      <td>mate</td>\n",
       "      <td>white</td>\n",
       "      <td>20+0</td>\n",
       "      <td>daniamurashov</td>\n",
       "      <td>1439</td>\n",
       "      <td>adivanov2009</td>\n",
       "      <td>1454</td>\n",
       "      <td>D02</td>\n",
       "      <td>...</td>\n",
       "      <td>1</td>\n",
       "      <td>0</td>\n",
       "      <td>0</td>\n",
       "      <td>4</td>\n",
       "      <td>2</td>\n",
       "      <td>2</td>\n",
       "      <td>1</td>\n",
       "      <td>1</td>\n",
       "      <td>0.377049</td>\n",
       "      <td>-15</td>\n",
       "    </tr>\n",
       "    <tr>\n",
       "      <th>4</th>\n",
       "      <td>True</td>\n",
       "      <td>95</td>\n",
       "      <td>mate</td>\n",
       "      <td>white</td>\n",
       "      <td>30+3</td>\n",
       "      <td>nik221107</td>\n",
       "      <td>1523</td>\n",
       "      <td>adivanov2009</td>\n",
       "      <td>1469</td>\n",
       "      <td>C41</td>\n",
       "      <td>...</td>\n",
       "      <td>2</td>\n",
       "      <td>1</td>\n",
       "      <td>0</td>\n",
       "      <td>7</td>\n",
       "      <td>2</td>\n",
       "      <td>2</td>\n",
       "      <td>2</td>\n",
       "      <td>1</td>\n",
       "      <td>0.400000</td>\n",
       "      <td>54</td>\n",
       "    </tr>\n",
       "    <tr>\n",
       "      <th>...</th>\n",
       "      <td>...</td>\n",
       "      <td>...</td>\n",
       "      <td>...</td>\n",
       "      <td>...</td>\n",
       "      <td>...</td>\n",
       "      <td>...</td>\n",
       "      <td>...</td>\n",
       "      <td>...</td>\n",
       "      <td>...</td>\n",
       "      <td>...</td>\n",
       "      <td>...</td>\n",
       "      <td>...</td>\n",
       "      <td>...</td>\n",
       "      <td>...</td>\n",
       "      <td>...</td>\n",
       "      <td>...</td>\n",
       "      <td>...</td>\n",
       "      <td>...</td>\n",
       "      <td>...</td>\n",
       "      <td>...</td>\n",
       "      <td>...</td>\n",
       "    </tr>\n",
       "    <tr>\n",
       "      <th>20053</th>\n",
       "      <td>True</td>\n",
       "      <td>24</td>\n",
       "      <td>resign</td>\n",
       "      <td>white</td>\n",
       "      <td>10+10</td>\n",
       "      <td>belcolt</td>\n",
       "      <td>1691</td>\n",
       "      <td>jamboger</td>\n",
       "      <td>1220</td>\n",
       "      <td>A80</td>\n",
       "      <td>...</td>\n",
       "      <td>0</td>\n",
       "      <td>0</td>\n",
       "      <td>0</td>\n",
       "      <td>2</td>\n",
       "      <td>0</td>\n",
       "      <td>0</td>\n",
       "      <td>0</td>\n",
       "      <td>0</td>\n",
       "      <td>0.375000</td>\n",
       "      <td>471</td>\n",
       "    </tr>\n",
       "    <tr>\n",
       "      <th>20054</th>\n",
       "      <td>True</td>\n",
       "      <td>82</td>\n",
       "      <td>mate</td>\n",
       "      <td>black</td>\n",
       "      <td>10+0</td>\n",
       "      <td>jamboger</td>\n",
       "      <td>1233</td>\n",
       "      <td>farrukhasomiddinov</td>\n",
       "      <td>1196</td>\n",
       "      <td>A41</td>\n",
       "      <td>...</td>\n",
       "      <td>2</td>\n",
       "      <td>2</td>\n",
       "      <td>0</td>\n",
       "      <td>3</td>\n",
       "      <td>2</td>\n",
       "      <td>2</td>\n",
       "      <td>2</td>\n",
       "      <td>0</td>\n",
       "      <td>0.560976</td>\n",
       "      <td>37</td>\n",
       "    </tr>\n",
       "    <tr>\n",
       "      <th>20055</th>\n",
       "      <td>True</td>\n",
       "      <td>35</td>\n",
       "      <td>mate</td>\n",
       "      <td>white</td>\n",
       "      <td>10+0</td>\n",
       "      <td>jamboger</td>\n",
       "      <td>1219</td>\n",
       "      <td>schaaksmurf3</td>\n",
       "      <td>1286</td>\n",
       "      <td>D00</td>\n",
       "      <td>...</td>\n",
       "      <td>1</td>\n",
       "      <td>0</td>\n",
       "      <td>0</td>\n",
       "      <td>1</td>\n",
       "      <td>1</td>\n",
       "      <td>0</td>\n",
       "      <td>0</td>\n",
       "      <td>0</td>\n",
       "      <td>0.285714</td>\n",
       "      <td>-67</td>\n",
       "    </tr>\n",
       "    <tr>\n",
       "      <th>20056</th>\n",
       "      <td>True</td>\n",
       "      <td>109</td>\n",
       "      <td>resign</td>\n",
       "      <td>white</td>\n",
       "      <td>10+0</td>\n",
       "      <td>marcodisogno</td>\n",
       "      <td>1360</td>\n",
       "      <td>jamboger</td>\n",
       "      <td>1227</td>\n",
       "      <td>B07</td>\n",
       "      <td>...</td>\n",
       "      <td>2</td>\n",
       "      <td>1</td>\n",
       "      <td>0</td>\n",
       "      <td>7</td>\n",
       "      <td>2</td>\n",
       "      <td>2</td>\n",
       "      <td>2</td>\n",
       "      <td>1</td>\n",
       "      <td>0.412844</td>\n",
       "      <td>133</td>\n",
       "    </tr>\n",
       "    <tr>\n",
       "      <th>20057</th>\n",
       "      <td>True</td>\n",
       "      <td>78</td>\n",
       "      <td>mate</td>\n",
       "      <td>black</td>\n",
       "      <td>10+0</td>\n",
       "      <td>jamboger</td>\n",
       "      <td>1235</td>\n",
       "      <td>ffbob</td>\n",
       "      <td>1339</td>\n",
       "      <td>D00</td>\n",
       "      <td>...</td>\n",
       "      <td>2</td>\n",
       "      <td>2</td>\n",
       "      <td>0</td>\n",
       "      <td>5</td>\n",
       "      <td>2</td>\n",
       "      <td>2</td>\n",
       "      <td>1</td>\n",
       "      <td>0</td>\n",
       "      <td>0.589744</td>\n",
       "      <td>-104</td>\n",
       "    </tr>\n",
       "  </tbody>\n",
       "</table>\n",
       "<p>19113 rows × 27 columns</p>\n",
       "</div>"
      ],
      "text/plain": [
       "       rated  turns victory_status winner increment_code       white_id  \\\n",
       "0      False     13      outoftime  white           15+2       bourgris   \n",
       "1       True     16         resign  black           5+10           a-00   \n",
       "2       True     61           mate  white           5+10         ischia   \n",
       "3       True     61           mate  white           20+0  daniamurashov   \n",
       "4       True     95           mate  white           30+3      nik221107   \n",
       "...      ...    ...            ...    ...            ...            ...   \n",
       "20053   True     24         resign  white          10+10        belcolt   \n",
       "20054   True     82           mate  black           10+0       jamboger   \n",
       "20055   True     35           mate  white           10+0       jamboger   \n",
       "20056   True    109         resign  white           10+0   marcodisogno   \n",
       "20057   True     78           mate  black           10+0       jamboger   \n",
       "\n",
       "       white_rating            black_id  black_rating opening_eco  ...  \\\n",
       "0              1500                a-00          1191         D10  ...   \n",
       "1              1322           skinnerua          1261         B00  ...   \n",
       "2              1496                a-00          1500         C20  ...   \n",
       "3              1439        adivanov2009          1454         D02  ...   \n",
       "4              1523        adivanov2009          1469         C41  ...   \n",
       "...             ...                 ...           ...         ...  ...   \n",
       "20053          1691            jamboger          1220         A80  ...   \n",
       "20054          1233  farrukhasomiddinov          1196         A41  ...   \n",
       "20055          1219        schaaksmurf3          1286         D00  ...   \n",
       "20056          1360            jamboger          1227         B07  ...   \n",
       "20057          1235               ffbob          1339         D00  ...   \n",
       "\n",
       "      white_bishops_lost  white_rooks_lost  white_queens_lost  \\\n",
       "0                      0                 0                  0   \n",
       "1                      0                 0                  1   \n",
       "2                      1                 0                  0   \n",
       "3                      1                 0                  0   \n",
       "4                      2                 1                  0   \n",
       "...                  ...               ...                ...   \n",
       "20053                  0                 0                  0   \n",
       "20054                  2                 2                  0   \n",
       "20055                  1                 0                  0   \n",
       "20056                  2                 1                  0   \n",
       "20057                  2                 2                  0   \n",
       "\n",
       "      black_pawns_lost black_knights_lost  black_bishops_lost  \\\n",
       "0                    2                  0                   0   \n",
       "1                    2                  0                   0   \n",
       "2                    7                  2                   2   \n",
       "3                    4                  2                   2   \n",
       "4                    7                  2                   2   \n",
       "...                ...                ...                 ...   \n",
       "20053                2                  0                   0   \n",
       "20054                3                  2                   2   \n",
       "20055                1                  1                   0   \n",
       "20056                7                  2                   2   \n",
       "20057                5                  2                   2   \n",
       "\n",
       "       black_rooks_lost  black_queens_lost  played_on_white_side  \\\n",
       "0                     0                  0              0.461538   \n",
       "1                     0                  0              0.375000   \n",
       "2                     2                  1              0.377049   \n",
       "3                     1                  1              0.377049   \n",
       "4                     2                  1              0.400000   \n",
       "...                 ...                ...                   ...   \n",
       "20053                 0                  0              0.375000   \n",
       "20054                 2                  0              0.560976   \n",
       "20055                 0                  0              0.285714   \n",
       "20056                 2                  1              0.412844   \n",
       "20057                 1                  0              0.589744   \n",
       "\n",
       "       rating_difference  \n",
       "0                    309  \n",
       "1                     61  \n",
       "2                     -4  \n",
       "3                    -15  \n",
       "4                     54  \n",
       "...                  ...  \n",
       "20053                471  \n",
       "20054                 37  \n",
       "20055                -67  \n",
       "20056                133  \n",
       "20057               -104  \n",
       "\n",
       "[19113 rows x 27 columns]"
      ]
     },
     "execution_count": 7,
     "metadata": {},
     "output_type": "execute_result"
    }
   ],
   "source": [
    "df"
   ]
  },
  {
   "cell_type": "markdown",
   "id": "a22d19a3-b059-48d5-8b03-4a56215c0c70",
   "metadata": {},
   "source": [
    "### 5.4/ Data type conversion\n",
    "Following features will be changed:\n",
    "- `victory_status` ➡️ Category\n",
    "- `winner` ➡️ Category\n",
    "- `increment_code` ➡️ Category\n",
    "- `white_id` ➡️ Category\n",
    "- `black_id` ➡️ Category\n",
    "- `opening_eco` ➡️ Category\n",
    "- `opening_name` ➡️ Category\n",
    "- `last_move_piece` ➡️ Category"
   ]
  },
  {
   "cell_type": "code",
   "execution_count": 8,
   "id": "5bf972dc-da36-40c5-b722-084114b77d74",
   "metadata": {
    "execution": {
     "iopub.execute_input": "2023-01-22T12:56:57.497311Z",
     "iopub.status.busy": "2023-01-22T12:56:57.496317Z",
     "iopub.status.idle": "2023-01-22T12:56:57.542562Z",
     "shell.execute_reply": "2023-01-22T12:56:57.541562Z",
     "shell.execute_reply.started": "2023-01-22T12:56:57.497311Z"
    },
    "tags": []
   },
   "outputs": [
    {
     "name": "stdout",
     "output_type": "stream",
     "text": [
      "<class 'pandas.core.frame.DataFrame'>\n",
      "Int64Index: 19113 entries, 0 to 20057\n",
      "Data columns (total 27 columns):\n",
      " #   Column                Non-Null Count  Dtype   \n",
      "---  ------                --------------  -----   \n",
      " 0   rated                 19113 non-null  bool    \n",
      " 1   turns                 19113 non-null  int64   \n",
      " 2   victory_status        19113 non-null  category\n",
      " 3   winner                19113 non-null  category\n",
      " 4   increment_code        19113 non-null  category\n",
      " 5   white_id              19113 non-null  category\n",
      " 6   white_rating          19113 non-null  int64   \n",
      " 7   black_id              19113 non-null  category\n",
      " 8   black_rating          19113 non-null  int64   \n",
      " 9   opening_eco           19113 non-null  category\n",
      " 10  opening_name          19113 non-null  category\n",
      " 11  opening_ply           19113 non-null  int64   \n",
      " 12  is_checkmate          19113 non-null  bool    \n",
      " 13  last_move_piece       19113 non-null  category\n",
      " 14  last_move             19113 non-null  object  \n",
      " 15  white_pawns_lost      19113 non-null  int64   \n",
      " 16  white_knights_lost    19113 non-null  int64   \n",
      " 17  white_bishops_lost    19113 non-null  int64   \n",
      " 18  white_rooks_lost      19113 non-null  int64   \n",
      " 19  white_queens_lost     19113 non-null  int64   \n",
      " 20  black_pawns_lost      19113 non-null  int64   \n",
      " 21  black_knights_lost    19113 non-null  int64   \n",
      " 22  black_bishops_lost    19113 non-null  int64   \n",
      " 23  black_rooks_lost      19113 non-null  int64   \n",
      " 24  black_queens_lost     19113 non-null  int64   \n",
      " 25  played_on_white_side  19113 non-null  float64 \n",
      " 26  rating_difference     19113 non-null  int64   \n",
      "dtypes: bool(2), category(8), float64(1), int64(15), object(1)\n",
      "memory usage: 3.6+ MB\n"
     ]
    }
   ],
   "source": [
    "for col_name in ['victory_status', 'winner', 'increment_code', 'white_id', 'black_id', 'opening_eco', 'opening_name', 'last_move_piece']:\n",
    "    df[col_name] = df[col_name].astype('category')\n",
    "df.info()"
   ]
  },
  {
   "cell_type": "markdown",
   "id": "87114230-9ae5-4934-b1f4-36ca1e16137e",
   "metadata": {},
   "source": [
    "## 6/ Data splitting and preparation"
   ]
  },
  {
   "cell_type": "markdown",
   "id": "7596619c-19c1-42e1-a1c3-1295f38cfa7c",
   "metadata": {},
   "source": [
    "### 6.1/ Data splitting\n",
    "The data is split in the classical way - *70-15-15*, not using the *cross-validation*. As will be described in the *Model part 1/ Model selection*, the explained variable is `winner` (multiclass classification)."
   ]
  },
  {
   "cell_type": "code",
   "execution_count": 9,
   "id": "ffb96ec0-fc69-405a-8808-dc90bf5f673d",
   "metadata": {
    "execution": {
     "iopub.execute_input": "2023-01-22T12:56:57.543561Z",
     "iopub.status.busy": "2023-01-22T12:56:57.543561Z",
     "iopub.status.idle": "2023-01-22T12:56:57.574611Z",
     "shell.execute_reply": "2023-01-22T12:56:57.573611Z",
     "shell.execute_reply.started": "2023-01-22T12:56:57.543561Z"
    },
    "tags": []
   },
   "outputs": [],
   "source": [
    "X_train_root, X_test_root, y_train_root, y_test_root = train_test_split(df.drop('winner', axis=1), df['winner'], test_size=0.3, random_state=11)\n",
    "X_valid_root, X_test_root, y_valid_root, y_test_root = train_test_split(X_test_root, y_test_root, test_size=0.5, random_state=11) \n",
    "\n",
    "def get_dataset():\n",
    "     return copy.deepcopy(X_train_root), copy.deepcopy(X_valid_root), copy.deepcopy(y_train_root), copy.deepcopy(y_valid_root)\n",
    "    \n",
    "def get_test_dataset():\n",
    "    return copy.deepcopy(X_test_root), copy.deepcopy(y_test_root)"
   ]
  },
  {
   "cell_type": "code",
   "execution_count": 10,
   "id": "d176ae53-7b0d-4f14-a136-a86c285aa521",
   "metadata": {
    "execution": {
     "iopub.execute_input": "2023-01-22T12:56:57.575611Z",
     "iopub.status.busy": "2023-01-22T12:56:57.575611Z",
     "iopub.status.idle": "2023-01-22T12:56:57.588774Z",
     "shell.execute_reply": "2023-01-22T12:56:57.588774Z",
     "shell.execute_reply.started": "2023-01-22T12:56:57.575611Z"
    },
    "tags": []
   },
   "outputs": [],
   "source": [
    "X_train, X_valid, y_train, y_valid = get_dataset()"
   ]
  },
  {
   "cell_type": "markdown",
   "id": "b8f3227a-46ac-43f8-bf11-cffbca0c48c6",
   "metadata": {},
   "source": [
    "### 6.2 Categorical features encoding\n",
    "Dataset is made from a lot categorical features. If one-hot-encoding was used, there would be dozens of new almost constant features (almost constant means that there is many unique values with only one occurence in the categorical features)."
   ]
  },
  {
   "cell_type": "code",
   "execution_count": 11,
   "id": "5cebf7f5-a4fc-481f-96e9-8cb88aa888a6",
   "metadata": {
    "execution": {
     "iopub.execute_input": "2023-01-22T12:56:57.590283Z",
     "iopub.status.busy": "2023-01-22T12:56:57.590283Z",
     "iopub.status.idle": "2023-01-22T12:56:57.604307Z",
     "shell.execute_reply": "2023-01-22T12:56:57.604307Z",
     "shell.execute_reply.started": "2023-01-22T12:56:57.590283Z"
    },
    "tags": []
   },
   "outputs": [
    {
     "name": "stdout",
     "output_type": "stream",
     "text": [
      "There would be 16704 quasi-constant new features.\n"
     ]
    }
   ],
   "source": [
    "constant_features_cnt = 0\n",
    "for col in X_train.select_dtypes('category').columns:\n",
    "    constant_features_cnt += (X_train[col].value_counts() <= 1).sum()\n",
    "\n",
    "print(f'There would be {constant_features_cnt} quasi-constant new features.')"
   ]
  },
  {
   "cell_type": "markdown",
   "id": "985ed989-5461-4828-ac8b-b2edccb3760e",
   "metadata": {},
   "source": [
    "So the solution is to take all the categorical columns - encode the ones with at least two occruences and put the rest (unique with count one) to the last feature. This can be handled via OneHotEncoder's parameters. Create pipeline for easier manipulation in later phases."
   ]
  },
  {
   "cell_type": "code",
   "execution_count": 12,
   "id": "a4f9dd92-ead3-4ba3-9e2a-fbca2be5e2a9",
   "metadata": {
    "execution": {
     "iopub.execute_input": "2023-01-22T12:56:57.607307Z",
     "iopub.status.busy": "2023-01-22T12:56:57.607307Z",
     "iopub.status.idle": "2023-01-22T12:56:57.621424Z",
     "shell.execute_reply": "2023-01-22T12:56:57.620350Z",
     "shell.execute_reply.started": "2023-01-22T12:56:57.607307Z"
    },
    "tags": []
   },
   "outputs": [],
   "source": [
    "numerical_features = X_train.select_dtypes('number').columns.tolist()\n",
    "categorical_features = X_train.drop(numerical_features, axis=1).columns.tolist()"
   ]
  },
  {
   "cell_type": "markdown",
   "id": "e1bc2b6f-66b6-4084-9e6b-fa7ea670f0f1",
   "metadata": {},
   "source": [
    "Also put there *Simple imputer* - even if it won't be used - for sure and/or to put the numerical columns to the pipeline too."
   ]
  },
  {
   "cell_type": "code",
   "execution_count": 13,
   "id": "600331a3-43ff-4370-b8be-268f99cc5bda",
   "metadata": {
    "execution": {
     "iopub.execute_input": "2023-01-22T12:56:57.622423Z",
     "iopub.status.busy": "2023-01-22T12:56:57.621424Z",
     "iopub.status.idle": "2023-01-22T12:56:57.636941Z",
     "shell.execute_reply": "2023-01-22T12:56:57.635939Z",
     "shell.execute_reply.started": "2023-01-22T12:56:57.622423Z"
    },
    "tags": []
   },
   "outputs": [],
   "source": [
    "encoder = OneHotEncoder(handle_unknown='infrequent_if_exist', min_frequency=2, sparse_output=False)\n",
    "imputer = SimpleImputer(strategy=\"median\")\n",
    "\n",
    "pipeline = ColumnTransformer(transformers=[('cat', encoder, categorical_features),\n",
    "                                          ('impute', imputer, numerical_features)])"
   ]
  },
  {
   "cell_type": "code",
   "execution_count": 14,
   "id": "46aa4917-0f76-4f19-9e60-7c06544fe6ed",
   "metadata": {
    "execution": {
     "iopub.execute_input": "2023-01-22T12:56:57.637940Z",
     "iopub.status.busy": "2023-01-22T12:56:57.636941Z",
     "iopub.status.idle": "2023-01-22T12:56:58.011955Z",
     "shell.execute_reply": "2023-01-22T12:56:58.011955Z",
     "shell.execute_reply.started": "2023-01-22T12:56:57.637940Z"
    },
    "tags": []
   },
   "outputs": [],
   "source": [
    "X_train, X_valid, y_train, y_valid = get_dataset()\n",
    "# And to test it\n",
    "X_train = pipeline.fit_transform(X_train)"
   ]
  },
  {
   "cell_type": "markdown",
   "id": "332304c0-e27a-482f-9f61-da0ee4c92df6",
   "metadata": {},
   "source": [
    "# ⚙️Model"
   ]
  },
  {
   "cell_type": "markdown",
   "id": "f7973bf2-02a1-40dc-9eda-041a352b56d1",
   "metadata": {},
   "source": [
    "## 1/ Model selection"
   ]
  },
  {
   "cell_type": "code",
   "execution_count": 15,
   "id": "593efb1f-a4bc-4dad-bfdf-24df3050686f",
   "metadata": {
    "execution": {
     "iopub.execute_input": "2023-01-22T12:56:58.012958Z",
     "iopub.status.busy": "2023-01-22T12:56:58.012958Z",
     "iopub.status.idle": "2023-01-22T12:56:58.044516Z",
     "shell.execute_reply": "2023-01-22T12:56:58.043514Z",
     "shell.execute_reply.started": "2023-01-22T12:56:58.012958Z"
    },
    "tags": []
   },
   "outputs": [
    {
     "data": {
      "text/plain": [
       "white    6693\n",
       "black    6084\n",
       "draw      602\n",
       "Name: winner, dtype: int64"
      ]
     },
     "execution_count": 15,
     "metadata": {},
     "output_type": "execute_result"
    }
   ],
   "source": [
    "X_train, X_valid, y_train, y_valid = get_dataset()\n",
    "y_train.value_counts()"
   ]
  },
  {
   "cell_type": "markdown",
   "id": "f12dff03-cfaa-4b2a-b037-a5899c12dd22",
   "metadata": {},
   "source": [
    "This is a multi-label **classification task** where the aim is to predict the result of the match. One more thing to consider is a high dimension - thanks to the many values in categorical features. So the model should be relatively resistant to high dimensions. Regarding this the **Random Forest** is chosen. It has a relatively good performance in the higher dimensional data + it's resistant to overfitting."
   ]
  },
  {
   "cell_type": "markdown",
   "id": "03332059-3e34-4dbb-854c-2a18c270bdcd",
   "metadata": {},
   "source": [
    "As may be seen, in the preprocessed dataset there are 4406 features."
   ]
  },
  {
   "cell_type": "code",
   "execution_count": 16,
   "id": "fda46182-e336-462f-9433-bee430b77d06",
   "metadata": {
    "execution": {
     "iopub.execute_input": "2023-01-22T12:56:58.046513Z",
     "iopub.status.busy": "2023-01-22T12:56:58.045522Z",
     "iopub.status.idle": "2023-01-22T12:56:58.451030Z",
     "shell.execute_reply": "2023-01-22T12:56:58.450520Z",
     "shell.execute_reply.started": "2023-01-22T12:56:58.046513Z"
    },
    "tags": []
   },
   "outputs": [
    {
     "data": {
      "text/plain": [
       "(13379, 4406)"
      ]
     },
     "execution_count": 16,
     "metadata": {},
     "output_type": "execute_result"
    }
   ],
   "source": [
    "pipeline.fit_transform(X_train).shape"
   ]
  },
  {
   "cell_type": "markdown",
   "id": "61a5c2db-9cc3-4dba-93f9-51af8ae4a5ed",
   "metadata": {},
   "source": [
    "## 2/ Model hyperparameters"
   ]
  },
  {
   "cell_type": "markdown",
   "id": "eb4e6fcd-c4d4-4339-9487-ada4e0d4775b",
   "metadata": {},
   "source": [
    "Chosen hyperparameters are:\n",
    "- `n_estimators` (Number of trees in the forest)\n",
    "    - Default is 100, for tweaking, some integers in the range (50, 1000) will be chosen\n",
    "- `criterion` (Function that measures quality of split in the tree's construction)\n",
    "    - Default is `gini`. Other possible values are `gini` and `log_loss`\n",
    "    "
   ]
  },
  {
   "cell_type": "markdown",
   "id": "c984ad92-5ef7-4190-8f62-4f47b50318ce",
   "metadata": {},
   "source": [
    "Tuning the hypeparameters is done in the section *5/ Hyperparameter tuning*."
   ]
  },
  {
   "cell_type": "markdown",
   "id": "44a63cbc-40fb-4195-846c-beaace5eea84",
   "metadata": {},
   "source": [
    "## 3/ Model evaluation"
   ]
  },
  {
   "cell_type": "markdown",
   "id": "f5a9e067-cc61-4ba7-8a67-1af1cf89cf89",
   "metadata": {},
   "source": [
    "Since this is a multiclass classification, accuracy shouldn't be used. Instead, use `confusion matrix` and `F1 score`."
   ]
  },
  {
   "cell_type": "markdown",
   "id": "50be388f-8e02-4bd1-9878-0ab746b0743f",
   "metadata": {},
   "source": [
    "### 3.1/ Confusion Matrix\n",
    "Confusion matrix is representing the performance of the trained model. Each row represents an actual class while each column represents the predicted class. If the classifier was flawless non-zeros would be only on a diagonal."
   ]
  },
  {
   "cell_type": "code",
   "execution_count": 17,
   "id": "bec7943a-3ad7-412f-a2f4-b4e372db9007",
   "metadata": {
    "execution": {
     "iopub.execute_input": "2023-01-22T12:56:58.452037Z",
     "iopub.status.busy": "2023-01-22T12:56:58.452037Z",
     "iopub.status.idle": "2023-01-22T12:56:58.467553Z",
     "shell.execute_reply": "2023-01-22T12:56:58.466553Z",
     "shell.execute_reply.started": "2023-01-22T12:56:58.452037Z"
    },
    "tags": []
   },
   "outputs": [],
   "source": [
    "def show_confusion_matrix(y_truth, y_pred):\n",
    "    ConfusionMatrixDisplay.from_predictions(y_truth, y_pred, cmap='inferno')\n",
    "    plt.title('Confusion matrix')\n",
    "    plt.grid(False)\n",
    "    plt.show()"
   ]
  },
  {
   "cell_type": "markdown",
   "id": "9dcf67ea-60f6-4431-8168-9411972c7d83",
   "metadata": {},
   "source": [
    "### 3.2/ F1 Score\n",
    "**F1 Score** is calculated from precision (TP/P) and recall (TP/(FN+TP)) - it's the harmonic mean of those variables, they are in trade-off relationship. The highest (best) value is 1, the worst one is 0. F1 Score is calculated for each predicted class or it can be calculated for all the classes as the weighted mean (used in the evaulation of hyperparameter search in *5/ Hyperparameter tuning*)."
   ]
  },
  {
   "cell_type": "code",
   "execution_count": 18,
   "id": "b99b9f50-49f2-452a-8a30-18ec877bfeb4",
   "metadata": {
    "execution": {
     "iopub.execute_input": "2023-01-22T12:56:58.468554Z",
     "iopub.status.busy": "2023-01-22T12:56:58.468554Z",
     "iopub.status.idle": "2023-01-22T12:56:58.482729Z",
     "shell.execute_reply": "2023-01-22T12:56:58.481728Z",
     "shell.execute_reply.started": "2023-01-22T12:56:58.468554Z"
    },
    "tags": []
   },
   "outputs": [],
   "source": [
    "def get_f1_score(y_truth, y_pred, return_vals=False):\n",
    "    res = f1_score(y_truth, y_pred, average=None, labels=['white', 'black', 'draw'])\n",
    "    if return_vals:\n",
    "        return {'white': res[0], 'black': res[1], 'draw': res[2]}\n",
    "    else:\n",
    "        print(f'white: {res[0]:.2f}')\n",
    "        print(f'black: {res[1]:.2f}')\n",
    "        print(f'draw: {res[2]:.2f}')"
   ]
  },
  {
   "cell_type": "markdown",
   "id": "5d79e4e5-75a2-40a0-8c71-3be2560d140c",
   "metadata": {},
   "source": [
    "## 4/ Model training"
   ]
  },
  {
   "cell_type": "markdown",
   "id": "b85bacd1-5b42-447c-8ccc-cac64897b14f",
   "metadata": {},
   "source": [
    "### 4.1/ Training"
   ]
  },
  {
   "cell_type": "code",
   "execution_count": 19,
   "id": "4ad33a42-f771-4510-99c5-d511e1ed0aed",
   "metadata": {
    "execution": {
     "iopub.execute_input": "2023-01-22T12:56:58.483726Z",
     "iopub.status.busy": "2023-01-22T12:56:58.483726Z",
     "iopub.status.idle": "2023-01-22T12:57:16.629270Z",
     "shell.execute_reply": "2023-01-22T12:57:16.629270Z",
     "shell.execute_reply.started": "2023-01-22T12:56:58.483726Z"
    },
    "tags": []
   },
   "outputs": [],
   "source": [
    "X_train, X_valid, y_train, y_valid = get_dataset()\n",
    "X_train = pipeline.fit_transform(X_train)\n",
    "X_valid = pipeline.transform(X_valid)\n",
    "\n",
    "model = RandomForestClassifier().fit(X_train, y_train)"
   ]
  },
  {
   "cell_type": "markdown",
   "id": "2c2a3334-c442-4963-a1e3-a29ee8638840",
   "metadata": {},
   "source": [
    "### 4.2/ Evaulation"
   ]
  },
  {
   "cell_type": "markdown",
   "id": "77f1716a-3cf7-487c-8928-dfa329777774",
   "metadata": {},
   "source": [
    "#### 4.2.1/ Confusion matrix\n",
    "Regarding the confusion matrix classification ended up with relatively good results. The \"biggest\" problem is between black and white - that black is predicted as white and white as black. Otherwise the results are good."
   ]
  },
  {
   "cell_type": "code",
   "execution_count": 20,
   "id": "16c6331d-1aa4-47c5-9a49-36b801a28365",
   "metadata": {
    "execution": {
     "iopub.execute_input": "2023-01-22T12:57:16.630775Z",
     "iopub.status.busy": "2023-01-22T12:57:16.630775Z",
     "iopub.status.idle": "2023-01-22T12:57:17.006617Z",
     "shell.execute_reply": "2023-01-22T12:57:17.006617Z",
     "shell.execute_reply.started": "2023-01-22T12:57:16.630775Z"
    },
    "tags": []
   },
   "outputs": [
    {
     "data": {
      "image/png": "[encoded data removed]",
      "text/plain": [
       "<Figure size 800x550 with 2 Axes>"
      ]
     },
     "metadata": {},
     "output_type": "display_data"
    }
   ],
   "source": [
    "show_confusion_matrix(y_valid, model.predict(X_valid))"
   ]
  },
  {
   "cell_type": "markdown",
   "id": "85f5f5a7-29c3-457f-a880-870d17cd0627",
   "metadata": {},
   "source": [
    "#### 4.2.2/ F1 Score\n",
    "The best results regarding F1 Score was achieved with the class `draw`."
   ]
  },
  {
   "cell_type": "code",
   "execution_count": 21,
   "id": "7bd6c80f-7abc-4e9d-a3a8-d4a20a607c7d",
   "metadata": {
    "execution": {
     "iopub.execute_input": "2023-01-22T12:57:17.008615Z",
     "iopub.status.busy": "2023-01-22T12:57:17.007617Z",
     "iopub.status.idle": "2023-01-22T12:57:17.195021Z",
     "shell.execute_reply": "2023-01-22T12:57:17.195021Z",
     "shell.execute_reply.started": "2023-01-22T12:57:17.008615Z"
    },
    "tags": []
   },
   "outputs": [
    {
     "name": "stdout",
     "output_type": "stream",
     "text": [
      "white: 0.88\n",
      "black: 0.87\n",
      "draw: 0.99\n"
     ]
    }
   ],
   "source": [
    "get_f1_score(y_valid, model.predict(X_valid))"
   ]
  },
  {
   "cell_type": "markdown",
   "id": "cf54edc8-2da0-4e7a-aa44-75e769e6e0a5",
   "metadata": {},
   "source": [
    "### 4.3/ Model visualization\n",
    "Due to the high dimensionality of the training dataset (~4000 features), visualization can't be done - or can't be seen for the file size. Code bellow works, but the result not. 🙂"
   ]
  },
  {
   "cell_type": "code",
   "execution_count": 22,
   "id": "158df7d8-3055-4d24-b182-22cd39687c2f",
   "metadata": {
    "execution": {
     "iopub.execute_input": "2023-01-22T12:57:17.196022Z",
     "iopub.status.busy": "2023-01-22T12:57:17.196022Z",
     "iopub.status.idle": "2023-01-22T12:57:17.210968Z",
     "shell.execute_reply": "2023-01-22T12:57:17.210968Z",
     "shell.execute_reply.started": "2023-01-22T12:57:17.196022Z"
    },
    "tags": []
   },
   "outputs": [],
   "source": [
    "wanna_try_it = False\n",
    "\n",
    "if wanna_try_it:\n",
    "    y_train = LabelEncoder().fit_transform(y_train)\n",
    "\n",
    "    # Take the first tree from the forest\n",
    "    viz_model = dtreeviz.model(model.estimators_[0], X_train=X_train, y_train=y_train)\n",
    "    v = viz_model.view()\n",
    "    v.save(\"model-visualization.svg\")"
   ]
  },
  {
   "cell_type": "markdown",
   "id": "3425f595-af50-4bbb-b987-427a186a5eed",
   "metadata": {},
   "source": [
    "## 5/ Hyperparameter tuning\n",
    "As was stated in *2/ Model hyperparameters*, hyperparameters `n_estimators` and `criterion` are tuned."
   ]
  },
  {
   "cell_type": "markdown",
   "id": "75ece94e-8b58-4f7b-9c67-9f102f9384f1",
   "metadata": {},
   "source": [
    "### 5.1/ Bayesian search\n",
    "For the best hyperparameter combination, Bayesian search is used. Unlike Grid Search or Random search, the tuning algorithm optimizes its parameter selection in each round - according to the previous score. Search is not extensive so it is faster.\n",
    "Weighted F1 Score is used for the evaulation - one number for all the classes weighted by their total count.\n",
    "\n",
    "Also Bayesian search uses cross validation so the training and validation sets (already transformed based on training data) can be merged."
   ]
  },
  {
   "cell_type": "code",
   "execution_count": 23,
   "id": "1f9b9e9c-9a32-4a2a-89db-87d57a5926da",
   "metadata": {
    "execution": {
     "iopub.execute_input": "2023-01-22T12:57:17.212924Z",
     "iopub.status.busy": "2023-01-22T12:57:17.211926Z",
     "iopub.status.idle": "2023-01-22T12:57:17.226959Z",
     "shell.execute_reply": "2023-01-22T12:57:17.226959Z",
     "shell.execute_reply.started": "2023-01-22T12:57:17.212924Z"
    },
    "tags": []
   },
   "outputs": [],
   "source": [
    "try:\n",
    "    res = pd.read_csv('bayes-search-results.csv').drop('Unnamed: 0', axis=1)\n",
    "except:\n",
    "    X_train, X_valid, y_train, y_valid = get_dataset()\n",
    "    X_train = pipeline.fit_transform(X_train)\n",
    "    X_valid = pipeline.transform(X_valid)\n",
    "\n",
    "\n",
    "    X_merged = vstack((X_train, X_valid))\n",
    "    y_merge = np.concatenate([y_train, y_valid])\n",
    "\n",
    "\n",
    "    param_grid = {\n",
    "        'n_estimators': [x for x in range(50, 1001, 50)],\n",
    "        'criterion': ['gini', 'log_loss', 'entropy']\n",
    "    }\n",
    "\n",
    "    reg_bay = BayesSearchCV(estimator=RandomForestClassifier(), search_spaces=param_grid, n_iter=30, cv=4, n_jobs=8, scoring='f1_weighted')\n",
    "    model_bay = reg_bay.fit(X_merged, y_merge)\n",
    "    res = pd.DataFrame().from_dict(model_bay.cv_results_).sort_values(by='rank_test_score')\n",
    "    res.to_csv('bayes-search-results.csv')"
   ]
  },
  {
   "cell_type": "markdown",
   "id": "d9b7abcf-bfcf-471e-9c9a-b1441581ff01",
   "metadata": {},
   "source": [
    "### 5.2/ Results\n",
    "The best results are achieved when `criterion = log_loss` and `n_estimators = 700`"
   ]
  },
  {
   "cell_type": "code",
   "execution_count": 24,
   "id": "c847abba-344b-494a-bada-f47070e5692f",
   "metadata": {
    "execution": {
     "iopub.execute_input": "2023-01-22T12:57:17.228959Z",
     "iopub.status.busy": "2023-01-22T12:57:17.227959Z",
     "iopub.status.idle": "2023-01-22T12:57:17.242874Z",
     "shell.execute_reply": "2023-01-22T12:57:17.242874Z",
     "shell.execute_reply.started": "2023-01-22T12:57:17.227959Z"
    },
    "tags": []
   },
   "outputs": [
    {
     "data": {
      "text/plain": [
       "rank_test_score              1\n",
       "param_criterion       log_loss\n",
       "param_n_estimators         700\n",
       "Name: 0, dtype: object"
      ]
     },
     "execution_count": 24,
     "metadata": {},
     "output_type": "execute_result"
    }
   ],
   "source": [
    "res.loc[0, ['rank_test_score', 'param_criterion', 'param_n_estimators']]"
   ]
  },
  {
   "cell_type": "markdown",
   "id": "433fe5bd-b988-435d-a578-4ca050db2765",
   "metadata": {},
   "source": [
    "Relationship between the model performance and the value of parameters can be visualized.\n",
    "\n",
    "For the `n_estimators` it may be seen that the best value is somewhere around 700 trees. For the criterion, `log_loss` has probably the best results - but still there some outliers that performed worse than the others. Chosen hyperparameters are:\n",
    "- **criterion**: `log_loss`\n",
    "- **n_estimators**: `700`"
   ]
  },
  {
   "cell_type": "code",
   "execution_count": 25,
   "id": "53425808-fcf0-476e-85ba-d7f2ba2dc28e",
   "metadata": {
    "execution": {
     "iopub.execute_input": "2023-01-22T12:57:17.244874Z",
     "iopub.status.busy": "2023-01-22T12:57:17.243876Z",
     "iopub.status.idle": "2023-01-22T12:57:17.591326Z",
     "shell.execute_reply": "2023-01-22T12:57:17.590818Z",
     "shell.execute_reply.started": "2023-01-22T12:57:17.244874Z"
    },
    "tags": []
   },
   "outputs": [
    {
     "data": {
      "image/png": "[encoded data removed]",
      "text/plain": [
       "<Figure size 1600x400 with 2 Axes>"
      ]
     },
     "metadata": {},
     "output_type": "display_data"
    }
   ],
   "source": [
    "fig, axs = plt.subplots(1,2, figsize=(16,4))\n",
    "fig.suptitle('Parameter values with F1 Score')\n",
    "\n",
    "sns.regplot(data=res, x='param_n_estimators', y='mean_test_score', ax=axs[0], order=2)\n",
    "axs[0].set_xlabel('n_estimators')\n",
    "axs[0].set_ylabel('F1 Score')\n",
    "\n",
    "sns.boxplot(data=res, x='param_criterion', y='mean_test_score', ax=axs[1])\n",
    "axs[1].set_xlabel('criterion')\n",
    "axs[1].set_ylabel('F1 Score')\n",
    "\n",
    "plt.show()"
   ]
  },
  {
   "cell_type": "code",
   "execution_count": 26,
   "id": "987e2c7e-f25b-42a4-b0f5-ec457263fd3c",
   "metadata": {
    "execution": {
     "iopub.execute_input": "2023-01-22T12:57:17.592334Z",
     "iopub.status.busy": "2023-01-22T12:57:17.592334Z",
     "iopub.status.idle": "2023-01-22T12:57:17.607849Z",
     "shell.execute_reply": "2023-01-22T12:57:17.606853Z",
     "shell.execute_reply.started": "2023-01-22T12:57:17.592334Z"
    },
    "tags": []
   },
   "outputs": [],
   "source": [
    "def get_best_model():\n",
    "    return RandomForestClassifier(criterion='log_loss', n_estimators=700)"
   ]
  },
  {
   "cell_type": "markdown",
   "id": "83f24d0a-0c81-49e6-bd2c-8537e7151afd",
   "metadata": {},
   "source": [
    "## 6/ Decision border"
   ]
  },
  {
   "cell_type": "markdown",
   "id": "4d614a86-2340-415e-a474-af863258ed95",
   "metadata": {},
   "source": [
    "Train model with the best hyperparameters obtained from *5/ Hyperparameter tuning*. "
   ]
  },
  {
   "cell_type": "code",
   "execution_count": 27,
   "id": "1420079c-86c0-4108-8f7e-654b39a2b52b",
   "metadata": {
    "execution": {
     "iopub.execute_input": "2023-01-22T12:57:17.608849Z",
     "iopub.status.busy": "2023-01-22T12:57:17.608849Z",
     "iopub.status.idle": "2023-01-22T12:57:18.818345Z",
     "shell.execute_reply": "2023-01-22T12:57:18.817552Z",
     "shell.execute_reply.started": "2023-01-22T12:57:17.608849Z"
    },
    "tags": []
   },
   "outputs": [],
   "source": [
    "X_train, X_valid, y_train, y_valid = get_dataset()\n",
    "X_train = pipeline.fit_transform(X_train)\n",
    "X_valid = pipeline.transform(X_valid)\n",
    "X_train = pd.DataFrame(X_train)\n",
    "X_train = pd.concat([X_train.iloc[:, 4391:4393], X_train.drop([4391, 4392], axis=1)], axis=1)\n",
    "X_train = X_train.to_numpy()\n",
    "X_train = pd.DataFrame(X_train).iloc[0:400, 0:2].to_numpy()\n",
    "y_train = pd.factorize(y_train)[0]\n",
    "\n",
    "y_train = y_train[0:400]\n",
    "\n",
    "model = RandomForestClassifier().fit(X_train, y_train)"
   ]
  },
  {
   "cell_type": "markdown",
   "id": "1c35bf2a-0567-4b14-b093-b911df3a177a",
   "metadata": {},
   "source": [
    "For the decision border visualization, the training dataset is shrinked a bit. Model is trained only on the two chosen features - during the `plot_decision_regions` function, computer was unable to work with all of them - and still they would be set as constant and model would ignore them anyway. \n",
    "\n",
    "Also only the first 400 training points are shown to keep it comprehensible."
   ]
  },
  {
   "cell_type": "code",
   "execution_count": 28,
   "id": "63b8b594-1c97-462a-9be9-3f658178941e",
   "metadata": {
    "execution": {
     "iopub.execute_input": "2023-01-22T12:57:18.819366Z",
     "iopub.status.busy": "2023-01-22T12:57:18.819366Z",
     "iopub.status.idle": "2023-01-22T12:57:20.972909Z",
     "shell.execute_reply": "2023-01-22T12:57:20.971872Z",
     "shell.execute_reply.started": "2023-01-22T12:57:18.819366Z"
    },
    "tags": []
   },
   "outputs": [
    {
     "data": {
      "image/png": "[encoded data removed]",
      "text/plain": [
       "<Figure size 800x550 with 1 Axes>"
      ]
     },
     "metadata": {},
     "output_type": "display_data"
    }
   ],
   "source": [
    "plt.title('Decision border between white and black')\n",
    "ax = plot_decision_regions(X_train, y_train, clf=RandomForestClassifier().fit(X_train, y_train), legend=0, feature_index=[0, 1])\n",
    "handles, labels = ax.get_legend_handles_labels()\n",
    "ax.legend(handles, ['White wins', 'Black wins', 'Draw'], framealpha=.8)\n",
    "plt.xlabel('Black rating')\n",
    "plt.ylabel('White rating')\n",
    "plt.show()"
   ]
  },
  {
   "cell_type": "markdown",
   "id": "20c15573-a9bc-4ee3-a56f-90d875f5c173",
   "metadata": {},
   "source": [
    "## 7/ Results\n",
    "Vhodně vizualizujte úspěšnost výsledného modelu - využijte alespoň dvě vizualizační metody."
   ]
  },
  {
   "cell_type": "markdown",
   "id": "f4e2c9a6-bffe-4a4c-97d1-242f569bca6e",
   "metadata": {},
   "source": [
    "### 7.1/ Test error\n",
    "Evaluate model on the test data and compare the error distribution with the train/valid data."
   ]
  },
  {
   "cell_type": "code",
   "execution_count": 29,
   "id": "e057197e-be45-42f0-9003-d130ddf5fc3b",
   "metadata": {
    "execution": {
     "iopub.execute_input": "2023-01-22T12:57:20.973872Z",
     "iopub.status.busy": "2023-01-22T12:57:20.973872Z",
     "iopub.status.idle": "2023-01-22T12:59:28.226285Z",
     "shell.execute_reply": "2023-01-22T12:59:28.225284Z",
     "shell.execute_reply.started": "2023-01-22T12:57:20.973872Z"
    },
    "tags": []
   },
   "outputs": [],
   "source": [
    "X_test, y_test = get_test_dataset()\n",
    "X_train, X_valid, y_train, y_valid = get_dataset()\n",
    "X_train = pipeline.fit_transform(X_train)\n",
    "X_valid = pipeline.transform(X_valid)\n",
    "X_test = pipeline.transform(X_test)\n",
    "\n",
    "model = get_best_model().fit(X_train, y_train)\n",
    "\n",
    "# Create df with the results\n",
    "res = {}\n",
    "res['Train'] = get_f1_score(model.predict(X_train), y_train, return_vals=True)\n",
    "res['Valid'] = get_f1_score(model.predict(X_valid), y_valid, return_vals=True)\n",
    "res['Test'] = get_f1_score(model.predict(X_test), y_test, return_vals=True)\n",
    "res = pd.DataFrame(data=res).unstack().reset_index().rename(columns={'level_0': 'set', 'level_1': 'class', 0: 'F1 Score'})"
   ]
  },
  {
   "cell_type": "markdown",
   "id": "4b940bb5-8656-4325-bb83-fdd3e170860e",
   "metadata": {},
   "source": [
    "Regarding the barplot bellow, F1 score is almost the same for the validation and test set - which is good. It's also interesting that F1 Score at class `draw` is much higher. This means that the draw can be easily recognized from the given data."
   ]
  },
  {
   "cell_type": "code",
   "execution_count": 30,
   "id": "e0c30ea1-bee4-458b-ab2a-1dc488f35643",
   "metadata": {
    "execution": {
     "iopub.execute_input": "2023-01-22T12:59:28.227284Z",
     "iopub.status.busy": "2023-01-22T12:59:28.227284Z",
     "iopub.status.idle": "2023-01-22T12:59:28.382733Z",
     "shell.execute_reply": "2023-01-22T12:59:28.381731Z",
     "shell.execute_reply.started": "2023-01-22T12:59:28.227284Z"
    },
    "tags": []
   },
   "outputs": [
    {
     "data": {
      "image/png": "[encoded data removed]",
      "text/plain": [
       "<Figure size 700x500 with 1 Axes>"
      ]
     },
     "metadata": {},
     "output_type": "display_data"
    }
   ],
   "source": [
    "plt.figure(figsize=(7,5))\n",
    "plt.title('Results on sets compared')\n",
    "sns.barplot(data=res, x='class', y='F1 Score', hue='set', width=.6)\n",
    "plt.xlabel('Target class')\n",
    "plt.ylabel('F1 Score')\n",
    "plt.show()"
   ]
  },
  {
   "cell_type": "markdown",
   "id": "0bbdfe38-8352-4304-b7eb-5bd4ecc70192",
   "metadata": {},
   "source": [
    "### 7.2/ ROC AUC score\n",
    "This function could have been also used as a loss function. For this visualization, it will visualize ROC for each class. By default, it's for the binary classification, but it can be further applying the one-versus-all classification method."
   ]
  },
  {
   "cell_type": "markdown",
   "id": "3a05660c-0d3b-49f4-9187-22ff982c79d4",
   "metadata": {},
   "source": [
    "Interesting is that AUC for the `draw` class is $1.0$. This means that if we wanted to classify just if the game is draw or not, we would approach to the best possible classifier with almost 100% accuracy. "
   ]
  },
  {
   "cell_type": "code",
   "execution_count": 31,
   "id": "59521790-c628-4de9-a8fa-47154ea861b0",
   "metadata": {
    "execution": {
     "iopub.execute_input": "2023-01-22T12:59:28.382733Z",
     "iopub.status.busy": "2023-01-22T12:59:28.382733Z",
     "iopub.status.idle": "2023-01-22T12:59:30.469032Z",
     "shell.execute_reply": "2023-01-22T12:59:30.469032Z",
     "shell.execute_reply.started": "2023-01-22T12:59:28.382733Z"
    },
    "tags": []
   },
   "outputs": [
    {
     "data": {
      "image/png": "[encoded data removed]",
      "text/plain": [
       "<Figure size 800x550 with 1 Axes>"
      ]
     },
     "metadata": {},
     "output_type": "display_data"
    }
   ],
   "source": [
    "visualizer = ROCAUC(model, macro=False, micro=False)\n",
    "\n",
    "visualizer.fit(X_train, y_train)\n",
    "visualizer.score(X_test, y_test)\n",
    "visualizer.show()\n",
    "plt.show()"
   ]
  }
 ],
 "metadata": {
  "kernelspec": {
   "display_name": "Python 3 (ipykernel)",
   "language": "python",
   "name": "python3"
  },
  "language_info": {
   "codemirror_mode": {
    "name": "ipython",
    "version": 3
   },
   "file_extension": ".py",
   "mimetype": "text/x-python",
   "name": "python",
   "nbconvert_exporter": "python",
   "pygments_lexer": "ipython3",
   "version": "3.9.15"
  }
 },
 "nbformat": 4,
 "nbformat_minor": 5
}
