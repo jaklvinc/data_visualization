{
 "cells": [
  {
   "cell_type": "markdown",
   "id": "1fccbc0e",
   "metadata": {},
   "source": [
    "# 🔬 Simulace \n",
    "\n",
    "Pojďme si nyní udělat sociální experiment, ve kterém budeme sledovat relace mezi jednotlivými vrcholy. Jako vrcholy si můžete představit například lidi, zvířata nebo objekty a jako relace například navazování přátelství, respekt ve smečce nebo tepelnou výměnu mezi objekty.\n",
    "\n",
    "V našem experimentu budeme pracovat s pravděpodobnostmi. Zajímat nás bude pravděpodobnost vytvoření relace mezi vrcholy $P(G)$ a pravděpodobnost zániku relace $P(L)$. Tyto hodnoty nastavíme a následně vytvoříme $N$ vrcholů, které budeme simulovat. \n",
    "\n",
    "V každém kroku si každý vrchol zvolí další libovolný vrchol a stane se jedna ze tří věcí:\n",
    "\n",
    "- Vybral si sám sebe, nic se nestane.\n",
    "- S vrcholem **má** relaci, hodí si mincí a s pravděpodobností $P(L)$ hranu odebere.\n",
    "- S vrcholem **nemá** relaci, hodí si mincí a s pravděpodobností $P(G)$ hranu vytvoří.\n",
    "    \n",
    "Simulace skončí v momentě, kdy každý vrchol bude mít relaci s každým dalším vrcholem mimo sebe sama."
   ]
  },
  {
   "cell_type": "code",
   "execution_count": null,
   "id": "319b3808",
   "metadata": {},
   "outputs": [],
   "source": [
    "%matplotlib inline"
   ]
  },
  {
   "cell_type": "code",
   "execution_count": null,
   "id": "b1ada8e6-edae-48ad-851e-28041f14a985",
   "metadata": {},
   "outputs": [],
   "source": [
    "import collections\n",
    "import warnings\n",
    "\n",
    "warnings.simplefilter(action=\"ignore\", category=FutureWarning)\n",
    "warnings.simplefilter(action=\"ignore\", category=DeprecationWarning)\n",
    "warnings.simplefilter(action=\"ignore\", category=UserWarning)\n",
    "\n",
    "from pprint import pprint"
   ]
  },
  {
   "cell_type": "code",
   "execution_count": null,
   "id": "a4a64468",
   "metadata": {},
   "outputs": [],
   "source": [
    "import matplotlib.pyplot as plt\n",
    "import matplotlib.colors as mcolors\n",
    "\n",
    "import pandas as pd\n",
    "import numpy as np\n",
    "import networkx as nx\n",
    "\n",
    "import matplotlib.animation\n",
    "import ipywidgets as widgets"
   ]
  },
  {
   "cell_type": "code",
   "execution_count": null,
   "id": "7a71f1a2",
   "metadata": {},
   "outputs": [],
   "source": [
    "def update_graph(graph: nx.Graph):\n",
    "    \"\"\"Sets edges active attribute.\"\"\"\n",
    "    global random_graph\n",
    "\n",
    "    N = len(random_graph.nodes)\n",
    "    for i in range(N):\n",
    "        j = np.random.randint(0, N)\n",
    "\n",
    "        if i == j:\n",
    "            continue\n",
    "\n",
    "        if random_graph[i][j][\"active\"]:\n",
    "            if np.random.random() < loss_prob.value:\n",
    "                random_graph[i][j][\"active\"] = False\n",
    "        else:\n",
    "            if np.random.random() < gain_prob.value:\n",
    "                random_graph[i][j][\"active\"] = True"
   ]
  },
  {
   "cell_type": "markdown",
   "id": "533ce256",
   "metadata": {},
   "source": [
    "Námi zvolené konvergenční kritérium vlastně říká, že hledáme úplný graf."
   ]
  },
  {
   "cell_type": "code",
   "execution_count": null,
   "id": "f612e57e",
   "metadata": {},
   "outputs": [],
   "source": [
    "def test_convergence(graph):\n",
    "    tmp = random_graph.copy()\n",
    "    # since the graph must be fully connected at all the time\n",
    "    # we handle the existence of the edge in 'active' attribute\n",
    "    # so we have to delete non active edges from deepcopy\n",
    "    for edge in dict(tmp.edges):\n",
    "        if not tmp.edges[edge][\"active\"]:\n",
    "            tmp.remove_edge(*edge)\n",
    "            \n",
    "    return all(tmp.degree[node] == (len(tmp.nodes) - 1) * 2 for node in tmp.nodes)"
   ]
  },
  {
   "cell_type": "markdown",
   "id": "5ba1e52f",
   "metadata": {},
   "source": [
    "Aby pro nás bylo jednodušší sledovat průběh simulace, použijeme barvy k rozlišení vlastností vrcholů.\n",
    "\n",
    "Barva vrcholu:\n",
    "\n",
    "- 🔴 -> žádný vrchol neopětuje relaci\n",
    "- 🟢 -> každý vrchol opětuje relaci\n",
    "- ⚪ -> něco mezi tím\n",
    "\n",
    "Barva ohraničení vrcholu (⭕):\n",
    "\n",
    "- 🟧 -> vrchol má menší stupeň než je průměr \n",
    "- 🟦 -> vrchol má větší stupeň než je průměr \n",
    "- ⬛ -> něco mezi tím\n",
    "\n",
    "\n",
    "> **🗒️ _Poznámka:_**  Stupeň vrcholu \"něco mezi\" jsou vrcholy se stupněm v intervalu $(\\mu - \\sigma, \\mu +  \\sigma) $, kde  $\\mu$ je průměrný stupeň a  $\\sigma$ směrodatná odchylka."
   ]
  },
  {
   "cell_type": "code",
   "execution_count": null,
   "id": "68c5ed22",
   "metadata": {},
   "outputs": [],
   "source": [
    "def get_colors_and_info(graph: nx.Graph):\n",
    "    \"\"\"Returns a colormaps and some other info.\"\"\"\n",
    "    N = len(graph.nodes)\n",
    "    \n",
    "    tmp = random_graph.copy()\n",
    "    # since the graph must be fully connected at all the time\n",
    "    # we handle the existence of the edge in 'active' attribute\n",
    "    # so we have to delete non active edges from deepcopy\n",
    "    for edge in dict(tmp.edges):\n",
    "        if not tmp.edges[edge][\"active\"]:\n",
    "            tmp.remove_edge(*edge)\n",
    "\n",
    "    node_degrees = [tmp.degree[node] for node in tmp.nodes]\n",
    "    mean_degree = np.mean(node_degrees)\n",
    "    std_degree = np.std(node_degrees)\n",
    "\n",
    "    node_edge_colors = {}\n",
    "    node_colors = {}\n",
    "    edge_colors = {}\n",
    "    for u, v in graph.edges:\n",
    "        if graph[u][v][\"active\"] and graph[v][u][\"active\"]:\n",
    "            edge_colors[(u, v)] = \"green\"\n",
    "        else:\n",
    "            edge_colors[(u, v)] = \"black\"\n",
    "\n",
    "    for node in graph.nodes:\n",
    "        node_edge_colors[node] = \"black\"\n",
    "\n",
    "        if graph.degree[node] > mean_degree + 1 * std_degree:\n",
    "            node_edge_colors[node] = \"blue\"\n",
    "\n",
    "        if graph.degree[node] < mean_degree - 1 * std_degree:\n",
    "            node_edge_colors[node] = \"orange\"\n",
    "\n",
    "        symmetric_relations = [\n",
    "            [neighbour, node] in graph.edges\n",
    "            for neighbour in graph.neighbors(node)\n",
    "            if graph.edges[neighbour, node]\n",
    "        ]\n",
    "\n",
    "        if all(symmetric_relations):\n",
    "            node_colors[node] = \"green\"\n",
    "\n",
    "        elif any(symmetric_relations):\n",
    "            node_colors[node] = \"white\"\n",
    "        else:\n",
    "            node_colors[node] = \"red\"\n",
    "\n",
    "    num_sym_edges = len([edge for edge in graph.edges if edge[::-1] in graph.edges])\n",
    "\n",
    "    return node_colors, node_edge_colors, edge_colors, mean_degree, num_sym_edges"
   ]
  },
  {
   "cell_type": "markdown",
   "id": "92b7e508",
   "metadata": {},
   "source": [
    "Teď ještě vytvoříme funkci, která bude updatovat simulaci:"
   ]
  },
  {
   "cell_type": "code",
   "execution_count": null,
   "id": "03b97d97",
   "metadata": {},
   "outputs": [],
   "source": [
    "def update(num: int):\n",
    "    #     ax.clear()\n",
    "    global random_graph\n",
    "\n",
    "    if test_convergence(random_graph):\n",
    "        anim.event_source.stop()\n",
    "\n",
    "    node_colors, node_edge_colors, edge_colors, mean_degree, num_sym_rel = get_colors_and_info(\n",
    "        random_graph\n",
    "    )\n",
    "    for node in random_graph:\n",
    "        random_graph.nodes[node][\"draw\"].set_color(node_colors[node])\n",
    "        random_graph.nodes[node][\"draw\"].set_edgecolor(node_edge_colors[node])\n",
    "\n",
    "    for edge in random_graph.edges():\n",
    "        random_graph.edges[edge][\"draw\"][0].set_visible(\n",
    "            random_graph.edges[edge][\"active\"]\n",
    "        )\n",
    "        random_graph.edges[edge][\"draw\"][0].set_color(edge_colors[edge])\n",
    "\n",
    "    title.set_text(\n",
    "        f\"počet sym. relací: {num_sym_rel}, průměrný stupeň vrcholu: {mean_degree:3.2f}, iterace:{num:3.0f}\"\n",
    "    )\n",
    "    plt.plot()\n",
    "    #     ax.set_xticks([])\n",
    "    #     ax.set_yticks([])\n",
    "    update_graph(random_graph)"
   ]
  },
  {
   "cell_type": "markdown",
   "id": "686169c5",
   "metadata": {},
   "source": [
    "## ✨ A máme hotovo!"
   ]
  },
  {
   "cell_type": "markdown",
   "id": "27dd48d9",
   "metadata": {},
   "source": [
    "Pomocí tahel můžete měnit jednotlivé pravděpodobnosti za běhu simulace a můžete tak sledovat jejich vliv na simulaci."
   ]
  },
  {
   "cell_type": "code",
   "execution_count": null,
   "id": "7441ce8a",
   "metadata": {
    "scrolled": false
   },
   "outputs": [],
   "source": [
    "loss_prob = widgets.FloatSlider(\n",
    "    value=0.2,\n",
    "    min=0,\n",
    "    max=1.0,\n",
    "    step=0.05,\n",
    "    description=\"$P(L):$\",\n",
    "    disabled=False,\n",
    "    continuous_update=True,\n",
    "    orientation=\"horizontal\",\n",
    "    readout=True,\n",
    "    readout_format=\".2f\",\n",
    ")\n",
    "\n",
    "gain_prob = widgets.FloatSlider(\n",
    "    value=0.9,\n",
    "    min=0,\n",
    "    max=1.0,\n",
    "    step=0.05,\n",
    "    description=\"$P(G):$\",\n",
    "    disabled=False,\n",
    "    continuous_update=True,\n",
    "    orientation=\"horizontal\",\n",
    "    readout=True,\n",
    "    readout_format=\".2f\",\n",
    ")"
   ]
  },
  {
   "cell_type": "code",
   "execution_count": null,
   "id": "62623e40",
   "metadata": {
    "scrolled": false
   },
   "outputs": [],
   "source": [
    "%matplotlib notebook\n",
    "\n",
    "\n",
    "fig = plt.figure(1, figsize=(8, 8))\n",
    "ax = fig.add_axes((0, 0, 1, 1))\n",
    "\n",
    "# pomocí random seedu dosáhneme toho, že se simulace do\n",
    "# jisté míry bude chovat deterministicky, pokud chcete\n",
    "# trochu experimentovat s náhodným generátorem, stačí\n",
    "# zakomentovat následující řádek\n",
    "\n",
    "np.random.seed(42)\n",
    "\n",
    "N = 8\n",
    "random_graph = nx.from_numpy_matrix(\n",
    "    np.ones((N, N)) - np.eye(N), parallel_edges=True, create_using=nx.DiGraph\n",
    ")\n",
    "pos = nx.circular_layout(random_graph)\n",
    "\n",
    "for n in random_graph:\n",
    "    random_graph.nodes[n][\"draw\"] = nx.draw_networkx_nodes(\n",
    "        random_graph, pos, nodelist=[n], node_color=\"w\", ax=ax\n",
    "    )\n",
    "\n",
    "for u, v in random_graph.edges():\n",
    "    random_graph[u][v][\"draw\"] = nx.draw_networkx_edges(\n",
    "        random_graph, pos, edgelist=[(u, v)], arrows=True, ax=ax\n",
    "    )\n",
    "    random_graph[u][v][\"draw\"][0].set_visible(False)\n",
    "    random_graph[u][v][\"active\"] = np.random.rand() < 0.2\n",
    "\n",
    "\n",
    "fig.suptitle(\"Analýza relací mezi vrcholy\", fontweight=\"bold\")\n",
    "\n",
    "title = ax.text(0.5, 0.939, \"\", transform=ax.transAxes, ha=\"center\")\n",
    "\n",
    "display(widgets.HBox([loss_prob, gain_prob]))\n",
    "\n",
    "anim = matplotlib.animation.FuncAnimation(\n",
    "    fig, update, frames=500, interval=100, repeat=False\n",
    ")\n",
    "plt.show()"
   ]
  },
  {
   "cell_type": "markdown",
   "id": "c30f2102",
   "metadata": {},
   "source": [
    "# 🎉 To je pro dnešek vše! 🎉"
   ]
  },
  {
   "cell_type": "code",
   "execution_count": null,
   "id": "36b37efa",
   "metadata": {},
   "outputs": [],
   "source": []
  }
 ],
 "metadata": {
  "kernelspec": {
   "display_name": "Python 3 (ipykernel)",
   "language": "python",
   "name": "python3"
  },
  "language_info": {
   "codemirror_mode": {
    "name": "ipython",
    "version": 3
   },
   "file_extension": ".py",
   "mimetype": "text/x-python",
   "name": "python",
   "nbconvert_exporter": "python",
   "pygments_lexer": "ipython3",
   "version": "3.9.12"
  },
  "toc": {
   "base_numbering": 1,
   "nav_menu": {},
   "number_sections": false,
   "sideBar": true,
   "skip_h1_title": true,
   "title_cell": "Table of Contents",
   "title_sidebar": "Contents",
   "toc_cell": false,
   "toc_position": {},
   "toc_section_display": true,
   "toc_window_display": true
  }
 },
 "nbformat": 4,
 "nbformat_minor": 5
}
