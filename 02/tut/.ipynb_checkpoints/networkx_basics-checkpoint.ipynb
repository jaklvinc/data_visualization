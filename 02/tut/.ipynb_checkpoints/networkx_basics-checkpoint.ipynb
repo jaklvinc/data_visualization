{
 "cells": [
  {
   "cell_type": "markdown",
   "id": "234dddb9",
   "metadata": {},
   "source": [
    "# 🎓🕸️ Grafy a sociální sítě\n",
    "\n",
    "<sup>BI-VIZ @ FIT CTU </sup>\n",
    "\n",
    "V tomto Jupyter Notebooku 📖 si ukážeme základní práci s grafy pomocí knihovny [NetworkX](https://networkx.org/documentation/stable/index.html) - jejich sestrojení, základní analýzu a vizualizaci.👀"
   ]
  },
  {
   "cell_type": "markdown",
   "id": "4677d3ef",
   "metadata": {},
   "source": [
    "Pro zajímavost citace k [%matplotlib inline](https://ipython.readthedocs.io/en/stable/interactive/plotting.html): _With this backend, the output of plotting commands is displayed inline within frontends like the Jupyter notebook, directly below the code cell that produced it. The resulting plots will then also be stored in the notebook document._"
   ]
  },
  {
   "cell_type": "code",
   "execution_count": null,
   "id": "2a0ec98e",
   "metadata": {},
   "outputs": [],
   "source": [
    "%matplotlib inline\n",
    "# %matplotlib widget"
   ]
  },
  {
   "cell_type": "code",
   "execution_count": null,
   "id": "b1ada8e6-edae-48ad-851e-28041f14a985",
   "metadata": {},
   "outputs": [],
   "source": [
    "import collections\n",
    "import warnings\n",
    "\n",
    "warnings.simplefilter(action=\"ignore\", category=FutureWarning)\n",
    "warnings.simplefilter(action=\"ignore\", category=DeprecationWarning)\n",
    "warnings.simplefilter(action=\"ignore\", category=UserWarning)\n",
    "import re\n",
    "import math\n",
    "import json\n",
    "from pprint import pprint"
   ]
  },
  {
   "cell_type": "code",
   "execution_count": null,
   "id": "a4a64468",
   "metadata": {},
   "outputs": [],
   "source": [
    "import matplotlib.pyplot as plt\n",
    "\n",
    "import pandas as pd\n",
    "import numpy as np\n",
    "import networkx as nx"
   ]
  },
  {
   "cell_type": "markdown",
   "id": "827aca6a-fd46-4937-8a18-8f7445c93a89",
   "metadata": {},
   "source": [
    "# 🌐 NetworkX\n",
    "[NetworkX](https://networkx.org/documentation/stable/index.html) je jedna z nejpopulárnějších knihoven pro práci s grafy a grafovými algoritmy. Díky ní můžeme grafy vizualizovat (v rozumné míře), transformovat, nebo sledovat jejich vlastnosti.\n",
    "\n",
    "NetworkX primárně není balíček pro kreslení grafů, ale obsahuje základní vykreslení pomocí Matplotlib a rozhraní pro použití open source balíčku [Graphviz](https://graphviz.org). Obojí je součástí modulu `networkx.drawing`. Různé ukázky grafů a jejich nastavení (popisky apod.) najdete v [NetworkX Gallery](https://networkx.org/documentation/latest/auto_examples/index.html)."
   ]
  },
  {
   "cell_type": "markdown",
   "id": "b710527f",
   "metadata": {},
   "source": [
    "## ☝️ Tvorba grafu\n",
    "\n",
    "Základním stavebním kamenem je instance Grafu. V Networkx se nachází třídy [`nx.Graph`](https://networkx.org/documentation/stable/reference/classes/graph.html) pro neorientovaný a [`nx.DiGraph`](https://networkx.org/documentation/stable/reference/classes/digraph.html) pro orientovaný graf. </br>\n",
    "V knihovně dále existuje implementace těchto tříd, která dovoluje vícenásobný počet hran mezi vrcholy [`nx.MultiGraph`](https://networkx.org/documentation/stable/reference/classes/multigraph.html) a [`nx.MultiDiGraph`](https://networkx.org/documentation/stable/reference/classes/multidigraph.html)."
   ]
  },
  {
   "cell_type": "code",
   "execution_count": null,
   "id": "7b44daa2",
   "metadata": {},
   "outputs": [],
   "source": [
    "G = nx.Graph()\n",
    "print(nx.info(G))"
   ]
  },
  {
   "cell_type": "markdown",
   "id": "683612e5",
   "metadata": {},
   "source": [
    "Což je samo o sobě samozřejmě k ničemu..."
   ]
  },
  {
   "cell_type": "markdown",
   "id": "25694135",
   "metadata": {},
   "source": [
    "## ☝️ Populace grafu\n",
    "\n",
    "Pojďme si vytvořit graf států střední Evropy 🌍:\n",
    "\n",
    "<img width=500 height=500 src=\"https://upload.wikimedia.org/wikipedia/commons/thumb/1/16/Central_Europe_%28Brockhaus%29.svg/1280px-Central_Europe_%28Brockhaus%29.svg.png\" alt=\"central europa\"/>\n",
    "\n",
    "Zdroj: https://en.wikipedia.org/wiki/Central_Europe."
   ]
  },
  {
   "cell_type": "markdown",
   "id": "5d682e6d",
   "metadata": {},
   "source": [
    "🏔 Pro **přidání vrcholů** do grafu můžeme použít metodu [`add_node(label, **kwargs)`](https://networkx.org/documentation/stable/reference/classes/generated/networkx.Graph.add_node.html)."
   ]
  },
  {
   "cell_type": "code",
   "execution_count": null,
   "id": "0bf0fb55",
   "metadata": {},
   "outputs": [],
   "source": [
    "G.add_node(\"Czechia\", type=\"country\")"
   ]
  },
  {
   "cell_type": "markdown",
   "id": "63cf077f",
   "metadata": {},
   "source": [
    "kde pomocí prvního argumentu specifikujeme identifikátor vrcholu (`číslo`, `řetězec`, `tuple`, apod.) a pomocí keyword argumentů (kwargs) specifikujeme **atributy vrcholu** ve formátu `klíč=hodnota`.\n",
    "\n",
    "Počty atributů a jejich hodnoty mohou být pokaždé různé."
   ]
  },
  {
   "cell_type": "code",
   "execution_count": null,
   "id": "03611795",
   "metadata": {},
   "outputs": [],
   "source": [
    "G.add_node(\"Prague\", type=\"city\", population=1309000)"
   ]
  },
  {
   "cell_type": "markdown",
   "id": "4a0aa99a",
   "metadata": {},
   "source": [
    "Jednotlivé uzly si můžeme vypsat následovně:"
   ]
  },
  {
   "cell_type": "code",
   "execution_count": null,
   "id": "1d4f0337",
   "metadata": {},
   "outputs": [],
   "source": [
    "G.nodes()"
   ]
  },
  {
   "cell_type": "markdown",
   "id": "3ff38f1c",
   "metadata": {},
   "source": [
    "Obdobně můžeme přidat několik vrcholů najednou pomocí [`add_nodes_from(iterable, **kwargs)`](https://networkx.org/documentation/stable/reference/classes/generated/networkx.Graph.add_nodes_from.html)"
   ]
  },
  {
   "cell_type": "code",
   "execution_count": null,
   "id": "51bde8e4",
   "metadata": {},
   "outputs": [],
   "source": [
    "countries = [\"Slovakia\", \"Hungary\", \"Poland\", \"Germany\", \"Austria\"]\n",
    "G.add_nodes_from(countries, type=\"country\")\n",
    "G.nodes()"
   ]
  },
  {
   "cell_type": "code",
   "execution_count": null,
   "id": "2e1979b1",
   "metadata": {},
   "outputs": [],
   "source": [
    "cities = [\"Bratislava\", \"Budapest\", \"Warsaw\", \"Berlin\", \"Vienna\"]\n",
    "G.add_nodes_from(cities, type=\"city\")\n",
    "G.nodes()"
   ]
  },
  {
   "cell_type": "markdown",
   "id": "0aac765b",
   "metadata": {},
   "source": [
    "S **přidáváním hran** je to už trochu složitější. Do metody [`add_edge`](https://networkx.org/documentation/stable/reference/classes/generated/networkx.Graph.add_edge.html) vkládáme dvojici vrcholů `u` a `v` mezi kterými následně vznikne (orientovaná) hrana. Stejným způsobem jako výše lze přidat také atributy hrany (včetně vážení hran nějakou číselnou hodnotou pomocí atributu `weight`). Nevýhodou je pracné vypisování těchto dvojic, proto doporučujeme proces zautomatizovat (např. pomocí [`add_edges_from`](https://networkx.org/documentation/stable/reference/classes/generated/networkx.Graph.add_edges_from.html)). \n",
    "\n",
    "Pojďme přidat hrany mezi státy a hlavní města:"
   ]
  },
  {
   "cell_type": "code",
   "execution_count": null,
   "id": "54aa920b",
   "metadata": {},
   "outputs": [],
   "source": [
    "countries += [\"Czechia\"]\n",
    "for i, x in enumerate(countries):\n",
    "    print(i, x)"
   ]
  },
  {
   "cell_type": "code",
   "execution_count": null,
   "id": "fe3eed70",
   "metadata": {},
   "outputs": [],
   "source": [
    "cities += [\"Prague\"]\n",
    "for i, x in enumerate(cities):\n",
    "    print(i, x)"
   ]
  },
  {
   "cell_type": "code",
   "execution_count": null,
   "id": "a58a0856",
   "metadata": {},
   "outputs": [],
   "source": [
    "G.add_edges_from(zip(countries, cities), type=\"capital\")\n",
    "\n",
    "# namísto\n",
    "# G.add_edge(\"Prague\", \"Czechia\", type=\"capital\")\n",
    "# G.add_edge(\"Bratislava\", \"Slovakia\", type=\"capital\")\n",
    "# G.add_edge(\"Budapest\", \"Hungary\", type=\"capital\")\n",
    "# G.add_edge(\"Warsaw\", \"Poland\", type=\"capital\")\n",
    "# G.add_edge(\"Berlin\", \"Germany\", type=\"capital\")\n",
    "# G.add_edge(\"Austria\", \"Vienna\", type=\"capital\")"
   ]
  },
  {
   "cell_type": "markdown",
   "id": "fb2cf327",
   "metadata": {},
   "source": [
    "☝️ Následujícím způsobem ještě propojíme sousední státy:"
   ]
  },
  {
   "cell_type": "code",
   "execution_count": null,
   "id": "c16c684f",
   "metadata": {},
   "outputs": [],
   "source": [
    "neighbouring_countries_indexes = [\n",
    "    [0, 1],\n",
    "    [0, 2],\n",
    "    [0, 5],\n",
    "    [1, 4],\n",
    "    [2, 3],\n",
    "    [2, 5],\n",
    "    [3, 4],\n",
    "    [3, 5],\n",
    "    [4, 5],\n",
    "]"
   ]
  },
  {
   "cell_type": "code",
   "execution_count": null,
   "id": "f72e5b63",
   "metadata": {},
   "outputs": [],
   "source": [
    "for (u_idx, v_idx) in neighbouring_countries_indexes:\n",
    "    G.add_edge(countries[u_idx], countries[v_idx], relation=\"neighbour\")"
   ]
  },
  {
   "cell_type": "code",
   "execution_count": null,
   "id": "2da2d4a9",
   "metadata": {},
   "outputs": [],
   "source": [
    "# zobrazení všech hran\n",
    "G.edges"
   ]
  },
  {
   "cell_type": "markdown",
   "id": "505ee39c",
   "metadata": {},
   "source": [
    "## ☝️ Vykreslení grafu\n",
    "\n",
    "A teď si celý graf vykreslíme pomocí funkce [`nx.draw(Graph)`](https://networkx.org/documentation/stable/reference/generated/networkx.drawing.nx_pylab.draw.html#draw)."
   ]
  },
  {
   "cell_type": "code",
   "execution_count": null,
   "id": "ffdc5680",
   "metadata": {},
   "outputs": [],
   "source": [
    "fig, ax = plt.subplots(figsize=(9, 8))\n",
    "nx.draw(G, with_labels=True)"
   ]
  },
  {
   "cell_type": "markdown",
   "id": "758366c5",
   "metadata": {},
   "source": [
    "👀 Takový graf je sice pěkný, ale je zde hodně prostoru pro zlepšení. Například pozice vrcholů neodpovídají jejich reálným pozicím na mapě.🌍\n",
    "\n",
    "Jako první zkusíme nastavit pozice jednotlivých vrcholů podle GPS souřadnic (u států se jedná o geografický střed)."
   ]
  },
  {
   "cell_type": "code",
   "execution_count": null,
   "id": "4a721757",
   "metadata": {},
   "outputs": [],
   "source": [
    "country_pos = {}"
   ]
  },
  {
   "cell_type": "code",
   "execution_count": null,
   "id": "ca0729b3",
   "metadata": {},
   "outputs": [],
   "source": [
    "# délka, šířka\n",
    "country_pos[\"Czechia\"] = np.array([15.472962, 49.817492])\n",
    "country_pos[\"Germany\"] = np.array([10.451526, 51.165691])\n",
    "country_pos[\"Poland\"] = np.array([19.145136, 51.919438])\n",
    "country_pos[\"Slovakia\"] = np.array([19.699024, 48.669026])\n",
    "country_pos[\"Austria\"] = np.array([14.550072, 47.516231])\n",
    "country_pos[\"Hungary\"] = np.array([19.503304, 47.162494])"
   ]
  },
  {
   "cell_type": "code",
   "execution_count": null,
   "id": "9498af41",
   "metadata": {},
   "outputs": [],
   "source": [
    "# šířka, délka -> proto otočení pole\n",
    "country_pos[\"Prague\"] = np.array([50.08804, 14.42076][::-1])\n",
    "country_pos[\"Berlin\"] = np.array([52.51704, 13.38886][::-1])\n",
    "country_pos[\"Warsaw\"] = np.array([52.23372, 21.07143][::-1])\n",
    "country_pos[\"Bratislava\"] = np.array([48.15926, 17.13966][::-1])\n",
    "country_pos[\"Vienna\"] = np.array([48.20900, 16.21569][::-1])\n",
    "country_pos[\"Budapest\"] = np.array([47.48139, 19.14609][::-1])"
   ]
  },
  {
   "cell_type": "markdown",
   "id": "fbe7e6f5",
   "metadata": {},
   "source": [
    "Pak už jen pozice uzlů přidáme pomocí parametru [`pos`](https://networkx.org/documentation/stable/reference/generated/networkx.drawing.nx_pylab.draw.html#networkx.drawing.nx_pylab.draw) spolu s dalšími náležitostmi. Pro zajímavost: Pokud nespecifikujete pozici uzlů, je použit \"Spring layout\" ([Fruchterman & Reingold (1991)](https://en.wikipedia.org/wiki/Force-directed_graph_drawing))."
   ]
  },
  {
   "cell_type": "code",
   "execution_count": null,
   "id": "5c9a6467",
   "metadata": {
    "scrolled": false
   },
   "outputs": [],
   "source": [
    "fig, ax = plt.subplots(figsize=(9, 8))\n",
    "nx.draw(G, pos=country_pos, with_labels=True)\n",
    "fig.suptitle(\"Některé státy střední Evropy a jejich hlavní města\")\n",
    "plt.show()"
   ]
  },
  {
   "cell_type": "markdown",
   "id": "d63008db",
   "metadata": {},
   "source": [
    "## 📍Vzdálenosti mezi jednotlivými body\n",
    "\n",
    "GPS souřadnice bodů jsou užitečné informace, avšak kromě pozice jednotlivých vrcholů nám toho moc neřeknou. Ve 2D světě bychom použili například Euklidovskou vzdálenost, jelikož ale `Země není plochá`, nýbrž kulatá, použijeme [haversinovu formuli](https://math.stackexchange.com/questions/2799399/great-circle-distance-using-haversine-formula), která slouží pro výpočet vzdálenosti dvou bodů na kouli.\n",
    "\n",
    "> **🗒️ _Poznámka:_**  Někdo by mohl namítat, že země není ani kulatá, máte pravdu je to nepravidelný elipsoid.\n"
   ]
  },
  {
   "cell_type": "code",
   "execution_count": null,
   "id": "b545944b",
   "metadata": {},
   "outputs": [],
   "source": [
    "def distance(u: str, v: str):\n",
    "    \"\"\"Calculates a distance between two GPS points.\"\"\"\n",
    "\n",
    "    long1, lat1 = map(math.radians, country_pos[u])\n",
    "    long2, lat2 = map(math.radians, country_pos[v])\n",
    "\n",
    "    # Haversine Formula\n",
    "\n",
    "    delta_long = long2 - long1\n",
    "    delta_lat = lat2 - lat1\n",
    "\n",
    "    ans = math.pow(math.sin(delta_lat / 2), 2) + math.pow(\n",
    "        math.sin(delta_long / 2), 2\n",
    "    ) * math.cos(lat1) * math.cos(lat2)\n",
    "\n",
    "    ans = 2 * math.asin(math.sqrt(ans))\n",
    "    radius_to_km = 6371\n",
    "    return ans * radius_to_km"
   ]
  },
  {
   "cell_type": "code",
   "execution_count": null,
   "id": "3e7a4741",
   "metadata": {},
   "outputs": [],
   "source": [
    "distance(\"Prague\", \"Bratislava\")"
   ]
  },
  {
   "cell_type": "markdown",
   "id": "94e90bc9",
   "metadata": {},
   "source": [
    "Což je dost blízko reálné vzdálenosti, podle Googlu je to 332 km. Zároveň můžeme vzdálenost nastavit jako váhu (`weight`) jednotlivých hran."
   ]
  },
  {
   "cell_type": "code",
   "execution_count": null,
   "id": "26d27f21",
   "metadata": {},
   "outputs": [],
   "source": [
    "for src, dest, edge_attrs in G.edges(data=True):\n",
    "    edge_attrs[\"distance\"] = f\"{int(distance(src, dest))}km\"\n",
    "    edge_attrs[\"weight\"] = distance(src, dest)"
   ]
  },
  {
   "cell_type": "code",
   "execution_count": null,
   "id": "5d5739a4",
   "metadata": {},
   "outputs": [],
   "source": [
    "# vzdálenost mezi všemi propojenými dvojicemi uzlů\n",
    "labels = {edge: G.edges[edge][\"distance\"] for edge in G.edges}\n",
    "labels"
   ]
  },
  {
   "cell_type": "markdown",
   "id": "ca88259e",
   "metadata": {},
   "source": [
    "Spočtené vzdálenosti můžeme přidat jako **popisky jednotlivých hran**. Pozn.: Stejně jako u jiných grafů, můžete měnit barvu popisků, jejich velikost a pozici. Obdobně jste také schopni ladit zobrazení uzlů (ukážeme si níže)."
   ]
  },
  {
   "cell_type": "code",
   "execution_count": null,
   "id": "175e042d",
   "metadata": {},
   "outputs": [],
   "source": [
    "# data s pozicí popisků hran\n",
    "pos_attrs = {}\n",
    "for node, coords in country_pos.items():\n",
    "    pos_attrs[node] = (coords[0], coords[1] + 0.2)"
   ]
  },
  {
   "cell_type": "code",
   "execution_count": null,
   "id": "f1dc928d",
   "metadata": {},
   "outputs": [],
   "source": [
    "fig, ax = plt.subplots(figsize=(12, 12))\n",
    "nx.draw(G, pos=country_pos, with_labels=True)\n",
    "nx.draw_networkx_edge_labels(G, pos=pos_attrs, edge_labels=labels, font_color='red', font_size=16)\n",
    "plt.show()"
   ]
  },
  {
   "cell_type": "markdown",
   "id": "54481636",
   "metadata": {},
   "source": [
    "### 🎨 Obarvení grafu\n",
    "\n",
    "Grafy lze samozřejmě různě obarvovat. Při vykreslování je třeba každé entitě přiřadit barvu. Je možné použít `hexadecimální barevné kódy` (např. `#eb4034`), stringový identifikátor barvy (`green`), pokud je definovaná v matplotlibu, nebo jejich zkrácené formy (`g`). Obarvit lze hrany, vrcholy, ohraničení vrcholů nebo textové popisky."
   ]
  },
  {
   "cell_type": "code",
   "execution_count": null,
   "id": "632c71dc",
   "metadata": {},
   "outputs": [],
   "source": [
    "country_colormap = [\n",
    "    \"g\" if G.nodes[node][\"type\"] == \"country\" else \"r\" for node in G.nodes\n",
    "]"
   ]
  },
  {
   "cell_type": "code",
   "execution_count": null,
   "id": "3429ba4a",
   "metadata": {},
   "outputs": [],
   "source": [
    "fig, ax = plt.subplots(figsize=(12, 12))\n",
    "nx.draw(G, with_labels=True, pos=country_pos, node_color=country_colormap)\n",
    "nx.draw_networkx_edge_labels(G, pos=country_pos, edge_labels=labels)\n",
    "plt.show()"
   ]
  },
  {
   "cell_type": "markdown",
   "id": "5da6d9d1",
   "metadata": {},
   "source": [
    "### 🏁 Pojďme to dotáhnout do úplnosti"
   ]
  },
  {
   "cell_type": "code",
   "execution_count": null,
   "id": "16a196b8",
   "metadata": {},
   "outputs": [],
   "source": [
    "# rozdeleni vrcholu na mesta a staty\n",
    "countries = [\n",
    "    node for node, node_attr in G.nodes(True) if node_attr[\"type\"] == \"country\"\n",
    "]\n",
    "cities = [node for node, node_attr in G.nodes(True) if node_attr[\"type\"] == \"city\"]"
   ]
  },
  {
   "cell_type": "code",
   "execution_count": null,
   "id": "4f93c6d7",
   "metadata": {},
   "outputs": [],
   "source": [
    "# rozdeleni hran na mezistatni a vnitrostatni\n",
    "city_to_country_edges = [\n",
    "    edge for edge in G.edges if edge[0] in cities or edge[1] in cities\n",
    "]\n",
    "inter_state_edges = [\n",
    "    edge for edge in G.edges if not (edge[0] in cities or edge[1] in cities)\n",
    "]"
   ]
  },
  {
   "cell_type": "code",
   "execution_count": null,
   "id": "5145ccd2",
   "metadata": {},
   "outputs": [],
   "source": [
    "# pocty obyvatel ve statisicich\n",
    "populations = {\n",
    "    \"Berlin\": 36,\n",
    "    \"Germany\": 832,\n",
    "    \"Prague\": 13,\n",
    "    \"Czechia\": 107,\n",
    "    \"Warsaw\": 17,\n",
    "    \"Poland\": 379,\n",
    "    \"Bratislava\": 4,\n",
    "    \"Slovakia\": 54,\n",
    "    \"Vienna\": 18,\n",
    "    \"Austria\": 89,\n",
    "    \"Budapest\": 17,\n",
    "    \"Hungary\": 97,\n",
    "}\n",
    "cities_size = [populations[city] for city in cities]\n",
    "countries_size = [populations[city] for city in countries]"
   ]
  },
  {
   "cell_type": "markdown",
   "id": "e588e54b",
   "metadata": {},
   "source": [
    "S takto připravenými daty jsme schopni např. měnit velikost uzlu podle počtu obyvatel města/země a pomocí typu čáry rozlišit hranu mezi státy (S-S, `dotted`) nebo mezi státem a městem (C-S, `dashed`). Můžeme upravit i velikost fontu a zobrazit si legendu."
   ]
  },
  {
   "cell_type": "code",
   "execution_count": null,
   "id": "91ea3f81",
   "metadata": {},
   "outputs": [],
   "source": [
    "fig, ax = plt.subplots(figsize=(16, 8))\n",
    "\n",
    "nx.draw_networkx_nodes(\n",
    "    G,\n",
    "    country_pos,\n",
    "    nodelist=countries,\n",
    "    node_color=\"green\",\n",
    "    label=\"Státy (S)\",\n",
    "    node_size=countries_size,\n",
    ")\n",
    "nx.draw_networkx_nodes(\n",
    "    G,\n",
    "    country_pos,\n",
    "    nodelist=cities,\n",
    "    node_color=\"red\",\n",
    "    label=\"Hlavní města(C)\",\n",
    "    node_size=cities_size,\n",
    ")\n",
    "\n",
    "nx.draw_networkx_edges(\n",
    "    G,\n",
    "    country_pos,\n",
    "    style=\"dashed\",\n",
    "    edgelist=city_to_country_edges,\n",
    "    label=\"$C \\leftrightarrow S$\",\n",
    ")\n",
    "nx.draw_networkx_edges(\n",
    "    G,\n",
    "    country_pos,\n",
    "    style=\"dotted\",\n",
    "    edgelist=inter_state_edges,\n",
    "    label=\"$S \\leftrightarrow S$\",\n",
    ")\n",
    "\n",
    "nx.draw_networkx_labels(G, country_pos)\n",
    "\n",
    "nx.draw_networkx_edge_labels(G, pos=country_pos, edge_labels=labels, font_size=8)\n",
    "plt.legend()\n",
    "fig.suptitle(\"Vzdálenost mezi sousedními státy a jejich hlavními městy\", size=20)\n",
    "plt.axis(\"off\")\n",
    "\n",
    "plt.show()"
   ]
  },
  {
   "cell_type": "markdown",
   "id": "d1a8ba56",
   "metadata": {},
   "source": [
    "## ☝️ Další důležité funkcionality NetworkX"
   ]
  },
  {
   "cell_type": "markdown",
   "id": "c613ea22",
   "metadata": {},
   "source": [
    "S `G.nodes` jsme se již potkali, avšak budeme-li chtít přistupovat k atributům vrcholů, potřebujeme přidat parametr `data=True`. "
   ]
  },
  {
   "cell_type": "code",
   "execution_count": null,
   "id": "c52bffec",
   "metadata": {},
   "outputs": [],
   "source": [
    "G.nodes(data=True)"
   ]
  },
  {
   "cell_type": "markdown",
   "id": "e85ee62c",
   "metadata": {},
   "source": [
    "Obdobně pak pracujeme s hranami."
   ]
  },
  {
   "cell_type": "code",
   "execution_count": null,
   "id": "d1efdd9e",
   "metadata": {},
   "outputs": [],
   "source": [
    "G.edges"
   ]
  },
  {
   "cell_type": "code",
   "execution_count": null,
   "id": "b6730872",
   "metadata": {},
   "outputs": [],
   "source": [
    "G.edges(data=True)"
   ]
  },
  {
   "cell_type": "markdown",
   "id": "f7754345",
   "metadata": {},
   "source": [
    "Chceme-li pracovat s nějakou specifickou hranou nebo vrcholem, stačí k němu přistoupit pomocí jeho identifikátoru."
   ]
  },
  {
   "cell_type": "markdown",
   "id": "612bbfed",
   "metadata": {},
   "source": [
    "### 🔍 Přístup k atributům"
   ]
  },
  {
   "cell_type": "code",
   "execution_count": null,
   "id": "02ea3bf9",
   "metadata": {},
   "outputs": [],
   "source": [
    "G.nodes[\"Prague\"]"
   ]
  },
  {
   "cell_type": "code",
   "execution_count": null,
   "id": "c9f8e181",
   "metadata": {},
   "outputs": [],
   "source": [
    "G.nodes[\"Prague\"][\"type\"]"
   ]
  },
  {
   "cell_type": "code",
   "execution_count": null,
   "id": "a93cc39e",
   "metadata": {},
   "outputs": [],
   "source": [
    "G.edges[(\"Prague\", \"Czechia\")]"
   ]
  },
  {
   "cell_type": "markdown",
   "id": "e3473d5e",
   "metadata": {},
   "source": [
    "### ☝️ Stupně vrcholů"
   ]
  },
  {
   "cell_type": "code",
   "execution_count": null,
   "id": "2ddddefb",
   "metadata": {},
   "outputs": [],
   "source": [
    "G.degree"
   ]
  },
  {
   "cell_type": "code",
   "execution_count": null,
   "id": "26a29b13",
   "metadata": {},
   "outputs": [],
   "source": [
    "G.degree(\"Czechia\")"
   ]
  },
  {
   "cell_type": "markdown",
   "id": "22f64992",
   "metadata": {},
   "source": [
    "U orientovaných grafů je dobré mít na mysli, že: `G.degree[node] = G.in_degree[node] + G.out_degree[node]` "
   ]
  },
  {
   "cell_type": "markdown",
   "id": "2f68d063",
   "metadata": {},
   "source": [
    "### 🏘 Sousední vrcholy"
   ]
  },
  {
   "cell_type": "code",
   "execution_count": null,
   "id": "589c122f",
   "metadata": {},
   "outputs": [],
   "source": [
    "for x in nx.all_neighbors(G, \"Czechia\"):\n",
    "    print(x)"
   ]
  },
  {
   "cell_type": "markdown",
   "id": "59d08a47",
   "metadata": {},
   "source": [
    "### 🕸 Hustota grafu\n",
    "\n",
    "Hustota grafu vypovídá o jeho provázanosti. Konkrétně se jedná o poměr přítomných hran ku všem možným hranám. Její hodnota se pohybuje od 0 do 1."
   ]
  },
  {
   "cell_type": "code",
   "execution_count": null,
   "id": "3632e4c5",
   "metadata": {},
   "outputs": [],
   "source": [
    "nx.density(G)"
   ]
  },
  {
   "cell_type": "markdown",
   "id": "statewide-priority",
   "metadata": {},
   "source": [
    "Tedy vidíme, že hustota grafu je nízká a státy a města tak nejsou mezi sebou příliš propojená."
   ]
  },
  {
   "cell_type": "markdown",
   "id": "b731672a",
   "metadata": {},
   "source": [
    "### ☝️ Test silné souvislosti\n",
    "\n",
    "Tzn. zda se jedná o souvislý graf (pro každou dvojici uzlů existuje cesta), tj. takový graf, který má pouze jednu komponentu souvislosti."
   ]
  },
  {
   "cell_type": "code",
   "execution_count": null,
   "id": "ce8825be",
   "metadata": {},
   "outputs": [],
   "source": [
    "nx.is_connected(G)"
   ]
  },
  {
   "cell_type": "markdown",
   "id": "8baec514",
   "metadata": {},
   "source": [
    "### 👩‍👧 Podgraf \n",
    "\n",
    "Občas se stane, že potřebujeme pracovat jenom s podgrafem. K tomu využijeme metodu `subgraph(nodes)`, která na základě seznamu vrcholů vytvoří podgraf. Metoda vrací pouze `immutable` view na původní graf. "
   ]
  },
  {
   "cell_type": "code",
   "execution_count": null,
   "id": "3bc0b2d5",
   "metadata": {},
   "outputs": [],
   "source": [
    "# pouze státy\n",
    "C = G.subgraph(countries)"
   ]
  },
  {
   "cell_type": "code",
   "execution_count": null,
   "id": "154ed211",
   "metadata": {
    "scrolled": false
   },
   "outputs": [],
   "source": [
    "fig, ax = plt.subplots(figsize=(9, 8))\n",
    "\n",
    "nx.draw_networkx_nodes(\n",
    "    C,\n",
    "    country_pos,\n",
    "    nodelist=countries,\n",
    "    node_color=\"green\",\n",
    "    label=\"State\",\n",
    "    node_size=countries_size,\n",
    ")\n",
    "\n",
    "nx.draw_networkx_edges(\n",
    "    C,\n",
    "    country_pos,\n",
    "    style=\"dotted\",\n",
    "    edgelist=inter_state_edges,\n",
    "    label=\"$S_u \\leftrightarrow S_v$\",\n",
    ")\n",
    "\n",
    "nx.draw_networkx_labels(C, country_pos)\n",
    "# nx.draw(G, with_labels=True, pos=country_pos, node_color=country_colormap);\n",
    "nx.draw_networkx_edge_labels(\n",
    "    C,\n",
    "    pos=country_pos,\n",
    "    edge_labels={\n",
    "        (src, dest): v\n",
    "        for (src, dest), v in labels.items()\n",
    "        if src in countries and dest in countries\n",
    "    },\n",
    "    font_size=8,\n",
    ")\n",
    "plt.legend()\n",
    "ax.set_title(\n",
    "    \"Vizualizace států střední Evropy, jejich vzdálenosti a velikosti podle počtu obyvatel\"\n",
    ")\n",
    "plt.axis(\"off\")\n",
    "plt.show()"
   ]
  },
  {
   "cell_type": "markdown",
   "id": "de582ecb",
   "metadata": {},
   "source": [
    "## 🚀 Pokročilejší funkcionality"
   ]
  },
  {
   "cell_type": "markdown",
   "id": "60ae30ed",
   "metadata": {},
   "source": [
    "### 🪚 Hranové řezy\n",
    "\n",
    "[Hranový řez](https://en.wikipedia.org/wiki/Bridge_%28graph_theory%29#Bridge-Finding_with_Chain_Decompositions) představuje takovou minimální množinu hran, po jejímž odstranění se graf stane nesouvislým. Tzn. že po odstranění takové hrany dojde ke zvýšení počtu komponent grafu. Odstraněná hrana zároveň není součástí žádného cyklu."
   ]
  },
  {
   "cell_type": "code",
   "execution_count": null,
   "id": "2cf35474",
   "metadata": {},
   "outputs": [],
   "source": [
    "list(nx.bridges(G))"
   ]
  },
  {
   "cell_type": "markdown",
   "id": "minus-samba",
   "metadata": {},
   "source": [
    "Abychom vytvořili nesouvislý graf, stačí nám odstranit právě jednu hranu, která spojuje stát a jeho hlavní město."
   ]
  },
  {
   "cell_type": "markdown",
   "id": "6fa3c531",
   "metadata": {},
   "source": [
    "### ☝️ Kliky v grafu\n",
    "\n",
    "Klika grafu je takovým podgrafem, který je úplným grafem, tzn. jehož všechny vrcholy jsou spojeny hranou se všemi zbylými. "
   ]
  },
  {
   "cell_type": "code",
   "execution_count": null,
   "id": "6b811f6f",
   "metadata": {},
   "outputs": [],
   "source": [
    "cliques = list(filter(lambda x: len(x) > 2, nx.enumerate_all_cliques(G)))\n",
    "cliques"
   ]
  },
  {
   "cell_type": "markdown",
   "id": "cardiac-meeting",
   "metadata": {},
   "source": [
    "Nebo kliky, které obsahují konkrétní uzel."
   ]
  },
  {
   "cell_type": "code",
   "execution_count": null,
   "id": "seven-fluid",
   "metadata": {},
   "outputs": [],
   "source": [
    "nx.algorithms.clique.cliques_containing_node(G, nodes=[\"Czechia\"])"
   ]
  },
  {
   "cell_type": "markdown",
   "id": "9f2e638b",
   "metadata": {},
   "source": [
    "Kliky můžete různými způsoby v grafu vizualizovat:"
   ]
  },
  {
   "cell_type": "code",
   "execution_count": null,
   "id": "59946c62",
   "metadata": {},
   "outputs": [],
   "source": [
    "clique_idx = 0\n",
    "assert clique_idx < len(cliques)\n",
    "\n",
    "fig, ax = plt.subplots(figsize=(12, 12))\n",
    "nx.draw_networkx_nodes(\n",
    "    G,\n",
    "    label=True,\n",
    "    pos=country_pos,\n",
    "    node_color=[\"red\" if node in cliques[clique_idx] else \"grey\" for node in G.nodes],\n",
    ")\n",
    "nx.draw_networkx_edges(\n",
    "    G,\n",
    "    label=True,\n",
    "    pos=country_pos,\n",
    "    edge_color=[\n",
    "        \"red\" if edge in G.subgraph(cliques[clique_idx]).edges else \"grey\"\n",
    "        for edge in G.edges\n",
    "    ],\n",
    ")\n",
    "nx.draw_networkx_edge_labels(G, pos=country_pos, edge_labels=labels)\n",
    "plt.title(f\"Klika {'-'.join(cliques[clique_idx])}\")\n",
    "plt.show()"
   ]
  },
  {
   "cell_type": "markdown",
   "id": "251d1dd8",
   "metadata": {},
   "source": [
    "### ☝️ Nejkratší cesty \n",
    "\n",
    "Seznam nejkratších cest mezi `source` a `target` uzlem získáme pomocí metody [all_shortest_paths(G, source, target, weight=None, method='dijkstra')](https://networkx.org/documentation/stable/reference/algorithms/generated/networkx.algorithms.shortest_paths.generic.all_shortest_paths.html)."
   ]
  },
  {
   "cell_type": "code",
   "execution_count": null,
   "id": "eda38764",
   "metadata": {},
   "outputs": [],
   "source": [
    "list(nx.all_shortest_paths(G, \"Prague\", \"Budapest\"))"
   ]
  },
  {
   "cell_type": "markdown",
   "id": "665ac6b6",
   "metadata": {},
   "source": [
    "Pokud máme vážený graf (hrana má atribut `weight` - číslo ), můžeme k hledání nejkratší cesty použít algoritmy k tomu určené. Například A* [`astar`](https://networkx.org/documentation/stable/reference/algorithms/generated/networkx.algorithms.shortest_paths.astar.astar_path.html)."
   ]
  },
  {
   "cell_type": "code",
   "execution_count": null,
   "id": "70628e24",
   "metadata": {},
   "outputs": [],
   "source": [
    "list(nx.astar_path(G, \"Berlin\", \"Budapest\"))"
   ]
  },
  {
   "cell_type": "code",
   "execution_count": null,
   "id": "9f3c8cb0",
   "metadata": {},
   "outputs": [],
   "source": [
    "src, dest = \"Berlin\", \"Prague\"\n",
    "path = list(nx.astar_path(G, src, dest))\n",
    "\n",
    "edges = [(path[i], path[i + 1]) for i in range(len(path) - 1)]\n",
    "\n",
    "fig, ax = plt.subplots(figsize=(12, 12))\n",
    "nx.draw_networkx_nodes(\n",
    "    G,\n",
    "    label=True,\n",
    "    pos=country_pos,\n",
    "    node_color=[\"red\" if node in path else \"grey\" for node in G.nodes],\n",
    ")\n",
    "nx.draw_networkx_edges(\n",
    "    G,\n",
    "    label=True,\n",
    "    pos=country_pos,\n",
    "    edge_color=[\n",
    "        \"red\" if edge in edges or edge[::-1] in edges else \"grey\" for edge in G.edges\n",
    "    ],\n",
    ")\n",
    "nx.draw_networkx_edge_labels(G, pos=country_pos, edge_labels=labels)\n",
    "nx.draw_networkx_labels(G, pos=country_pos)\n",
    "plt.title(\n",
    "    f\"Nejkratší cesta {src}->{dest} ({sum([G.edges[edge]['weight'] for edge in edges]):6.2f} km)\"\n",
    ")\n",
    "plt.show()"
   ]
  },
  {
   "cell_type": "markdown",
   "id": "f0e16e4c",
   "metadata": {},
   "source": [
    "A samozřejmě vše ostatní co najdete v dokumentaci..."
   ]
  },
  {
   "cell_type": "markdown",
   "id": "bb7df529",
   "metadata": {},
   "source": [
    "## 🔀 Náhodně generované grafy"
   ]
  },
  {
   "cell_type": "markdown",
   "id": "1a511c79",
   "metadata": {},
   "source": [
    "Kromě vytváření vlastních grafů a používání grafových datasetů je v `NetworkX` možné generovat umělé grafy. Například pomocí [`nx.gaussian_random_partition_graph(n, s, v, p_in, p_out,)`](https://networkx.org/documentation/stable/reference/generated/networkx.generators.community.gaussian_random_partition_graph.html), kde: \n",
    "- `n` je počet vrcholů\n",
    "- `s` je průměrná velikost clusterů\n",
    "- `v` je rozptyl velikosti clusterů\n",
    "- `p_in` je pravděpodobnost že mezi vrcholy uvnitř clusteru vznikne hrana\n",
    "- `p_out` je pravděpodobnost že mezi vrcholy z jiných clusterů vznikne hrana\n",
    "\n",
    "🛠 Na ukázku si vytvoříme graf, který bude mít mezi `3` až `6` souvislými komponentami.\n",
    "\n",
    "Pro vytváření grafů existují i další způsoby, vizte [`generátory grafů`](https://networkx.org/documentation/stable/reference/generators.html)."
   ]
  },
  {
   "cell_type": "code",
   "execution_count": null,
   "id": "01f87a22",
   "metadata": {},
   "outputs": [],
   "source": [
    "gaussian = nx.gaussian_random_partition_graph(250, 62, 1.3, 0.5, 0.0)\n",
    "while not len(list(nx.components.connected_components(gaussian))) in range(3, 6):\n",
    "    gaussian = nx.gaussian_random_partition_graph(250, 62, 1.3, 0.5, 0.0)\n",
    "    \n",
    "nx.number_connected_components(gaussian)"
   ]
  },
  {
   "cell_type": "code",
   "execution_count": null,
   "id": "12868bb3",
   "metadata": {},
   "outputs": [],
   "source": [
    "# odebereme izolované vrcholy, tak můžeme zmenšit počet komponent\n",
    "for x in list(nx.components.connected_components(gaussian)):\n",
    "    if len(x) == 1:\n",
    "        gaussian.remove_nodes_from(x)\n",
    "\n",
    "nx.number_connected_components(gaussian)"
   ]
  },
  {
   "cell_type": "markdown",
   "id": "80a789f3",
   "metadata": {},
   "source": [
    "Vidíte, že nedošlo k odstranění žádných komponent. Před tímto krokem by se hodilo provést analýzu, kolik uzlů se nachází v každé komponentě a dle toho filtrovat. To si můžete zkusit za ⭐️**domácí úkol**⭐️.\n",
    "\n",
    "Pro zmenšení velikosti grafu existuje několik přístupů, vždy však záleží na dané úloze. Provedenou úpravu musíte mít po zbytek analýzy na paměti, abyste nevyvodili chybné/zkreslené závěry."
   ]
  },
  {
   "cell_type": "code",
   "execution_count": null,
   "id": "884024f5",
   "metadata": {},
   "outputs": [],
   "source": [
    "# má pouze jednu komponentu souvislosti?\n",
    "nx.is_connected(gaussian)"
   ]
  },
  {
   "cell_type": "code",
   "execution_count": null,
   "id": "f8538e89",
   "metadata": {
    "scrolled": false
   },
   "outputs": [],
   "source": [
    "fig, ax = plt.subplots(figsize=(9, 8))\n",
    "nx.draw(gaussian, pos=nx.spring_layout(gaussian))\n",
    "plt.show()"
   ]
  },
  {
   "cell_type": "code",
   "execution_count": null,
   "id": "836d7a98",
   "metadata": {},
   "outputs": [],
   "source": [
    "first_component = gaussian.subgraph(\n",
    "    list(nx.components.connected_components(gaussian))[0]\n",
    ")"
   ]
  },
  {
   "cell_type": "code",
   "execution_count": null,
   "id": "annoying-tender",
   "metadata": {},
   "outputs": [],
   "source": [
    "fig = plt.figure(figsize=(5, 5))\n",
    "nx.draw(first_component, with_labels=True)"
   ]
  },
  {
   "cell_type": "markdown",
   "id": "designing-douglas",
   "metadata": {},
   "source": [
    "Doposud jsme nezmínili, že pomocí `nx.info()` lze získat přehled o počtu uzlů a hran v daném grafu. Nicméně pozor: `info is deprecated and will be removed in version 3.0.`"
   ]
  },
  {
   "cell_type": "code",
   "execution_count": null,
   "id": "8faf8acc",
   "metadata": {},
   "outputs": [],
   "source": [
    "print(nx.info(first_component))"
   ]
  },
  {
   "cell_type": "markdown",
   "id": "a0ded71c",
   "metadata": {},
   "source": [
    "Ve vygenerovaném grafu můžeme provést **analýzu stupňů vrcholů** 🕵🏻‍♂️. My si ji vyzkoušíme pro všechny komponenty vygenerovaného grafu, ale mohlo by být zajímavé analyzovat každou komponentu zvlášť ☝️."
   ]
  },
  {
   "cell_type": "code",
   "execution_count": null,
   "id": "a6d32239",
   "metadata": {},
   "outputs": [],
   "source": [
    "degrees = [d for n, d in gaussian.degree()]\n",
    "degreeCount = collections.Counter(degrees)\n",
    "deg, cnt = zip(*degreeCount.items())"
   ]
  },
  {
   "cell_type": "code",
   "execution_count": null,
   "id": "335169f5",
   "metadata": {
    "scrolled": false
   },
   "outputs": [],
   "source": [
    "fig, (ax, ax2) = plt.subplots(2, 1, figsize=(16, 10))\n",
    "ax.hist(degrees, bins=max(degrees) - min(degrees))\n",
    "\n",
    "ax.set_title(\"Histogram stupňů vrcholů\")\n",
    "ax.set_ylabel(\"Počet\")\n",
    "ax.set_xlabel(\"Stupeň\")\n",
    "ax.set_xticks([d + 0.4 for d in deg])\n",
    "ax.set_xticklabels(deg)\n",
    "\n",
    "ax2.boxplot([d for n, d in gaussian.degree()], notch=True, vert=False)\n",
    "ax2.set_title(\"Boxplot stupňů vrcholů\")\n",
    "ax2.set_xlabel(\"Stupeň\")\n",
    "plt.suptitle(\"Analýza stupňů vrcholů náhodně vygenerovaného grafu\", size=15)\n",
    "plt.show()"
   ]
  },
  {
   "cell_type": "markdown",
   "id": "visible-bosnia",
   "metadata": {},
   "source": [
    "O stupních vrcholů lze také získat základní statistiky:"
   ]
  },
  {
   "cell_type": "code",
   "execution_count": null,
   "id": "67780cbf",
   "metadata": {},
   "outputs": [],
   "source": [
    "print(f\"Min:\\t{np.min(degrees)}\")\n",
    "print(f\"Max:\\t{np.max(degrees)}\")\n",
    "print(f\"Mean:\\t{np.mean(degrees)}\")\n",
    "print(f\"Std:\\t{np.std(degrees)}\")\n",
    "print(f\"Medián:\\t{np.median(degrees)}\")"
   ]
  },
  {
   "cell_type": "markdown",
   "id": "f3ebb7ed",
   "metadata": {},
   "source": [
    "## ☝️ Centrality v grafu"
   ]
  },
  {
   "cell_type": "code",
   "execution_count": null,
   "id": "20edd658",
   "metadata": {},
   "outputs": [],
   "source": [
    "# si neukážeme, protože je budete řešit v rámci domácího úkolu"
   ]
  },
  {
   "cell_type": "markdown",
   "id": "92d42413",
   "metadata": {},
   "source": [
    "## ☝️ Serializace"
   ]
  },
  {
   "cell_type": "markdown",
   "id": "4bbaa178",
   "metadata": {},
   "source": [
    "NetworkX umí serializovat data například ve formáru `json`, nebo `txt`.  "
   ]
  },
  {
   "cell_type": "code",
   "execution_count": null,
   "id": "af12f0aa",
   "metadata": {},
   "outputs": [],
   "source": [
    "nx.write_adjlist(G, \"country_graph.txt\")"
   ]
  },
  {
   "cell_type": "code",
   "execution_count": null,
   "id": "47288732",
   "metadata": {
    "scrolled": false
   },
   "outputs": [],
   "source": [
    "%%bash\n",
    "cat country_graph.txt | head -n 20"
   ]
  },
  {
   "cell_type": "code",
   "execution_count": null,
   "id": "9071fc15",
   "metadata": {},
   "outputs": [],
   "source": [
    "loaded_country = nx.read_adjlist(\"country_graph.txt\", create_using=nx.DiGraph)"
   ]
  },
  {
   "cell_type": "code",
   "execution_count": null,
   "id": "f1541912",
   "metadata": {},
   "outputs": [],
   "source": [
    "fig, ax = plt.subplots(figsize=(9, 8))\n",
    "nx.draw(loaded_country, pos=country_pos, with_labels=True)\n",
    "plt.show()"
   ]
  },
  {
   "cell_type": "markdown",
   "id": "0192b3e9",
   "metadata": {},
   "source": [
    "## ☝️ Gephi formát\n",
    "\n",
    "`NetworkX` umožňuje také pracovat s formátem, který používá i populární vizualizační nástroj [gephi](https://gephi.org/)."
   ]
  },
  {
   "cell_type": "code",
   "execution_count": null,
   "id": "acc0d6d7",
   "metadata": {},
   "outputs": [],
   "source": [
    "nx.write_gexf(G, \"country_graph.gexf\")"
   ]
  },
  {
   "cell_type": "code",
   "execution_count": null,
   "id": "fe9c7b18",
   "metadata": {},
   "outputs": [],
   "source": [
    "%%bash\n",
    "cat country_graph.gexf | head -n 50 | tail -n 30"
   ]
  },
  {
   "cell_type": "markdown",
   "id": "3030c1ea",
   "metadata": {},
   "source": [
    "# 🎉 To je ze seznámení se s NetworkX vše! 🎉\n",
    "Ještě nás čeká ukázka analýzy postav ze seriálu Dark ('dark_analysis.ipynb') 📺 a simulace sociálního experimentu ('simulation.ipynb') 🕵🏻‍♂️."
   ]
  }
 ],
 "metadata": {
  "kernelspec": {
   "display_name": "Python 3 (ipykernel)",
   "language": "python",
   "name": "python3"
  },
  "language_info": {
   "codemirror_mode": {
    "name": "ipython",
    "version": 3
   },
   "file_extension": ".py",
   "mimetype": "text/x-python",
   "name": "python",
   "nbconvert_exporter": "python",
   "pygments_lexer": "ipython3",
   "version": "3.9.12"
  },
  "toc": {
   "base_numbering": 1,
   "nav_menu": {},
   "number_sections": false,
   "sideBar": true,
   "skip_h1_title": true,
   "title_cell": "Table of Contents",
   "title_sidebar": "Contents",
   "toc_cell": false,
   "toc_position": {},
   "toc_section_display": true,
   "toc_window_display": true
  }
 },
 "nbformat": 4,
 "nbformat_minor": 5
}
