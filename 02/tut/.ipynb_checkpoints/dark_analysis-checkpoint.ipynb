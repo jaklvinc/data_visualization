{
 "cells": [
  {
   "cell_type": "markdown",
   "id": "234dddb9",
   "metadata": {},
   "source": [
    "# 🕵🏻‍♂️ Analýza postav ze seriálu Dark\n",
    "\n",
    "<sup>BI-VIZ @ FIT CTU </sup>\n",
    "\n",
    "V tomto Jupyter Notebooku 📖 si ukážeme základní analýzu sociální sítě postav ze seriálu [Dark](https://www.csfd.cz/film/496803-dark/prehled/) pomocí knihoven [NetworkX](https://networkx.org/documentation/stable/index.html), [nxViz](https://pypi.org/project/nxviz/) a [Netwulf](https://netwulf.readthedocs.io/en/latest/).\n",
    "\n",
    "Zdrojová data jsou k dispozici na [Kaggle](https://www.kaggle.com/datasets/deepcontractor/dark-netflix-character-relationship), ale pro toto cvičení prošla ještě čištěním a úpravami.\n",
    "\n",
    "<img width=900 height=800 src=\"https://i.redd.it/3nypv8br5f301.jpg\"/>"
   ]
  },
  {
   "cell_type": "code",
   "execution_count": null,
   "id": "319b3808",
   "metadata": {},
   "outputs": [],
   "source": [
    "%matplotlib inline"
   ]
  },
  {
   "cell_type": "code",
   "execution_count": null,
   "id": "b1ada8e6-edae-48ad-851e-28041f14a985",
   "metadata": {},
   "outputs": [],
   "source": [
    "import collections\n",
    "import warnings\n",
    "\n",
    "warnings.simplefilter(action=\"ignore\", category=FutureWarning)\n",
    "warnings.simplefilter(action=\"ignore\", category=DeprecationWarning)\n",
    "warnings.simplefilter(action=\"ignore\", category=UserWarning)\n",
    "import re\n",
    "import math\n",
    "import json\n",
    "from pprint import pprint"
   ]
  },
  {
   "cell_type": "code",
   "execution_count": null,
   "id": "30b5dfe3",
   "metadata": {},
   "outputs": [],
   "source": [
    "from nxviz import annotate"
   ]
  },
  {
   "cell_type": "code",
   "execution_count": null,
   "id": "a4a64468",
   "metadata": {},
   "outputs": [],
   "source": [
    "import matplotlib.pyplot as plt\n",
    "import matplotlib.colors as mcolors\n",
    "\n",
    "import pandas as pd\n",
    "import numpy as np\n",
    "import networkx as nx\n",
    "import nxviz as nv\n",
    "import netwulf as nw\n",
    "\n",
    "import seaborn as sns\n",
    "import matplotlib.animation\n",
    "import ipywidgets as widgets"
   ]
  },
  {
   "cell_type": "code",
   "execution_count": null,
   "id": "008f749b-80be-435b-b765-9c5bb74e216d",
   "metadata": {},
   "outputs": [],
   "source": [
    "with open(\"characters2.json\", \"r\") as f:\n",
    "    data = json.loads(f.read())\n",
    "    df = pd.read_json(json.dumps(data))\n",
    "df.head()"
   ]
  },
  {
   "cell_type": "markdown",
   "id": "d642824a",
   "metadata": {},
   "source": [
    "## ⚙️ Zpracování dat\n",
    "\n",
    "Dataset obsahuje jména (`name`) jednotlivých postav ze seriálu Dark, jejich příjmení (`lastname`), seznam let, ve kterých se daná postava vyskytovala (`years`), čí je rodič (`parentOf`), kdo je jeho rodič (`parents`), s kým je sezdán (`married`) a kdo je jeho sourozenec (`siblings`). 👨‍👨‍👧‍👦👩‍👩‍👧‍👦👨‍👩‍👧‍👦 (_Pardon za univerzální mužský rod._)\n",
    "\n",
    "Z náhledu výše můžeme vidět, že některé sloupce obsahují řádky s různými datovými typy. 🙈 Převážně se míchají `List[str]` a `None`. Budeme muset nahradit chybějící hodnoty - nemůžeme použít `df.fillna([])`, a tak to budeme muset udělat ručně 💪 (případně můžete najít i jiná řešení, např. na Stackoverflow)."
   ]
  },
  {
   "cell_type": "code",
   "execution_count": null,
   "id": "3d60c0d8-cd4e-4877-aeb6-98c1c90ab251",
   "metadata": {},
   "outputs": [],
   "source": [
    "def preprocess(row: pd.Series):\n",
    "    columns = list(row.values)\n",
    "    for i, x in enumerate(columns):\n",
    "\n",
    "        if isinstance(x, list):\n",
    "            continue\n",
    "\n",
    "        if isinstance(x, str):\n",
    "            # keep the first two string columns, then wrap it with list\n",
    "            if i > 1:\n",
    "                columns[i] = [x]\n",
    "        else:\n",
    "            # None values -> empty list\n",
    "            columns[i] = []\n",
    "\n",
    "    return columns"
   ]
  },
  {
   "cell_type": "code",
   "execution_count": null,
   "id": "fcb41f9f",
   "metadata": {},
   "outputs": [],
   "source": [
    "name, lastname, years, parentOf, parents, married, siblings = preprocess(df.iloc[2])\n",
    "name, lastname, years, parentOf, parents, married, siblings"
   ]
  },
  {
   "cell_type": "markdown",
   "id": "57ff7f71",
   "metadata": {},
   "source": [
    "Pojďme si z poskytnutých dat vytvořit dva orientované grafy - jeden pro vztahy 👯, druhý pro \"existenci v čase\" 🕰:"
   ]
  },
  {
   "cell_type": "code",
   "execution_count": null,
   "id": "579fc1fa-23f3-4b97-be7f-6e811332b33d",
   "metadata": {},
   "outputs": [],
   "source": [
    "family_graph = nx.DiGraph()\n",
    "year_graph = nx.DiGraph()\n",
    "\n",
    "# create id mapping to lastnames\n",
    "lastname_dict = {x: i * 100 for i, x in enumerate(set(df.lastname.values))}\n",
    "\n",
    "for i, row in df.iterrows():\n",
    "    name, lastname, years, parentOf, parents, married, siblings = preprocess(row)\n",
    "\n",
    "    # add person to graph\n",
    "    family_graph.add_node(\n",
    "        name,\n",
    "        name=name,\n",
    "        name_key=i,\n",
    "        lastname=lastname,\n",
    "        lastname_key=lastname_dict[lastname],\n",
    "    )\n",
    "    # add links to years\n",
    "    for i, year in enumerate(years):\n",
    "        year_graph.add_node(year, year=year, g=0, name=str(year))\n",
    "        year_graph.add_edge(year, name, i=i + 1, w=7, y=year)\n",
    "    year_graph.add_node(\n",
    "        name,\n",
    "        year=lastname_dict[lastname],\n",
    "        g=1 if len(years) < 2 else 2,\n",
    "        name=name,\n",
    "        lastname=lastname,\n",
    "    )\n",
    "\n",
    "    # add node->children edges\n",
    "    for child in parentOf:\n",
    "        family_graph.add_edge(name, child, kind=\"parent_of\", kind_id=0, w=5)\n",
    "        family_graph.add_edge(child, name, kind=\"child_of\", kind_id=1, w=5)\n",
    "\n",
    "    # add node->parent edges\n",
    "    for parent in parents:\n",
    "        family_graph.add_edge(name, parent, kind=\"child_of\", kind_id=1, w=5)\n",
    "        family_graph.add_edge(parent, name, kind=\"parent_of\", kind_id=0, w=5)\n",
    "\n",
    "    # add sibling edges\n",
    "    for sibling in siblings:\n",
    "        family_graph.add_edge(name, sibling, kind=\"sibling_of\", kind_id=2, w=5)\n",
    "        family_graph.add_edge(sibling, name, kind=\"sibling_of\", kind_id=2, w=5)\n",
    "\n",
    "    # add partner edges\n",
    "    for partner in married:\n",
    "        family_graph.add_edge(name, partner, kind=\"married_to\", kind_id=3, w=5)\n",
    "        family_graph.add_edge(partner, name, kind=\"married_to\", kind_id=3, w=5)\n",
    "\n",
    "for node, attr in family_graph.nodes(data=True):\n",
    "    attr[\"degree\"] = family_graph.degree[node]"
   ]
  },
  {
   "cell_type": "code",
   "execution_count": null,
   "id": "e2db3191",
   "metadata": {},
   "outputs": [],
   "source": [
    "#family_graph.nodes(data=True)\n",
    "#year_graph.nodes(data=True)"
   ]
  },
  {
   "cell_type": "markdown",
   "id": "9c19b767",
   "metadata": {},
   "source": [
    "## 🧸 Relace mezi rodinami jako matice přechodů\n",
    "\n",
    "Trochu dramatický popis `Matrix Plot` lze nalézt [zde](https://ericmjl.github.io/nxviz/developers/new-plots/)."
   ]
  },
  {
   "cell_type": "code",
   "execution_count": null,
   "id": "c90e5b4f-3a1a-4f21-adcc-4af5566b2805",
   "metadata": {
    "scrolled": false
   },
   "outputs": [],
   "source": [
    "fig = plt.figure(figsize=(10, 10))\n",
    "ax = plt.gca()\n",
    "plt.title(\"Matrix visualization of family relations\", fontsize=25)\n",
    "nv.matrix(\n",
    "    family_graph,\n",
    "    group_by=\"name\",\n",
    "    node_color_by=\"lastname_key\",\n",
    "    edge_alpha_by=\"kind_id\",\n",
    "    sort_by=\"lastname_key\",\n",
    "    edge_color_by=\"kind\",\n",
    ")\n",
    "annotate.matrix_group(\n",
    "    family_graph,\n",
    "    group_by=\"name\",\n",
    "    xrotation=90,\n",
    "    ax=ax,\n",
    "    yrotation=0,\n",
    "    offset=-4.5,\n",
    ")\n",
    "\n",
    "annotate.edge_colormapping(\n",
    "    family_graph,\n",
    "    color_by=\"kind\",\n",
    "    ax=ax,\n",
    "    legend_kwargs={\"loc\": \"upper right\", \"bbox_to_anchor\": (0.9, 1.15)},\n",
    ")\n",
    "plt.show()"
   ]
  },
  {
   "cell_type": "markdown",
   "id": "58b59bf2",
   "metadata": {},
   "source": [
    "V této vizualizaci si můžeme všimnout dvou os, na kterých jsou jednotlivé postavy ze seriálu. Postavy jsou seřazené abecedně podle celého jména, barva každé postavy závisí na příjmení každé osoby. Co se týče prostoru mezi osami, tak ten je ve výchozím stavu prázdný, a pokud existuje mezi dvojicí vrcholů nějaká relace, objeví se na příslušném místě kruhová značka 🟢🔴⚪🔵. Barvu značky lze nastavit podle atributu hrany.\n",
    "\n",
    "Vizualizaci čteme směrem zleva po x-ové ose - řádku skrze značku až k jménu v daném sloupci. Pokud je graf neorientovaný, budou všechny značky umístěny symetricky vůči diagonální ose, s orientovaným grafem pak můžeme mít relace jak oběma, tak i pouze jedním směrem zároveň. "
   ]
  },
  {
   "cell_type": "markdown",
   "id": "ce054f75",
   "metadata": {},
   "source": [
    "## 🧸 Relace mezi rodinami jako kruhový graf"
   ]
  },
  {
   "cell_type": "code",
   "execution_count": null,
   "id": "5738bdde",
   "metadata": {},
   "outputs": [],
   "source": [
    "# nepoužito\n",
    "#group = [family_graph.nodes[node][\"lastname\"] for node, attr in family_graph.nodes(data=True)]"
   ]
  },
  {
   "cell_type": "code",
   "execution_count": null,
   "id": "18777f74-7153-464c-8790-d229afc5f127",
   "metadata": {
    "scrolled": false
   },
   "outputs": [],
   "source": [
    "fig = plt.figure(figsize=(9, 8))\n",
    "ax = plt.gca()\n",
    "\n",
    "plt.title(\"Vizualizace vazeb v cirkulárním grafu\", fontsize=16, pad=20)\n",
    "\n",
    "nv.circos(\n",
    "    family_graph,\n",
    "    group_by=\"lastname\",\n",
    "    node_color_by=\"lastname\",\n",
    "    edge_color_by=\"kind_id\",\n",
    "    edge_lw_by=\"w\",\n",
    ")\n",
    "annotate.circos_group(family_graph, group_by=\"name\", radius_offset=2.25)\n",
    "annotate.edge_colormapping(\n",
    "    family_graph,\n",
    "    color_by=\"kind\",\n",
    "    ax=ax,\n",
    "    legend_kwargs={\"loc\": \"lower left\", \"bbox_to_anchor\": (-0.2, -0.15)},\n",
    ")\n",
    "\n",
    "plt.show()"
   ]
  },
  {
   "cell_type": "markdown",
   "id": "0e1738f0",
   "metadata": {},
   "source": [
    "🔍 Tento graf obsahuje vesměs stejné informace jako graf matice přechodů, můžeme ale díky němu jednodušeji analyzovat například propojení jednotlivých rodin."
   ]
  },
  {
   "cell_type": "markdown",
   "id": "2507fccf",
   "metadata": {},
   "source": [
    "## 🕰 Relace mezi postavami a jednotlivými roky"
   ]
  },
  {
   "cell_type": "code",
   "execution_count": null,
   "id": "159d2ea9",
   "metadata": {},
   "outputs": [],
   "source": [
    "# vyfiltrujeme postavy, které mají vazbu pouze na jeden rok\n",
    "nds = [\n",
    "    node\n",
    "    for node in year_graph\n",
    "    if isinstance(node, int) or year_graph.nodes[node][\"g\"] > 1\n",
    "]"
   ]
  },
  {
   "cell_type": "code",
   "execution_count": null,
   "id": "b29f5795-9838-4e15-b5ef-dce6c7655586",
   "metadata": {
    "scrolled": false
   },
   "outputs": [],
   "source": [
    "fig, ax = plt.subplots(figsize=(9, 9))\n",
    "plt.title(\"Relace mezi lidmi a jednotlivými roky\", fontsize=16, pad=20)\n",
    "nv.circos(\n",
    "    year_graph.subgraph(nds),\n",
    "    group_by=\"name\",\n",
    "    node_color_by=\"year\",\n",
    "    edge_color_by=\"y\",\n",
    ")\n",
    "annotate.circos_group(year_graph.subgraph(nds), group_by=\"name\", radius_offset=1.1)\n",
    "plt.show()"
   ]
  },
  {
   "cell_type": "markdown",
   "id": "cb16dacb",
   "metadata": {},
   "source": [
    "V tomto posledním grafu vizualizujeme informaci `kdo` figuroval `v jakých letech` v rámci seriálu `Dark`. Díky tomuto grafu můžeme snadno analyzovat, v jakých letech se odehrála podstatná část příběhu a také důležitost jednotlivých postav."
   ]
  },
  {
   "cell_type": "markdown",
   "id": "ce516302",
   "metadata": {},
   "source": [
    "# 🐺 Netwulf\n",
    "[Netwulf](https://netwulf.readthedocs.io/en/latest/) umožňuje nastavení vizuálních vlastností a layoutu grafu interaktivní formou."
   ]
  },
  {
   "cell_type": "markdown",
   "id": "e8f477c1",
   "metadata": {},
   "source": [
    "Abychom mohli jednotlivé vrcholy barevně odlišit, je třeba jim nastavit atribut `group`. V našem případě, pokud se jedná o rok, dostane skupinu `year`, pokud se jedná o osobu, nastavíme jako skupinu její příjmení."
   ]
  },
  {
   "cell_type": "code",
   "execution_count": null,
   "id": "151382ac-3cf5-4e80-a8c4-889938abf8e2",
   "metadata": {},
   "outputs": [],
   "source": [
    "for k, v in year_graph.nodes(data=True):\n",
    "    if v[\"name\"].isnumeric():\n",
    "        v[\"group\"] = \"year\"\n",
    "    else:\n",
    "        v[\"group\"] = v[\"name\"].split()[-1]"
   ]
  },
  {
   "cell_type": "markdown",
   "id": "a397fc9b",
   "metadata": {},
   "source": [
    "Něco obdobného uděláme s hranami, kterým nastavíme atribut `weight`. Bohužel v datasetu nemáme žádnou informaci o tom, jestli osoby v daném roce existovaly nebo se do něj dostaly pomocí cestování v čase. A tak použijeme index každého roku jako váhu, čistě pro demonstrační účely."
   ]
  },
  {
   "cell_type": "code",
   "execution_count": null,
   "id": "0f4e3017",
   "metadata": {},
   "outputs": [],
   "source": [
    "for u, v, attr in year_graph.edges(data=True):\n",
    "    attr[\"weight\"] = attr[\"i\"]"
   ]
  },
  {
   "cell_type": "markdown",
   "id": "6a3198ea",
   "metadata": {},
   "source": [
    "Po spuštění následující buňky se vám otevře záložka v prohlížeči, ve které můžete pomocí ovládacích prvků a interakce s grafem nastavit jeho vzhled. Až budete hotovi, klikněte na tlačítko `Post to python`."
   ]
  },
  {
   "cell_type": "code",
   "execution_count": null,
   "id": "c2168635-eff2-4b2c-9069-d7d118ca244b",
   "metadata": {},
   "outputs": [],
   "source": [
    "try:\n",
    "    network, config = nw.visualize(\n",
    "        year_graph,\n",
    "        plot_in_cell_below=False,\n",
    "    )\n",
    "except (BrokenPipeError, FileNotFoundError):\n",
    "    pass"
   ]
  },
  {
   "cell_type": "markdown",
   "id": "7d6767f8",
   "metadata": {},
   "source": [
    "Teď, když jsme si připravili graf, pojďme si ho zobrazit. Abychom graf trochu zpřehlednili, omezíme zobrazení labelů podle stupně."
   ]
  },
  {
   "cell_type": "code",
   "execution_count": null,
   "id": "113d0bb9",
   "metadata": {},
   "outputs": [],
   "source": [
    "min_degree = 2"
   ]
  },
  {
   "cell_type": "code",
   "execution_count": null,
   "id": "c754044a-7f77-43a2-9bea-960791e9550e",
   "metadata": {},
   "outputs": [],
   "source": [
    "%matplotlib inline\n",
    "\n",
    "fig, ax = plt.subplots(figsize=(10, 16))\n",
    "\n",
    "nw.draw_netwulf(network, fig=fig, ax=ax)\n",
    "ax.set_title(\"Vizualizace relací postav a jednotlivých roků\", size=16)\n",
    "for node, props in year_graph.nodes(data=True):\n",
    "    nw.tools.add_node_label(\n",
    "        ax,\n",
    "        network,\n",
    "        node,\n",
    "        label=node\n",
    "        if year_graph.degree[node] >= min_degree or props[\"group\"] == \"year\"\n",
    "        else \"\",\n",
    "    )\n",
    "\n",
    "for (src, dest, edge_props) in year_graph.edges(data=True):\n",
    "    nw.tools.add_edge_label(ax, network, (src, dest), label=\"\")\n",
    "\n",
    "plt.show()"
   ]
  },
  {
   "cell_type": "markdown",
   "id": "e50f108e",
   "metadata": {},
   "source": [
    "## 🎉 A to je z datasetu Dark všechno! 🎉\n",
    "\n",
    "Za ⭐️**domácí úkol**⭐️ se zkuste zamyslet, co dalšího byste mohli z těchto dat vizualizovat a jakým způsobem. Pokud zajdete tak daleko, že si nějaký graf dokonce zkusíte 🙊, neváhejte svůj výsledek poslat vyučující 👀.\n",
    "\n",
    "V posledním 'simulation.ipynb' si můžete spustit **simulaci sociálního experimentu**🕵🏻‍♂️, ve kterém budeme sledovat vývoj relací mezi jednotlivými vrcholy."
   ]
  }
 ],
 "metadata": {
  "kernelspec": {
   "display_name": "Python 3 (ipykernel)",
   "language": "python",
   "name": "python3"
  },
  "language_info": {
   "codemirror_mode": {
    "name": "ipython",
    "version": 3
   },
   "file_extension": ".py",
   "mimetype": "text/x-python",
   "name": "python",
   "nbconvert_exporter": "python",
   "pygments_lexer": "ipython3",
   "version": "3.9.12"
  },
  "toc": {
   "base_numbering": 1,
   "nav_menu": {},
   "number_sections": false,
   "sideBar": true,
   "skip_h1_title": true,
   "title_cell": "Table of Contents",
   "title_sidebar": "Contents",
   "toc_cell": false,
   "toc_position": {},
   "toc_section_display": true,
   "toc_window_display": true
  }
 },
 "nbformat": 4,
 "nbformat_minor": 5
}
