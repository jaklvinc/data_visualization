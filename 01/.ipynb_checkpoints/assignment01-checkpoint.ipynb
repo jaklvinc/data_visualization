{
 "cells": [
  {
   "cell_type": "markdown",
   "id": "fdda746b",
   "metadata": {},
   "source": [
    "# Domácí úkol č. 1 - 🕵️‍♀️ Explorační analýza dat\n",
    "\n",
    "## 📚 Data\n",
    "V souborech `intakes.csv` a `outcomes.csv` naleznete data z útulku ve městě Austin, Texas USA. Data pocházejí z oficiálního [zdroje otevřených dat města Austin](https://data.austintexas.gov/).\n",
    "\n",
    "Dataset [intakes](https://data.austintexas.gov/Health-and-Community-Services/Austin-Animal-Center-Intakes/wter-evkm) obsahuje data o přijatých zvířatech od 1. 10. 2013 do 27. 4 2022. Dataset [outcomes](https://data.austintexas.gov/Health-and-Community-Services/Austin-Animal-Center-Outcomes/9t4d-g238) obsahuje údaje o zvířatech, která útulek opustila (např. byla adoptována, vrácena majiteli a podobně) za tentýž časový interval. Může se stát, že zvířata přijatá do 1. 10. 2013 se nevyskytují v `intakes.csv` (data se ještě neshromažďovala), ale budou mít záznam v `outcomes.csv`, pokud útulek po tomto datu opustila.\n",
    "\n",
    "☝️ Každý dataset může **stejné zvíře obsahovat víckrát** (1. některá zvířata se do útulku vracela - to je trochu komplikace, pokud byste datasety chtěli spojit - pro řešení úkolu spojování ale není nutné, 2. některé záznamy jsou duplicitní - ty můžete odstranit, jedná se o chybu). \n",
    "\n",
    "## Zadání\n",
    "> ☝️ Používejte markdown buňky! Zdůvodňujte všechny důležité kroky, popisujte vizualizace a co je z nich možné pozorovat. Za nepřehledný domácí úkol nebudou uděleny body.\n",
    "\n",
    "Za řádné průběžné komentování a vizuální prezentaci postupu a výsledků lze získat až 3 body.\n",
    "\n",
    "**✨ Příprava dat** (celkem 4 body)\n",
    "* Importujte potřebné balíčky.\n",
    "* Načtěte si datasety intakes a outcomes z příslušných csv souborů.\n",
    "* Seznamte se s oběma datasety a svá zjištění komentujte:\n",
    "  * Příklad informací, které lze zjistit: počet řádků datasetu, počet a význam příznaků, datový typ příznaků a počet jejich unikátních hodnot, ...\n",
    "* Vyčistěte a zkonvertujte data:\n",
    "  * Zjistěte jakým způsobem jsou v datasetu uváděny chybějící hodnoty a v případě potřeby je přepište na NaN.\n",
    "  * Zkonvertujte kategorické příznaky na typ category.\n",
    "  * Převeďte příznak Age upon Intake/Outcome na numerický příznak.\n",
    "  * Převeďte příznak DateTime na typ datetime64.\n",
    "  * Proveďte všechny další úpravy, které vám dávají smysl (konverze dalších příznaků, odstranění duplicitních údajů, přidání nových příznaků, ...).\n",
    "  \n",
    "**🖊️ Deskriptivní statistiky** (celkem 6 bodů)\n",
    "\n",
    "Volbu vhodných statistik pro daný typ dat komentujte a pokud je to možné, využívejte co nejvíce vizualizace.\n",
    "* Popište příznaky Age upon Intake a DateTime (původně z datasetu intakes) pomocí univariačních deskriptivních statistik.\n",
    "* Vyberte si tři další příznaky a popište je pomocí univariačních deskriptivních statistik, které jsou pro ně vhodné.\n",
    "* Vyberte si dva příznaky, mezi kterými by mohla být korelace (dvojice typu Age upon Intake a Age upon Outcome neuznáváme) a popište jejich vztah pomocí bivariačních deskriptivních statistik.\n",
    "\n",
    "**❓ Zadané otázky** (2 body za každou otázku, celkem max. 6 bodů)\n",
    "\n",
    "Pomocí vhodných vizualizací odpovídejte na následující otázky:\n",
    "* Závisí typ odchodu zvířete z útulku (Outcome Type) na typu příchodu (Intake Type)? Pokud chcete, uvažujte pro zjednodušení pouze zvířata, která se v každém datasetu vyskytují právě jednou.\n",
    "* Hraje věk zvířete roli při adopci?\n",
    "* Je příjem zvířat v rámci roku konstantní nebo existují období s větší/nižší zátěží?\n",
    "\n",
    "K jedné otázce můžete v případě potřeby vytvořit více vizualizací. Výsledek vizualizace a všechny mezikroky komentujte.\n",
    "\n",
    "**❓ Vlastní otázky** (2 body za každou otázku, celkem max. 6 bodů)\n",
    "\n",
    "Vymyslete **minimálně tři** vlastní otázky a odpovídejte na ně vhodnými vizualizacemi. Otázky můžete postavit na již zmíněných datasetech. Také je možné využít třetí dataset [locations](https://data.austintexas.gov/Health-and-Community-Services/Austin-Animal-Center-Found-Pets-Map/hye6-gvq2), který naleznete v souboru locations.csv, nebo si můžete stáhnout nějaká další zajímavá data, která souvisí s tímto tématem.\n",
    "\n",
    "Dataset locations poskytuje informace o všech toulavých kočkách a psech, které jsou v databázi útulku **méně než týden**. Většina se nachází v útulku, ale část z nich je u dobrovolníků – tato informace je uvedena ve sloupci At AAC (AAC – Austin Animal Center).\n",
    "\n",
    "### Bodové hodnocení\n",
    "Shrnutí bodů, které můžete nejvýše získat:\n",
    "- 3 body za komentáře a vizuální prezentaci postupu a výsledků,\n",
    "- 4 body za přípravu dat,\n",
    "- 6 bodů za deskriptivní statistiku,\n",
    "- 6 bodů za zodpovězení všech zadaných otázek,\n",
    "- 6 bodů za definici a zodpovězení minimálně tří vlastních otázek.\n",
    "\n",
    "Celkem lze za domácí úkol č. 1 získat maximálně 25 bodů."
   ]
  },
  {
   "cell_type": "code",
   "execution_count": 39,
   "id": "8b399f1c",
   "metadata": {},
   "outputs": [],
   "source": [
    "#importing the packages\n",
    "import pandas as pd\n",
    "import matplotlib as pl\n",
    "import numpy as np"
   ]
  },
  {
   "cell_type": "markdown",
   "id": "5885fa61",
   "metadata": {},
   "source": [
    "## CSV loading"
   ]
  },
  {
   "cell_type": "code",
   "execution_count": 7,
   "id": "ba8e60da",
   "metadata": {},
   "outputs": [],
   "source": [
    "intakes = pd.read_csv(\"intakes.csv\")\n",
    "outcomes = pd.read_csv(\"outcomes.csv\")"
   ]
  },
  {
   "cell_type": "markdown",
   "id": "47d39820",
   "metadata": {},
   "source": [
    "## Data exploration"
   ]
  },
  {
   "cell_type": "code",
   "execution_count": 42,
   "id": "85079a2c",
   "metadata": {
    "scrolled": false
   },
   "outputs": [
    {
     "data": {
      "text/html": [
       "<div>\n",
       "<style scoped>\n",
       "    .dataframe tbody tr th:only-of-type {\n",
       "        vertical-align: middle;\n",
       "    }\n",
       "\n",
       "    .dataframe tbody tr th {\n",
       "        vertical-align: top;\n",
       "    }\n",
       "\n",
       "    .dataframe thead th {\n",
       "        text-align: right;\n",
       "    }\n",
       "</style>\n",
       "<table border=\"1\" class=\"dataframe\">\n",
       "  <thead>\n",
       "    <tr style=\"text-align: right;\">\n",
       "      <th></th>\n",
       "      <th>Animal ID</th>\n",
       "      <th>Name</th>\n",
       "      <th>DateTime</th>\n",
       "      <th>MonthYear</th>\n",
       "      <th>Found Location</th>\n",
       "      <th>Intake Type</th>\n",
       "      <th>Intake Condition</th>\n",
       "      <th>Animal Type</th>\n",
       "      <th>Sex upon Intake</th>\n",
       "      <th>Age upon Intake</th>\n",
       "      <th>Breed</th>\n",
       "      <th>Color</th>\n",
       "    </tr>\n",
       "  </thead>\n",
       "  <tbody>\n",
       "    <tr>\n",
       "      <th>0</th>\n",
       "      <td>A786884</td>\n",
       "      <td>*Brock</td>\n",
       "      <td>01/03/2019 04:19:00 PM</td>\n",
       "      <td>January 2019</td>\n",
       "      <td>2501 Magin Meadow Dr in Austin (TX)</td>\n",
       "      <td>Stray</td>\n",
       "      <td>Normal</td>\n",
       "      <td>Dog</td>\n",
       "      <td>Neutered Male</td>\n",
       "      <td>2 years</td>\n",
       "      <td>Beagle Mix</td>\n",
       "      <td>Tricolor</td>\n",
       "    </tr>\n",
       "    <tr>\n",
       "      <th>1</th>\n",
       "      <td>A706918</td>\n",
       "      <td>Belle</td>\n",
       "      <td>07/05/2015 12:59:00 PM</td>\n",
       "      <td>July 2015</td>\n",
       "      <td>9409 Bluegrass Dr in Austin (TX)</td>\n",
       "      <td>Stray</td>\n",
       "      <td>Normal</td>\n",
       "      <td>Dog</td>\n",
       "      <td>Spayed Female</td>\n",
       "      <td>8 years</td>\n",
       "      <td>English Springer Spaniel</td>\n",
       "      <td>White/Liver</td>\n",
       "    </tr>\n",
       "    <tr>\n",
       "      <th>2</th>\n",
       "      <td>A724273</td>\n",
       "      <td>Runster</td>\n",
       "      <td>04/14/2016 06:43:00 PM</td>\n",
       "      <td>April 2016</td>\n",
       "      <td>2818 Palomino Trail in Austin (TX)</td>\n",
       "      <td>Stray</td>\n",
       "      <td>Normal</td>\n",
       "      <td>Dog</td>\n",
       "      <td>Intact Male</td>\n",
       "      <td>11 months</td>\n",
       "      <td>Basenji Mix</td>\n",
       "      <td>Sable/White</td>\n",
       "    </tr>\n",
       "    <tr>\n",
       "      <th>3</th>\n",
       "      <td>A665644</td>\n",
       "      <td>NaN</td>\n",
       "      <td>10/21/2013 07:59:00 AM</td>\n",
       "      <td>October 2013</td>\n",
       "      <td>Austin (TX)</td>\n",
       "      <td>Stray</td>\n",
       "      <td>Sick</td>\n",
       "      <td>Cat</td>\n",
       "      <td>Intact Female</td>\n",
       "      <td>4 weeks</td>\n",
       "      <td>Domestic Shorthair Mix</td>\n",
       "      <td>Calico</td>\n",
       "    </tr>\n",
       "    <tr>\n",
       "      <th>4</th>\n",
       "      <td>A682524</td>\n",
       "      <td>Rio</td>\n",
       "      <td>06/29/2014 10:38:00 AM</td>\n",
       "      <td>June 2014</td>\n",
       "      <td>800 Grove Blvd in Austin (TX)</td>\n",
       "      <td>Stray</td>\n",
       "      <td>Normal</td>\n",
       "      <td>Dog</td>\n",
       "      <td>Neutered Male</td>\n",
       "      <td>4 years</td>\n",
       "      <td>Doberman Pinsch/Australian Cattle Dog</td>\n",
       "      <td>Tan/Gray</td>\n",
       "    </tr>\n",
       "    <tr>\n",
       "      <th>...</th>\n",
       "      <td>...</td>\n",
       "      <td>...</td>\n",
       "      <td>...</td>\n",
       "      <td>...</td>\n",
       "      <td>...</td>\n",
       "      <td>...</td>\n",
       "      <td>...</td>\n",
       "      <td>...</td>\n",
       "      <td>...</td>\n",
       "      <td>...</td>\n",
       "      <td>...</td>\n",
       "      <td>...</td>\n",
       "    </tr>\n",
       "    <tr>\n",
       "      <th>138580</th>\n",
       "      <td>A856010</td>\n",
       "      <td>Snow</td>\n",
       "      <td>04/27/2022 07:54:00 AM</td>\n",
       "      <td>April 2022</td>\n",
       "      <td>4434 Frontier Trail in Austin (TX)</td>\n",
       "      <td>Owner Surrender</td>\n",
       "      <td>Sick</td>\n",
       "      <td>Cat</td>\n",
       "      <td>Intact Female</td>\n",
       "      <td>4 weeks</td>\n",
       "      <td>Domestic Shorthair</td>\n",
       "      <td>White</td>\n",
       "    </tr>\n",
       "    <tr>\n",
       "      <th>138581</th>\n",
       "      <td>A855811</td>\n",
       "      <td>A855811</td>\n",
       "      <td>04/23/2022 01:32:00 PM</td>\n",
       "      <td>April 2022</td>\n",
       "      <td>4414 Dove Dr in Austin (TX)</td>\n",
       "      <td>Stray</td>\n",
       "      <td>Normal</td>\n",
       "      <td>Dog</td>\n",
       "      <td>Intact Male</td>\n",
       "      <td>2 months</td>\n",
       "      <td>Labrador Retriever Mix</td>\n",
       "      <td>Brown Brindle/Black</td>\n",
       "    </tr>\n",
       "    <tr>\n",
       "      <th>138582</th>\n",
       "      <td>A855815</td>\n",
       "      <td>A855815</td>\n",
       "      <td>04/23/2022 01:32:00 PM</td>\n",
       "      <td>April 2022</td>\n",
       "      <td>4414 Dove Dr in Austin (TX)</td>\n",
       "      <td>Stray</td>\n",
       "      <td>Normal</td>\n",
       "      <td>Dog</td>\n",
       "      <td>Intact Female</td>\n",
       "      <td>2 months</td>\n",
       "      <td>Labrador Retriever Mix</td>\n",
       "      <td>Brown/Black</td>\n",
       "    </tr>\n",
       "    <tr>\n",
       "      <th>138583</th>\n",
       "      <td>A855818</td>\n",
       "      <td>*Pumbaa</td>\n",
       "      <td>04/23/2022 02:44:00 PM</td>\n",
       "      <td>April 2022</td>\n",
       "      <td>10827 Fm 1820 in Travis (TX)</td>\n",
       "      <td>Stray</td>\n",
       "      <td>Normal</td>\n",
       "      <td>Dog</td>\n",
       "      <td>Intact Male</td>\n",
       "      <td>3 years</td>\n",
       "      <td>Anatol Shepherd/German Shepherd</td>\n",
       "      <td>Brown</td>\n",
       "    </tr>\n",
       "    <tr>\n",
       "      <th>138584</th>\n",
       "      <td>A854552</td>\n",
       "      <td>Coco</td>\n",
       "      <td>04/21/2022 12:24:00 PM</td>\n",
       "      <td>April 2022</td>\n",
       "      <td>641 Tillery Street in Austin (TX)</td>\n",
       "      <td>Stray</td>\n",
       "      <td>Normal</td>\n",
       "      <td>Dog</td>\n",
       "      <td>Intact Female</td>\n",
       "      <td>9 months</td>\n",
       "      <td>Pit Bull Mix</td>\n",
       "      <td>Black/White</td>\n",
       "    </tr>\n",
       "  </tbody>\n",
       "</table>\n",
       "<p>138585 rows × 12 columns</p>\n",
       "</div>"
      ],
      "text/plain": [
       "       Animal ID     Name                DateTime     MonthYear  \\\n",
       "0        A786884   *Brock  01/03/2019 04:19:00 PM  January 2019   \n",
       "1        A706918    Belle  07/05/2015 12:59:00 PM     July 2015   \n",
       "2        A724273  Runster  04/14/2016 06:43:00 PM    April 2016   \n",
       "3        A665644      NaN  10/21/2013 07:59:00 AM  October 2013   \n",
       "4        A682524      Rio  06/29/2014 10:38:00 AM     June 2014   \n",
       "...          ...      ...                     ...           ...   \n",
       "138580   A856010     Snow  04/27/2022 07:54:00 AM    April 2022   \n",
       "138581   A855811  A855811  04/23/2022 01:32:00 PM    April 2022   \n",
       "138582   A855815  A855815  04/23/2022 01:32:00 PM    April 2022   \n",
       "138583   A855818  *Pumbaa  04/23/2022 02:44:00 PM    April 2022   \n",
       "138584   A854552     Coco  04/21/2022 12:24:00 PM    April 2022   \n",
       "\n",
       "                             Found Location      Intake Type Intake Condition  \\\n",
       "0       2501 Magin Meadow Dr in Austin (TX)            Stray           Normal   \n",
       "1          9409 Bluegrass Dr in Austin (TX)            Stray           Normal   \n",
       "2        2818 Palomino Trail in Austin (TX)            Stray           Normal   \n",
       "3                               Austin (TX)            Stray             Sick   \n",
       "4             800 Grove Blvd in Austin (TX)            Stray           Normal   \n",
       "...                                     ...              ...              ...   \n",
       "138580   4434 Frontier Trail in Austin (TX)  Owner Surrender             Sick   \n",
       "138581          4414 Dove Dr in Austin (TX)            Stray           Normal   \n",
       "138582          4414 Dove Dr in Austin (TX)            Stray           Normal   \n",
       "138583         10827 Fm 1820 in Travis (TX)            Stray           Normal   \n",
       "138584    641 Tillery Street in Austin (TX)            Stray           Normal   \n",
       "\n",
       "       Animal Type Sex upon Intake Age upon Intake  \\\n",
       "0              Dog   Neutered Male         2 years   \n",
       "1              Dog   Spayed Female         8 years   \n",
       "2              Dog     Intact Male       11 months   \n",
       "3              Cat   Intact Female         4 weeks   \n",
       "4              Dog   Neutered Male         4 years   \n",
       "...            ...             ...             ...   \n",
       "138580         Cat   Intact Female         4 weeks   \n",
       "138581         Dog     Intact Male        2 months   \n",
       "138582         Dog   Intact Female        2 months   \n",
       "138583         Dog     Intact Male         3 years   \n",
       "138584         Dog   Intact Female        9 months   \n",
       "\n",
       "                                        Breed                Color  \n",
       "0                                  Beagle Mix             Tricolor  \n",
       "1                    English Springer Spaniel          White/Liver  \n",
       "2                                 Basenji Mix          Sable/White  \n",
       "3                      Domestic Shorthair Mix               Calico  \n",
       "4       Doberman Pinsch/Australian Cattle Dog             Tan/Gray  \n",
       "...                                       ...                  ...  \n",
       "138580                     Domestic Shorthair                White  \n",
       "138581                 Labrador Retriever Mix  Brown Brindle/Black  \n",
       "138582                 Labrador Retriever Mix          Brown/Black  \n",
       "138583        Anatol Shepherd/German Shepherd                Brown  \n",
       "138584                           Pit Bull Mix          Black/White  \n",
       "\n",
       "[138585 rows x 12 columns]"
      ]
     },
     "metadata": {},
     "output_type": "display_data"
    },
    {
     "name": "stdout",
     "output_type": "stream",
     "text": [
      "<class 'pandas.core.frame.DataFrame'>\n",
      "RangeIndex: 138585 entries, 0 to 138584\n",
      "Data columns (total 12 columns):\n",
      " #   Column            Non-Null Count   Dtype \n",
      "---  ------            --------------   ----- \n",
      " 0   Animal ID         138585 non-null  object\n",
      " 1   Name              97297 non-null   object\n",
      " 2   DateTime          138585 non-null  object\n",
      " 3   MonthYear         138585 non-null  object\n",
      " 4   Found Location    138585 non-null  object\n",
      " 5   Intake Type       138585 non-null  object\n",
      " 6   Intake Condition  138585 non-null  object\n",
      " 7   Animal Type       138585 non-null  object\n",
      " 8   Sex upon Intake   127515 non-null  object\n",
      " 9   Age upon Intake   138578 non-null  object\n",
      " 10  Breed             138582 non-null  object\n",
      " 11  Color             138585 non-null  object\n",
      "dtypes: object(12)\n",
      "memory usage: 12.7+ MB\n"
     ]
    },
    {
     "data": {
      "text/plain": [
       "None"
      ]
     },
     "metadata": {},
     "output_type": "display_data"
    },
    {
     "data": {
      "text/plain": [
       "Animal ID           123890\n",
       "Name                 23543\n",
       "DateTime             97442\n",
       "MonthYear              103\n",
       "Found Location       58367\n",
       "Intake Type              6\n",
       "Intake Condition        15\n",
       "Animal Type              5\n",
       "Sex upon Intake          4\n",
       "Age upon Intake         52\n",
       "Breed                 2740\n",
       "Color                  616\n",
       "dtype: int64"
      ]
     },
     "metadata": {},
     "output_type": "display_data"
    },
    {
     "data": {
      "text/plain": [
       "'Min date: 01/01/2014 01:05:00 PM'"
      ]
     },
     "metadata": {},
     "output_type": "display_data"
    },
    {
     "data": {
      "text/plain": [
       "'Max date: 12/31/2021 12:35:00 PM'"
      ]
     },
     "metadata": {},
     "output_type": "display_data"
    }
   ],
   "source": [
    "#shows a couple of rows in the beggining and end\n",
    "display(intakes)\n",
    "#info about data types, nan values and columns\n",
    "display(intakes.info())\n",
    "#info about the number of unique values for each column\n",
    "display(intakes.nunique())\n",
    "#min and max dates\n",
    "display(\"Min date: {}\".format(intakes[\"DateTime\"].min()))\n",
    "display(\"Max date: {}\".format(intakes[\"DateTime\"].max()))"
   ]
  },
  {
   "cell_type": "code",
   "execution_count": 36,
   "id": "1ce0f09a",
   "metadata": {},
   "outputs": [
    {
     "data": {
      "text/plain": [
       "array(['Dog', 'Cat', 'Other', 'Bird', 'Livestock'], dtype=object)"
      ]
     },
     "metadata": {},
     "output_type": "display_data"
    },
    {
     "data": {
      "text/plain": [
       "array(['Neutered Male', 'Spayed Female', 'Intact Male', 'Intact Female',\n",
       "       'Unknown', nan], dtype=object)"
      ]
     },
     "metadata": {},
     "output_type": "display_data"
    },
    {
     "data": {
      "text/plain": [
       "array(['2 years', '8 years', '11 months', '4 weeks', '4 years', '6 years',\n",
       "       '6 months', '5 months', '14 years', '1 month', '2 months',\n",
       "       '18 years', '9 years', '4 months', '1 year', '3 years', '4 days',\n",
       "       '1 day', '5 years', '2 weeks', '15 years', '7 years', '3 weeks',\n",
       "       '3 months', '12 years', '1 week', '9 months', '10 years',\n",
       "       '10 months', '7 months', '8 months', '1 weeks', '5 days',\n",
       "       '0 years', '2 days', '11 years', '17 years', '3 days', '13 years',\n",
       "       '5 weeks', '19 years', '6 days', '16 years', '20 years',\n",
       "       '-1 years', '22 years', '23 years', '-2 years', '21 years',\n",
       "       '-3 years', '25 years', '24 years', '30 years', '28 years'],\n",
       "      dtype=object)"
      ]
     },
     "metadata": {},
     "output_type": "display_data"
    },
    {
     "data": {
      "text/plain": [
       "array(['Stray', 'Owner Surrender', 'Public Assist', 'Wildlife',\n",
       "       'Euthanasia Request', 'Abandoned'], dtype=object)"
      ]
     },
     "metadata": {},
     "output_type": "display_data"
    },
    {
     "data": {
      "text/plain": [
       "array(['Normal', 'Sick', 'Injured', 'Pregnant', 'Nursing', 'Aged',\n",
       "       'Medical', 'Other', 'Neonatal', 'Feral', 'Behavior', 'Med Urgent',\n",
       "       'Space', 'Med Attn', 'Panleuk'], dtype=object)"
      ]
     },
     "metadata": {},
     "output_type": "display_data"
    }
   ],
   "source": [
    "#See different unique values of important columns, check for suspitious values\n",
    "display(intakes[\"Animal Type\"].unique())\n",
    "display(intakes[\"Sex upon Intake\"].unique())\n",
    "display(intakes[\"Age upon Intake\"].unique())\n",
    "display(intakes[\"Intake Type\"].unique())\n",
    "display(intakes[\"Intake Condition\"].unique())"
   ]
  },
  {
   "cell_type": "code",
   "execution_count": 32,
   "id": "3f9cec17",
   "metadata": {},
   "outputs": [
    {
     "data": {
      "text/html": [
       "<div>\n",
       "<style scoped>\n",
       "    .dataframe tbody tr th:only-of-type {\n",
       "        vertical-align: middle;\n",
       "    }\n",
       "\n",
       "    .dataframe tbody tr th {\n",
       "        vertical-align: top;\n",
       "    }\n",
       "\n",
       "    .dataframe thead th {\n",
       "        text-align: right;\n",
       "    }\n",
       "</style>\n",
       "<table border=\"1\" class=\"dataframe\">\n",
       "  <thead>\n",
       "    <tr style=\"text-align: right;\">\n",
       "      <th></th>\n",
       "      <th>Animal ID</th>\n",
       "      <th>Name</th>\n",
       "      <th>DateTime</th>\n",
       "      <th>MonthYear</th>\n",
       "      <th>Date of Birth</th>\n",
       "      <th>Outcome Type</th>\n",
       "      <th>Outcome Subtype</th>\n",
       "      <th>Animal Type</th>\n",
       "      <th>Sex upon Outcome</th>\n",
       "      <th>Age upon Outcome</th>\n",
       "      <th>Breed</th>\n",
       "      <th>Color</th>\n",
       "    </tr>\n",
       "  </thead>\n",
       "  <tbody>\n",
       "    <tr>\n",
       "      <th>count</th>\n",
       "      <td>138769</td>\n",
       "      <td>97514</td>\n",
       "      <td>138769</td>\n",
       "      <td>138769</td>\n",
       "      <td>138769</td>\n",
       "      <td>138746</td>\n",
       "      <td>63435</td>\n",
       "      <td>138769</td>\n",
       "      <td>138768</td>\n",
       "      <td>138764</td>\n",
       "      <td>138769</td>\n",
       "      <td>138769</td>\n",
       "    </tr>\n",
       "    <tr>\n",
       "      <th>unique</th>\n",
       "      <td>124068</td>\n",
       "      <td>23425</td>\n",
       "      <td>115364</td>\n",
       "      <td>103</td>\n",
       "      <td>7576</td>\n",
       "      <td>9</td>\n",
       "      <td>26</td>\n",
       "      <td>5</td>\n",
       "      <td>5</td>\n",
       "      <td>54</td>\n",
       "      <td>2749</td>\n",
       "      <td>619</td>\n",
       "    </tr>\n",
       "    <tr>\n",
       "      <th>top</th>\n",
       "      <td>A721033</td>\n",
       "      <td>Max</td>\n",
       "      <td>04/18/2016 12:00:00 AM</td>\n",
       "      <td>Jun 2019</td>\n",
       "      <td>05/01/2016</td>\n",
       "      <td>Adoption</td>\n",
       "      <td>Partner</td>\n",
       "      <td>Dog</td>\n",
       "      <td>Neutered Male</td>\n",
       "      <td>1 year</td>\n",
       "      <td>Domestic Shorthair Mix</td>\n",
       "      <td>Black/White</td>\n",
       "    </tr>\n",
       "    <tr>\n",
       "      <th>freq</th>\n",
       "      <td>33</td>\n",
       "      <td>621</td>\n",
       "      <td>39</td>\n",
       "      <td>2244</td>\n",
       "      <td>119</td>\n",
       "      <td>63518</td>\n",
       "      <td>33597</td>\n",
       "      <td>78138</td>\n",
       "      <td>48877</td>\n",
       "      <td>24024</td>\n",
       "      <td>32515</td>\n",
       "      <td>14481</td>\n",
       "    </tr>\n",
       "  </tbody>\n",
       "</table>\n",
       "</div>"
      ],
      "text/plain": [
       "       Animal ID   Name                DateTime MonthYear Date of Birth  \\\n",
       "count     138769  97514                  138769    138769        138769   \n",
       "unique    124068  23425                  115364       103          7576   \n",
       "top      A721033    Max  04/18/2016 12:00:00 AM  Jun 2019    05/01/2016   \n",
       "freq          33    621                      39      2244           119   \n",
       "\n",
       "       Outcome Type Outcome Subtype Animal Type Sex upon Outcome  \\\n",
       "count        138746           63435      138769           138768   \n",
       "unique            9              26           5                5   \n",
       "top        Adoption         Partner         Dog    Neutered Male   \n",
       "freq          63518           33597       78138            48877   \n",
       "\n",
       "       Age upon Outcome                   Breed        Color  \n",
       "count            138764                  138769       138769  \n",
       "unique               54                    2749          619  \n",
       "top              1 year  Domestic Shorthair Mix  Black/White  \n",
       "freq              24024                   32515        14481  "
      ]
     },
     "metadata": {},
     "output_type": "display_data"
    }
   ],
   "source": [
    "#another way to see a data frame\n",
    "display(outcomes.describe())"
   ]
  },
  {
   "cell_type": "code",
   "execution_count": 34,
   "id": "4e795e23",
   "metadata": {},
   "outputs": [
    {
     "data": {
      "text/plain": [
       "array(['Cat', 'Dog', 'Other', 'Bird', 'Livestock'], dtype=object)"
      ]
     },
     "metadata": {},
     "output_type": "display_data"
    },
    {
     "data": {
      "text/plain": [
       "array(['Neutered Male', 'Unknown', 'Intact Male', 'Spayed Female',\n",
       "       'Intact Female', nan], dtype=object)"
      ]
     },
     "metadata": {},
     "output_type": "display_data"
    },
    {
     "data": {
      "text/plain": [
       "array(['2 years', '1 year', '4 months', '6 days', '7 years', '2 months',\n",
       "       '2 days', '3 weeks', '9 months', '4 weeks', '2 weeks', '3 months',\n",
       "       '9 years', '10 years', '6 months', '8 years', '3 years',\n",
       "       '7 months', '6 years', '4 years', '1 month', '12 years', '5 years',\n",
       "       '1 weeks', '5 months', '5 days', '15 years', '11 months',\n",
       "       '10 months', '4 days', '16 years', '1 day', '8 months', '11 years',\n",
       "       '13 years', '1 week', '14 years', '3 days', '0 years', '5 weeks',\n",
       "       '17 years', '18 years', '20 years', '22 years', '-2 years',\n",
       "       '19 years', '23 years', '24 years', '-1 years', '25 years',\n",
       "       '21 years', '-3 years', '30 years', nan, '28 years'], dtype=object)"
      ]
     },
     "metadata": {},
     "output_type": "display_data"
    },
    {
     "data": {
      "text/plain": [
       "array(['Rto-Adopt', 'Adoption', 'Euthanasia', 'Transfer',\n",
       "       'Return to Owner', 'Died', 'Disposal', 'Missing', 'Relocate', nan],\n",
       "      dtype=object)"
      ]
     },
     "metadata": {},
     "output_type": "display_data"
    }
   ],
   "source": [
    "#See different unique values of important columns, check for suspitious values\n",
    "display(outcomes[\"Animal Type\"].unique())\n",
    "display(outcomes[\"Sex upon Outcome\"].unique())\n",
    "display(outcomes[\"Age upon Outcome\"].unique())\n",
    "display(outcomes[\"Outcome Type\"].unique())"
   ]
  },
  {
   "cell_type": "markdown",
   "id": "97818d72",
   "metadata": {},
   "source": [
    "#### Exploration outcomes\n",
    "* I can see that an Animal with and ID A721033 is 33 times in this table, which may be something to take a look at.\n",
    "* Also there are slightly more unique IDs in the **outcomes** table than in the **intakes**, which probably means that the number of cared for animals has lowered in the time period.\n",
    "* There were some values like negative ages and Unknown sex. I will have to do something about these or work carefully with these columns.\n",
    "* Animals with no names are named like their ID's\n"
   ]
  },
  {
   "cell_type": "markdown",
   "id": "09224702",
   "metadata": {},
   "source": [
    "## Data preprocessing"
   ]
  },
  {
   "cell_type": "code",
   "execution_count": 41,
   "id": "ea523ad1",
   "metadata": {},
   "outputs": [],
   "source": [
    "#changing unknown and suspicious values to NaN\n",
    "intakes.replace(to_replace = ['Unknown','-1 years','-2 years','-3 years'], value = np.nan, inplace= True)"
   ]
  }
 ],
 "metadata": {
  "kernelspec": {
   "display_name": "Python 3 (ipykernel)",
   "language": "python",
   "name": "python3"
  },
  "language_info": {
   "codemirror_mode": {
    "name": "ipython",
    "version": 3
   },
   "file_extension": ".py",
   "mimetype": "text/x-python",
   "name": "python",
   "nbconvert_exporter": "python",
   "pygments_lexer": "ipython3",
   "version": "3.8.2"
  }
 },
 "nbformat": 4,
 "nbformat_minor": 5
}
