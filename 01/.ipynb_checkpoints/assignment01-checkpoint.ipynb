{
 "cells": [
  {
   "cell_type": "markdown",
   "id": "fdda746b",
   "metadata": {},
   "source": [
    "# Domácí úkol č. 1 - 🕵️‍♀️ Explorační analýza dat\n",
    "\n",
    "## 📚 Data\n",
    "V souborech `intakes.csv` a `outcomes.csv` naleznete data z útulku ve městě Austin, Texas USA. Data pocházejí z oficiálního [zdroje otevřených dat města Austin](https://data.austintexas.gov/).\n",
    "\n",
    "Dataset [intakes](https://data.austintexas.gov/Health-and-Community-Services/Austin-Animal-Center-Intakes/wter-evkm) obsahuje data o přijatých zvířatech od 1. 10. 2013 do 27. 4 2022. Dataset [outcomes](https://data.austintexas.gov/Health-and-Community-Services/Austin-Animal-Center-Outcomes/9t4d-g238) obsahuje údaje o zvířatech, která útulek opustila (např. byla adoptována, vrácena majiteli a podobně) za tentýž časový interval. Může se stát, že zvířata přijatá do 1. 10. 2013 se nevyskytují v `intakes.csv` (data se ještě neshromažďovala), ale budou mít záznam v `outcomes.csv`, pokud útulek po tomto datu opustila.\n",
    "\n",
    "☝️ Každý dataset může **stejné zvíře obsahovat víckrát** (1. některá zvířata se do útulku vracela - to je trochu komplikace, pokud byste datasety chtěli spojit - pro řešení úkolu spojování ale není nutné, 2. některé záznamy jsou duplicitní - ty můžete odstranit, jedná se o chybu). \n",
    "\n",
    "## Zadání\n",
    "> ☝️ Používejte markdown buňky! Zdůvodňujte všechny důležité kroky, popisujte vizualizace a co je z nich možné pozorovat. Za nepřehledný domácí úkol nebudou uděleny body.\n",
    "\n",
    "Za řádné průběžné komentování a vizuální prezentaci postupu a výsledků lze získat až 3 body.\n",
    "\n",
    "**✨ Příprava dat** (celkem 4 body)\n",
    "* Importujte potřebné balíčky.\n",
    "* Načtěte si datasety intakes a outcomes z příslušných csv souborů.\n",
    "* Seznamte se s oběma datasety a svá zjištění komentujte:\n",
    "  * Příklad informací, které lze zjistit: počet řádků datasetu, počet a význam příznaků, datový typ příznaků a počet jejich unikátních hodnot, ...\n",
    "* Vyčistěte a zkonvertujte data:\n",
    "  * Zjistěte jakým způsobem jsou v datasetu uváděny chybějící hodnoty a v případě potřeby je přepište na NaN.\n",
    "  * Zkonvertujte kategorické příznaky na typ category.\n",
    "  * Převeďte příznak Age upon Intake/Outcome na numerický příznak.\n",
    "  * Převeďte příznak DateTime na typ datetime64.\n",
    "  * Proveďte všechny další úpravy, které vám dávají smysl (konverze dalších příznaků, odstranění duplicitních údajů, přidání nových příznaků, ...).\n",
    "  \n",
    "**🖊️ Deskriptivní statistiky** (celkem 6 bodů)\n",
    "\n",
    "Volbu vhodných statistik pro daný typ dat komentujte a pokud je to možné, využívejte co nejvíce vizualizace.\n",
    "* Popište příznaky Age upon Intake a DateTime (původně z datasetu intakes) pomocí univariačních deskriptivních statistik.\n",
    "* Vyberte si tři další příznaky a popište je pomocí univariačních deskriptivních statistik, které jsou pro ně vhodné.\n",
    "* Vyberte si dva příznaky, mezi kterými by mohla být korelace (dvojice typu Age upon Intake a Age upon Outcome neuznáváme) a popište jejich vztah pomocí bivariačních deskriptivních statistik.\n",
    "\n",
    "**❓ Zadané otázky** (2 body za každou otázku, celkem max. 6 bodů)\n",
    "\n",
    "Pomocí vhodných vizualizací odpovídejte na následující otázky:\n",
    "* Závisí typ odchodu zvířete z útulku (Outcome Type) na typu příchodu (Intake Type)? Pokud chcete, uvažujte pro zjednodušení pouze zvířata, která se v každém datasetu vyskytují právě jednou.\n",
    "* Hraje věk zvířete roli při adopci?\n",
    "* Je příjem zvířat v rámci roku konstantní nebo existují období s větší/nižší zátěží?\n",
    "\n",
    "K jedné otázce můžete v případě potřeby vytvořit více vizualizací. Výsledek vizualizace a všechny mezikroky komentujte.\n",
    "\n",
    "**❓ Vlastní otázky** (2 body za každou otázku, celkem max. 6 bodů)\n",
    "\n",
    "Vymyslete **minimálně tři** vlastní otázky a odpovídejte na ně vhodnými vizualizacemi. Otázky můžete postavit na již zmíněných datasetech. Také je možné využít třetí dataset [locations](https://data.austintexas.gov/Health-and-Community-Services/Austin-Animal-Center-Found-Pets-Map/hye6-gvq2), který naleznete v souboru locations.csv, nebo si můžete stáhnout nějaká další zajímavá data, která souvisí s tímto tématem.\n",
    "\n",
    "Dataset locations poskytuje informace o všech toulavých kočkách a psech, které jsou v databázi útulku **méně než týden**. Většina se nachází v útulku, ale část z nich je u dobrovolníků – tato informace je uvedena ve sloupci At AAC (AAC – Austin Animal Center).\n",
    "\n",
    "### Bodové hodnocení\n",
    "Shrnutí bodů, které můžete nejvýše získat:\n",
    "- 3 body za komentáře a vizuální prezentaci postupu a výsledků,\n",
    "- 4 body za přípravu dat,\n",
    "- 6 bodů za deskriptivní statistiku,\n",
    "- 6 bodů za zodpovězení všech zadaných otázek,\n",
    "- 6 bodů za definici a zodpovězení minimálně tří vlastních otázek.\n",
    "\n",
    "Celkem lze za domácí úkol č. 1 získat maximálně 25 bodů."
   ]
  },
  {
   "cell_type": "code",
   "execution_count": 1,
   "id": "8b399f1c",
   "metadata": {},
   "outputs": [],
   "source": [
    "#importing the packages\n",
    "import pandas as pd\n",
    "import matplotlib.pyplot as plt\n",
    "import matplotlib.ticker as ticker\n",
    "import numpy as np\n",
    "import re"
   ]
  },
  {
   "cell_type": "markdown",
   "id": "467aa62a",
   "metadata": {},
   "source": [
    "# <font color='orange'>CSV loading</font>"
   ]
  },
  {
   "cell_type": "code",
   "execution_count": 2,
   "id": "aa7c1634",
   "metadata": {},
   "outputs": [],
   "source": [
    "intakes = pd.read_csv(\"intakes.csv\")\n",
    "outcomes = pd.read_csv(\"outcomes.csv\")"
   ]
  },
  {
   "cell_type": "markdown",
   "id": "7511a752",
   "metadata": {},
   "source": [
    "# <font color='orange'>Data exploration</font>"
   ]
  },
  {
   "cell_type": "code",
   "execution_count": 3,
   "id": "8a04908c",
   "metadata": {
    "scrolled": false
   },
   "outputs": [
    {
     "data": {
      "text/html": [
       "<div>\n",
       "<style scoped>\n",
       "    .dataframe tbody tr th:only-of-type {\n",
       "        vertical-align: middle;\n",
       "    }\n",
       "\n",
       "    .dataframe tbody tr th {\n",
       "        vertical-align: top;\n",
       "    }\n",
       "\n",
       "    .dataframe thead th {\n",
       "        text-align: right;\n",
       "    }\n",
       "</style>\n",
       "<table border=\"1\" class=\"dataframe\">\n",
       "  <thead>\n",
       "    <tr style=\"text-align: right;\">\n",
       "      <th></th>\n",
       "      <th>Animal ID</th>\n",
       "      <th>Name</th>\n",
       "      <th>DateTime</th>\n",
       "      <th>MonthYear</th>\n",
       "      <th>Found Location</th>\n",
       "      <th>Intake Type</th>\n",
       "      <th>Intake Condition</th>\n",
       "      <th>Animal Type</th>\n",
       "      <th>Sex upon Intake</th>\n",
       "      <th>Age upon Intake</th>\n",
       "      <th>Breed</th>\n",
       "      <th>Color</th>\n",
       "    </tr>\n",
       "  </thead>\n",
       "  <tbody>\n",
       "    <tr>\n",
       "      <th>0</th>\n",
       "      <td>A786884</td>\n",
       "      <td>*Brock</td>\n",
       "      <td>01/03/2019 04:19:00 PM</td>\n",
       "      <td>January 2019</td>\n",
       "      <td>2501 Magin Meadow Dr in Austin (TX)</td>\n",
       "      <td>Stray</td>\n",
       "      <td>Normal</td>\n",
       "      <td>Dog</td>\n",
       "      <td>Neutered Male</td>\n",
       "      <td>2 years</td>\n",
       "      <td>Beagle Mix</td>\n",
       "      <td>Tricolor</td>\n",
       "    </tr>\n",
       "    <tr>\n",
       "      <th>1</th>\n",
       "      <td>A706918</td>\n",
       "      <td>Belle</td>\n",
       "      <td>07/05/2015 12:59:00 PM</td>\n",
       "      <td>July 2015</td>\n",
       "      <td>9409 Bluegrass Dr in Austin (TX)</td>\n",
       "      <td>Stray</td>\n",
       "      <td>Normal</td>\n",
       "      <td>Dog</td>\n",
       "      <td>Spayed Female</td>\n",
       "      <td>8 years</td>\n",
       "      <td>English Springer Spaniel</td>\n",
       "      <td>White/Liver</td>\n",
       "    </tr>\n",
       "    <tr>\n",
       "      <th>2</th>\n",
       "      <td>A724273</td>\n",
       "      <td>Runster</td>\n",
       "      <td>04/14/2016 06:43:00 PM</td>\n",
       "      <td>April 2016</td>\n",
       "      <td>2818 Palomino Trail in Austin (TX)</td>\n",
       "      <td>Stray</td>\n",
       "      <td>Normal</td>\n",
       "      <td>Dog</td>\n",
       "      <td>Intact Male</td>\n",
       "      <td>11 months</td>\n",
       "      <td>Basenji Mix</td>\n",
       "      <td>Sable/White</td>\n",
       "    </tr>\n",
       "    <tr>\n",
       "      <th>3</th>\n",
       "      <td>A665644</td>\n",
       "      <td>NaN</td>\n",
       "      <td>10/21/2013 07:59:00 AM</td>\n",
       "      <td>October 2013</td>\n",
       "      <td>Austin (TX)</td>\n",
       "      <td>Stray</td>\n",
       "      <td>Sick</td>\n",
       "      <td>Cat</td>\n",
       "      <td>Intact Female</td>\n",
       "      <td>4 weeks</td>\n",
       "      <td>Domestic Shorthair Mix</td>\n",
       "      <td>Calico</td>\n",
       "    </tr>\n",
       "    <tr>\n",
       "      <th>4</th>\n",
       "      <td>A682524</td>\n",
       "      <td>Rio</td>\n",
       "      <td>06/29/2014 10:38:00 AM</td>\n",
       "      <td>June 2014</td>\n",
       "      <td>800 Grove Blvd in Austin (TX)</td>\n",
       "      <td>Stray</td>\n",
       "      <td>Normal</td>\n",
       "      <td>Dog</td>\n",
       "      <td>Neutered Male</td>\n",
       "      <td>4 years</td>\n",
       "      <td>Doberman Pinsch/Australian Cattle Dog</td>\n",
       "      <td>Tan/Gray</td>\n",
       "    </tr>\n",
       "    <tr>\n",
       "      <th>...</th>\n",
       "      <td>...</td>\n",
       "      <td>...</td>\n",
       "      <td>...</td>\n",
       "      <td>...</td>\n",
       "      <td>...</td>\n",
       "      <td>...</td>\n",
       "      <td>...</td>\n",
       "      <td>...</td>\n",
       "      <td>...</td>\n",
       "      <td>...</td>\n",
       "      <td>...</td>\n",
       "      <td>...</td>\n",
       "    </tr>\n",
       "    <tr>\n",
       "      <th>138580</th>\n",
       "      <td>A856010</td>\n",
       "      <td>Snow</td>\n",
       "      <td>04/27/2022 07:54:00 AM</td>\n",
       "      <td>April 2022</td>\n",
       "      <td>4434 Frontier Trail in Austin (TX)</td>\n",
       "      <td>Owner Surrender</td>\n",
       "      <td>Sick</td>\n",
       "      <td>Cat</td>\n",
       "      <td>Intact Female</td>\n",
       "      <td>4 weeks</td>\n",
       "      <td>Domestic Shorthair</td>\n",
       "      <td>White</td>\n",
       "    </tr>\n",
       "    <tr>\n",
       "      <th>138581</th>\n",
       "      <td>A855811</td>\n",
       "      <td>A855811</td>\n",
       "      <td>04/23/2022 01:32:00 PM</td>\n",
       "      <td>April 2022</td>\n",
       "      <td>4414 Dove Dr in Austin (TX)</td>\n",
       "      <td>Stray</td>\n",
       "      <td>Normal</td>\n",
       "      <td>Dog</td>\n",
       "      <td>Intact Male</td>\n",
       "      <td>2 months</td>\n",
       "      <td>Labrador Retriever Mix</td>\n",
       "      <td>Brown Brindle/Black</td>\n",
       "    </tr>\n",
       "    <tr>\n",
       "      <th>138582</th>\n",
       "      <td>A855815</td>\n",
       "      <td>A855815</td>\n",
       "      <td>04/23/2022 01:32:00 PM</td>\n",
       "      <td>April 2022</td>\n",
       "      <td>4414 Dove Dr in Austin (TX)</td>\n",
       "      <td>Stray</td>\n",
       "      <td>Normal</td>\n",
       "      <td>Dog</td>\n",
       "      <td>Intact Female</td>\n",
       "      <td>2 months</td>\n",
       "      <td>Labrador Retriever Mix</td>\n",
       "      <td>Brown/Black</td>\n",
       "    </tr>\n",
       "    <tr>\n",
       "      <th>138583</th>\n",
       "      <td>A855818</td>\n",
       "      <td>*Pumbaa</td>\n",
       "      <td>04/23/2022 02:44:00 PM</td>\n",
       "      <td>April 2022</td>\n",
       "      <td>10827 Fm 1820 in Travis (TX)</td>\n",
       "      <td>Stray</td>\n",
       "      <td>Normal</td>\n",
       "      <td>Dog</td>\n",
       "      <td>Intact Male</td>\n",
       "      <td>3 years</td>\n",
       "      <td>Anatol Shepherd/German Shepherd</td>\n",
       "      <td>Brown</td>\n",
       "    </tr>\n",
       "    <tr>\n",
       "      <th>138584</th>\n",
       "      <td>A854552</td>\n",
       "      <td>Coco</td>\n",
       "      <td>04/21/2022 12:24:00 PM</td>\n",
       "      <td>April 2022</td>\n",
       "      <td>641 Tillery Street in Austin (TX)</td>\n",
       "      <td>Stray</td>\n",
       "      <td>Normal</td>\n",
       "      <td>Dog</td>\n",
       "      <td>Intact Female</td>\n",
       "      <td>9 months</td>\n",
       "      <td>Pit Bull Mix</td>\n",
       "      <td>Black/White</td>\n",
       "    </tr>\n",
       "  </tbody>\n",
       "</table>\n",
       "<p>138585 rows × 12 columns</p>\n",
       "</div>"
      ],
      "text/plain": [
       "       Animal ID     Name                DateTime     MonthYear  \\\n",
       "0        A786884   *Brock  01/03/2019 04:19:00 PM  January 2019   \n",
       "1        A706918    Belle  07/05/2015 12:59:00 PM     July 2015   \n",
       "2        A724273  Runster  04/14/2016 06:43:00 PM    April 2016   \n",
       "3        A665644      NaN  10/21/2013 07:59:00 AM  October 2013   \n",
       "4        A682524      Rio  06/29/2014 10:38:00 AM     June 2014   \n",
       "...          ...      ...                     ...           ...   \n",
       "138580   A856010     Snow  04/27/2022 07:54:00 AM    April 2022   \n",
       "138581   A855811  A855811  04/23/2022 01:32:00 PM    April 2022   \n",
       "138582   A855815  A855815  04/23/2022 01:32:00 PM    April 2022   \n",
       "138583   A855818  *Pumbaa  04/23/2022 02:44:00 PM    April 2022   \n",
       "138584   A854552     Coco  04/21/2022 12:24:00 PM    April 2022   \n",
       "\n",
       "                             Found Location      Intake Type Intake Condition  \\\n",
       "0       2501 Magin Meadow Dr in Austin (TX)            Stray           Normal   \n",
       "1          9409 Bluegrass Dr in Austin (TX)            Stray           Normal   \n",
       "2        2818 Palomino Trail in Austin (TX)            Stray           Normal   \n",
       "3                               Austin (TX)            Stray             Sick   \n",
       "4             800 Grove Blvd in Austin (TX)            Stray           Normal   \n",
       "...                                     ...              ...              ...   \n",
       "138580   4434 Frontier Trail in Austin (TX)  Owner Surrender             Sick   \n",
       "138581          4414 Dove Dr in Austin (TX)            Stray           Normal   \n",
       "138582          4414 Dove Dr in Austin (TX)            Stray           Normal   \n",
       "138583         10827 Fm 1820 in Travis (TX)            Stray           Normal   \n",
       "138584    641 Tillery Street in Austin (TX)            Stray           Normal   \n",
       "\n",
       "       Animal Type Sex upon Intake Age upon Intake  \\\n",
       "0              Dog   Neutered Male         2 years   \n",
       "1              Dog   Spayed Female         8 years   \n",
       "2              Dog     Intact Male       11 months   \n",
       "3              Cat   Intact Female         4 weeks   \n",
       "4              Dog   Neutered Male         4 years   \n",
       "...            ...             ...             ...   \n",
       "138580         Cat   Intact Female         4 weeks   \n",
       "138581         Dog     Intact Male        2 months   \n",
       "138582         Dog   Intact Female        2 months   \n",
       "138583         Dog     Intact Male         3 years   \n",
       "138584         Dog   Intact Female        9 months   \n",
       "\n",
       "                                        Breed                Color  \n",
       "0                                  Beagle Mix             Tricolor  \n",
       "1                    English Springer Spaniel          White/Liver  \n",
       "2                                 Basenji Mix          Sable/White  \n",
       "3                      Domestic Shorthair Mix               Calico  \n",
       "4       Doberman Pinsch/Australian Cattle Dog             Tan/Gray  \n",
       "...                                       ...                  ...  \n",
       "138580                     Domestic Shorthair                White  \n",
       "138581                 Labrador Retriever Mix  Brown Brindle/Black  \n",
       "138582                 Labrador Retriever Mix          Brown/Black  \n",
       "138583        Anatol Shepherd/German Shepherd                Brown  \n",
       "138584                           Pit Bull Mix          Black/White  \n",
       "\n",
       "[138585 rows x 12 columns]"
      ]
     },
     "metadata": {},
     "output_type": "display_data"
    },
    {
     "name": "stdout",
     "output_type": "stream",
     "text": [
      "<class 'pandas.core.frame.DataFrame'>\n",
      "RangeIndex: 138585 entries, 0 to 138584\n",
      "Data columns (total 12 columns):\n",
      " #   Column            Non-Null Count   Dtype \n",
      "---  ------            --------------   ----- \n",
      " 0   Animal ID         138585 non-null  object\n",
      " 1   Name              97316 non-null   object\n",
      " 2   DateTime          138585 non-null  object\n",
      " 3   MonthYear         138585 non-null  object\n",
      " 4   Found Location    138585 non-null  object\n",
      " 5   Intake Type       138585 non-null  object\n",
      " 6   Intake Condition  138585 non-null  object\n",
      " 7   Animal Type       138585 non-null  object\n",
      " 8   Sex upon Intake   138584 non-null  object\n",
      " 9   Age upon Intake   138585 non-null  object\n",
      " 10  Breed             138585 non-null  object\n",
      " 11  Color             138585 non-null  object\n",
      "dtypes: object(12)\n",
      "memory usage: 12.7+ MB\n"
     ]
    },
    {
     "data": {
      "text/plain": [
       "None"
      ]
     },
     "metadata": {},
     "output_type": "display_data"
    },
    {
     "data": {
      "text/plain": [
       "Animal ID           123890\n",
       "Name                 23544\n",
       "DateTime             97442\n",
       "MonthYear              103\n",
       "Found Location       58367\n",
       "Intake Type              6\n",
       "Intake Condition        15\n",
       "Animal Type              5\n",
       "Sex upon Intake          5\n",
       "Age upon Intake         54\n",
       "Breed                 2741\n",
       "Color                  616\n",
       "dtype: int64"
      ]
     },
     "metadata": {},
     "output_type": "display_data"
    },
    {
     "data": {
      "text/plain": [
       "'Min date: 01/01/2014 01:05:00 PM'"
      ]
     },
     "metadata": {},
     "output_type": "display_data"
    },
    {
     "data": {
      "text/plain": [
       "'Max date: 12/31/2021 12:35:00 PM'"
      ]
     },
     "metadata": {},
     "output_type": "display_data"
    }
   ],
   "source": [
    "#shows a couple of rows in the beggining and end\n",
    "display(intakes)\n",
    "\n",
    "#info about data types, nan values and columns\n",
    "display(intakes.info())\n",
    "\n",
    "#info about the number of unique values for each column\n",
    "display(intakes.nunique())\n",
    "\n",
    "#min and max dates\n",
    "display(\"Min date: {}\".format(intakes[\"DateTime\"].min()))\n",
    "display(\"Max date: {}\".format(intakes[\"DateTime\"].max()))"
   ]
  },
  {
   "cell_type": "code",
   "execution_count": 4,
   "id": "d55224f8",
   "metadata": {},
   "outputs": [
    {
     "data": {
      "text/plain": [
       "array(['Dog', 'Cat', 'Other', 'Bird', 'Livestock'], dtype=object)"
      ]
     },
     "metadata": {},
     "output_type": "display_data"
    },
    {
     "data": {
      "text/plain": [
       "array(['Neutered Male', 'Spayed Female', 'Intact Male', 'Intact Female',\n",
       "       'Unknown', nan], dtype=object)"
      ]
     },
     "metadata": {},
     "output_type": "display_data"
    },
    {
     "data": {
      "text/plain": [
       "array(['2 years', '8 years', '11 months', '4 weeks', '4 years', '6 years',\n",
       "       '6 months', '5 months', '14 years', '1 month', '2 months',\n",
       "       '18 years', '9 years', '4 months', '1 year', '3 years', '4 days',\n",
       "       '1 day', '5 years', '2 weeks', '15 years', '7 years', '3 weeks',\n",
       "       '3 months', '12 years', '1 week', '9 months', '10 years',\n",
       "       '10 months', '7 months', '8 months', '1 weeks', '5 days',\n",
       "       '0 years', '2 days', '11 years', '17 years', '3 days', '13 years',\n",
       "       '5 weeks', '19 years', '6 days', '16 years', '20 years',\n",
       "       '-1 years', '22 years', '23 years', '-2 years', '21 years',\n",
       "       '-3 years', '25 years', '24 years', '30 years', '28 years'],\n",
       "      dtype=object)"
      ]
     },
     "metadata": {},
     "output_type": "display_data"
    },
    {
     "data": {
      "text/plain": [
       "array(['Stray', 'Owner Surrender', 'Public Assist', 'Wildlife',\n",
       "       'Euthanasia Request', 'Abandoned'], dtype=object)"
      ]
     },
     "metadata": {},
     "output_type": "display_data"
    },
    {
     "data": {
      "text/plain": [
       "array(['Normal', 'Sick', 'Injured', 'Pregnant', 'Nursing', 'Aged',\n",
       "       'Medical', 'Other', 'Neonatal', 'Feral', 'Behavior', 'Med Urgent',\n",
       "       'Space', 'Med Attn', 'Panleuk'], dtype=object)"
      ]
     },
     "metadata": {},
     "output_type": "display_data"
    }
   ],
   "source": [
    "#See different unique values of important columns, check for suspitious values\n",
    "display(intakes[\"Animal Type\"].unique())\n",
    "display(intakes[\"Sex upon Intake\"].unique())\n",
    "display(intakes[\"Age upon Intake\"].unique())\n",
    "display(intakes[\"Intake Type\"].unique())\n",
    "display(intakes[\"Intake Condition\"].unique())"
   ]
  },
  {
   "cell_type": "code",
   "execution_count": 5,
   "id": "42b66436",
   "metadata": {},
   "outputs": [
    {
     "data": {
      "text/html": [
       "<div>\n",
       "<style scoped>\n",
       "    .dataframe tbody tr th:only-of-type {\n",
       "        vertical-align: middle;\n",
       "    }\n",
       "\n",
       "    .dataframe tbody tr th {\n",
       "        vertical-align: top;\n",
       "    }\n",
       "\n",
       "    .dataframe thead th {\n",
       "        text-align: right;\n",
       "    }\n",
       "</style>\n",
       "<table border=\"1\" class=\"dataframe\">\n",
       "  <thead>\n",
       "    <tr style=\"text-align: right;\">\n",
       "      <th></th>\n",
       "      <th>Animal ID</th>\n",
       "      <th>Name</th>\n",
       "      <th>DateTime</th>\n",
       "      <th>MonthYear</th>\n",
       "      <th>Date of Birth</th>\n",
       "      <th>Outcome Type</th>\n",
       "      <th>Outcome Subtype</th>\n",
       "      <th>Animal Type</th>\n",
       "      <th>Sex upon Outcome</th>\n",
       "      <th>Age upon Outcome</th>\n",
       "      <th>Breed</th>\n",
       "      <th>Color</th>\n",
       "    </tr>\n",
       "  </thead>\n",
       "  <tbody>\n",
       "    <tr>\n",
       "      <th>count</th>\n",
       "      <td>138769</td>\n",
       "      <td>97514</td>\n",
       "      <td>138769</td>\n",
       "      <td>138769</td>\n",
       "      <td>138769</td>\n",
       "      <td>138746</td>\n",
       "      <td>63435</td>\n",
       "      <td>138769</td>\n",
       "      <td>138768</td>\n",
       "      <td>138764</td>\n",
       "      <td>138769</td>\n",
       "      <td>138769</td>\n",
       "    </tr>\n",
       "    <tr>\n",
       "      <th>unique</th>\n",
       "      <td>124068</td>\n",
       "      <td>23425</td>\n",
       "      <td>115364</td>\n",
       "      <td>103</td>\n",
       "      <td>7576</td>\n",
       "      <td>9</td>\n",
       "      <td>26</td>\n",
       "      <td>5</td>\n",
       "      <td>5</td>\n",
       "      <td>54</td>\n",
       "      <td>2749</td>\n",
       "      <td>619</td>\n",
       "    </tr>\n",
       "    <tr>\n",
       "      <th>top</th>\n",
       "      <td>A721033</td>\n",
       "      <td>Max</td>\n",
       "      <td>04/18/2016 12:00:00 AM</td>\n",
       "      <td>Jun 2019</td>\n",
       "      <td>05/01/2016</td>\n",
       "      <td>Adoption</td>\n",
       "      <td>Partner</td>\n",
       "      <td>Dog</td>\n",
       "      <td>Neutered Male</td>\n",
       "      <td>1 year</td>\n",
       "      <td>Domestic Shorthair Mix</td>\n",
       "      <td>Black/White</td>\n",
       "    </tr>\n",
       "    <tr>\n",
       "      <th>freq</th>\n",
       "      <td>33</td>\n",
       "      <td>621</td>\n",
       "      <td>39</td>\n",
       "      <td>2244</td>\n",
       "      <td>119</td>\n",
       "      <td>63518</td>\n",
       "      <td>33597</td>\n",
       "      <td>78138</td>\n",
       "      <td>48877</td>\n",
       "      <td>24024</td>\n",
       "      <td>32515</td>\n",
       "      <td>14481</td>\n",
       "    </tr>\n",
       "  </tbody>\n",
       "</table>\n",
       "</div>"
      ],
      "text/plain": [
       "       Animal ID   Name                DateTime MonthYear Date of Birth  \\\n",
       "count     138769  97514                  138769    138769        138769   \n",
       "unique    124068  23425                  115364       103          7576   \n",
       "top      A721033    Max  04/18/2016 12:00:00 AM  Jun 2019    05/01/2016   \n",
       "freq          33    621                      39      2244           119   \n",
       "\n",
       "       Outcome Type Outcome Subtype Animal Type Sex upon Outcome  \\\n",
       "count        138746           63435      138769           138768   \n",
       "unique            9              26           5                5   \n",
       "top        Adoption         Partner         Dog    Neutered Male   \n",
       "freq          63518           33597       78138            48877   \n",
       "\n",
       "       Age upon Outcome                   Breed        Color  \n",
       "count            138764                  138769       138769  \n",
       "unique               54                    2749          619  \n",
       "top              1 year  Domestic Shorthair Mix  Black/White  \n",
       "freq              24024                   32515        14481  "
      ]
     },
     "metadata": {},
     "output_type": "display_data"
    }
   ],
   "source": [
    "#another way to see a data frame\n",
    "display(outcomes.describe())"
   ]
  },
  {
   "cell_type": "code",
   "execution_count": 6,
   "id": "58e02130",
   "metadata": {},
   "outputs": [
    {
     "data": {
      "text/plain": [
       "array(['Cat', 'Dog', 'Other', 'Bird', 'Livestock'], dtype=object)"
      ]
     },
     "metadata": {},
     "output_type": "display_data"
    },
    {
     "data": {
      "text/plain": [
       "array(['Neutered Male', 'Unknown', 'Intact Male', 'Spayed Female',\n",
       "       'Intact Female', nan], dtype=object)"
      ]
     },
     "metadata": {},
     "output_type": "display_data"
    },
    {
     "data": {
      "text/plain": [
       "array(['2 years', '1 year', '4 months', '6 days', '7 years', '2 months',\n",
       "       '2 days', '3 weeks', '9 months', '4 weeks', '2 weeks', '3 months',\n",
       "       '9 years', '10 years', '6 months', '8 years', '3 years',\n",
       "       '7 months', '6 years', '4 years', '1 month', '12 years', '5 years',\n",
       "       '1 weeks', '5 months', '5 days', '15 years', '11 months',\n",
       "       '10 months', '4 days', '16 years', '1 day', '8 months', '11 years',\n",
       "       '13 years', '1 week', '14 years', '3 days', '0 years', '5 weeks',\n",
       "       '17 years', '18 years', '20 years', '22 years', '-2 years',\n",
       "       '19 years', '23 years', '24 years', '-1 years', '25 years',\n",
       "       '21 years', '-3 years', '30 years', nan, '28 years'], dtype=object)"
      ]
     },
     "metadata": {},
     "output_type": "display_data"
    },
    {
     "data": {
      "text/plain": [
       "array(['Rto-Adopt', 'Adoption', 'Euthanasia', 'Transfer',\n",
       "       'Return to Owner', 'Died', 'Disposal', 'Missing', 'Relocate', nan],\n",
       "      dtype=object)"
      ]
     },
     "metadata": {},
     "output_type": "display_data"
    }
   ],
   "source": [
    "#See different unique values of important columns, check for suspitious values\n",
    "display(outcomes[\"Animal Type\"].unique())\n",
    "display(outcomes[\"Sex upon Outcome\"].unique())\n",
    "display(outcomes[\"Age upon Outcome\"].unique())\n",
    "display(outcomes[\"Outcome Type\"].unique())"
   ]
  },
  {
   "cell_type": "markdown",
   "id": "3a14de9f",
   "metadata": {},
   "source": [
    "#### Exploration outcomes\n",
    "* I can see that an Animal with and ID A721033 is 33 times in this table, which may be something to take a look at.\n",
    "* Also there are slightly more unique IDs in the **outcomes** table than in the **intakes**, which probably means that the number of cared for animals has lowered in the time period.\n",
    "* There were some values like negative ages and Unknown sex. I will have to do something about these or work carefully with these columns.\n",
    "* Animals with no names are named like their ID's\n"
   ]
  },
  {
   "cell_type": "markdown",
   "id": "511712a2",
   "metadata": {},
   "source": [
    "\n",
    "# <font color='orange'> Data preprocessing </font>\n"
   ]
  },
  {
   "cell_type": "code",
   "execution_count": 7,
   "id": "a8d429b4",
   "metadata": {},
   "outputs": [
    {
     "data": {
      "text/plain": [
       "array(['Neutered Male', nan, 'Intact Male', 'Spayed Female',\n",
       "       'Intact Female'], dtype=object)"
      ]
     },
     "metadata": {},
     "output_type": "display_data"
    }
   ],
   "source": [
    "#changing unknown and suspicious values to NaN\n",
    "intakes.replace(to_replace = ['Unknown','-1 years','-2 years','-3 years','0 years'], value = np.nan, inplace= True)\n",
    "outcomes.replace(to_replace = ['Unknown','-1 years','-2 years','-3 years','0 years'], value = np.nan, inplace= True)\n",
    "\n",
    "display(outcomes[\"Sex upon Outcome\"].unique())"
   ]
  },
  {
   "cell_type": "code",
   "execution_count": 8,
   "id": "25dd7673",
   "metadata": {},
   "outputs": [],
   "source": [
    "#parsing function for the weird string format of age\n",
    "def change_age(val):\n",
    "    if val is np.nan:\n",
    "        return val\n",
    "    #finds first number in the string with a regex\n",
    "    num = re.search(r'\\d+',val)\n",
    "    if  re.search('years|year', val):\n",
    "        val = int(num.group())\n",
    "    elif re.search('months|month', val):\n",
    "        val = int(num.group())/12\n",
    "    elif re.search('weeks|week', val):\n",
    "        val = int(num.group())/52\n",
    "    elif re.search('days|day', val):\n",
    "        val = int(num.group())/365\n",
    "    #returns the age in fraction of a year  \n",
    "    return float(val)"
   ]
  },
  {
   "cell_type": "code",
   "execution_count": 9,
   "id": "b70ec1f2",
   "metadata": {},
   "outputs": [],
   "source": [
    "#does not change color and exact breed, beacuse the number of unique values for those is higher than I think category should have\n",
    "#It would be possible to change those, but I decided not to\n",
    "intakes = intakes.astype({\"Intake Type\":\"category\", \"Intake Condition\":\"category\", \"Animal Type\":\"category\", \"Sex upon Intake\":\"category\" })\n",
    "outcomes = outcomes.astype({\"Outcome Type\":\"category\", \"Outcome Subtype\":\"category\", \"Animal Type\":\"category\", \"Sex upon Outcome\":\"category\" })\n",
    "\n",
    "intakes = intakes.astype({\"DateTime\":\"datetime64\"})\n",
    "outcomes = outcomes.astype({\"DateTime\":\"datetime64\"})\n",
    "\n",
    "intakes[\"Age upon Intake\"] = intakes[\"Age upon Intake\"].apply(change_age)\n",
    "outcomes[\"Age upon Outcome\"] = outcomes[\"Age upon Outcome\"].apply(change_age)"
   ]
  },
  {
   "cell_type": "code",
   "execution_count": 10,
   "id": "11f4fb4d",
   "metadata": {},
   "outputs": [],
   "source": [
    "#dropping duplicate rows\n",
    "intakes.drop_duplicates(inplace=True)\n",
    "outcomes.drop_duplicates(inplace=True)"
   ]
  },
  {
   "cell_type": "code",
   "execution_count": 11,
   "id": "6e1b3844",
   "metadata": {},
   "outputs": [
    {
     "name": "stdout",
     "output_type": "stream",
     "text": [
      "<class 'pandas.core.series.Series'>\n",
      "Int64Index: 138565 entries, 0 to 138584\n",
      "Series name: Age upon Intake\n",
      "Non-Null Count   Dtype  \n",
      "--------------   -----  \n",
      "137668 non-null  float64\n",
      "dtypes: float64(1)\n",
      "memory usage: 2.1 MB\n"
     ]
    },
    {
     "data": {
      "text/plain": [
       "None"
      ]
     },
     "metadata": {},
     "output_type": "display_data"
    },
    {
     "data": {
      "text/plain": [
       "Animal ID                   object\n",
       "Name                        object\n",
       "DateTime            datetime64[ns]\n",
       "MonthYear                   object\n",
       "Date of Birth               object\n",
       "Outcome Type              category\n",
       "Outcome Subtype           category\n",
       "Animal Type               category\n",
       "Sex upon Outcome          category\n",
       "Age upon Outcome           float64\n",
       "Breed                       object\n",
       "Color                       object\n",
       "dtype: object"
      ]
     },
     "metadata": {},
     "output_type": "display_data"
    },
    {
     "data": {
      "text/html": [
       "<div>\n",
       "<style scoped>\n",
       "    .dataframe tbody tr th:only-of-type {\n",
       "        vertical-align: middle;\n",
       "    }\n",
       "\n",
       "    .dataframe tbody tr th {\n",
       "        vertical-align: top;\n",
       "    }\n",
       "\n",
       "    .dataframe thead th {\n",
       "        text-align: right;\n",
       "    }\n",
       "</style>\n",
       "<table border=\"1\" class=\"dataframe\">\n",
       "  <thead>\n",
       "    <tr style=\"text-align: right;\">\n",
       "      <th></th>\n",
       "      <th>Animal ID</th>\n",
       "      <th>Name</th>\n",
       "      <th>DateTime</th>\n",
       "      <th>MonthYear</th>\n",
       "      <th>Date of Birth</th>\n",
       "      <th>Outcome Type</th>\n",
       "      <th>Outcome Subtype</th>\n",
       "      <th>Animal Type</th>\n",
       "      <th>Sex upon Outcome</th>\n",
       "      <th>Age upon Outcome</th>\n",
       "      <th>Breed</th>\n",
       "      <th>Color</th>\n",
       "    </tr>\n",
       "  </thead>\n",
       "  <tbody>\n",
       "    <tr>\n",
       "      <th>0</th>\n",
       "      <td>A794011</td>\n",
       "      <td>Chunk</td>\n",
       "      <td>2019-05-08 18:20:00</td>\n",
       "      <td>May 2019</td>\n",
       "      <td>05/02/2017</td>\n",
       "      <td>Rto-Adopt</td>\n",
       "      <td>NaN</td>\n",
       "      <td>Cat</td>\n",
       "      <td>Neutered Male</td>\n",
       "      <td>2.0</td>\n",
       "      <td>Domestic Shorthair Mix</td>\n",
       "      <td>Brown Tabby/White</td>\n",
       "    </tr>\n",
       "  </tbody>\n",
       "</table>\n",
       "</div>"
      ],
      "text/plain": [
       "  Animal ID   Name            DateTime MonthYear Date of Birth Outcome Type  \\\n",
       "0   A794011  Chunk 2019-05-08 18:20:00  May 2019    05/02/2017    Rto-Adopt   \n",
       "\n",
       "  Outcome Subtype Animal Type Sex upon Outcome  Age upon Outcome  \\\n",
       "0             NaN         Cat    Neutered Male               2.0   \n",
       "\n",
       "                    Breed              Color  \n",
       "0  Domestic Shorthair Mix  Brown Tabby/White  "
      ]
     },
     "metadata": {},
     "output_type": "display_data"
    }
   ],
   "source": [
    "#Just showing what happened with the data frames\n",
    "display(intakes[\"Age upon Intake\"].info())\n",
    "display(outcomes.dtypes)\n",
    "display(outcomes.head(1))"
   ]
  },
  {
   "cell_type": "markdown",
   "id": "10e0065f",
   "metadata": {},
   "source": [
    "# <font color='orange'> Data visualization </font>"
   ]
  },
  {
   "cell_type": "code",
   "execution_count": 12,
   "id": "d5359d8d",
   "metadata": {},
   "outputs": [
    {
     "name": "stdout",
     "output_type": "stream",
     "text": [
      "Maximum Age upon Intake of an animal was 30 years, its name was Sunshine and it was a Bird.\n",
      "\n",
      "The average Age upon Intake was 2.04 years but the median Age upon Intake was 1.00 year.\n",
      "This is due to the usual low animal life expectancy, and there were some values that offset the average like our bird Sunshine.\n",
      "Also this is the Age upon intake, so it will generally be lower.\n",
      "\n",
      "Here are the quartals.\n",
      "First: 0.16666666666666666\n",
      "Third: 2.0\n"
     ]
    }
   ],
   "source": [
    "#prints max age and the name of the animal with max age\n",
    "age = \"Age upon Intake\"\n",
    "print(\"Maximum {} of an animal was {} years, its name was {} and it was a {}.\".format(\n",
    "    age,\n",
    "    int(intakes[age].max()),\n",
    "    intakes[\"Name\"][intakes[age] == intakes[age].max()].item(),\n",
    "    intakes[\"Animal Type\"][intakes[age] == intakes[age].max()].item()))\n",
    "print()\n",
    "\n",
    "print(\"The average {} was {:.2f} years but the median {} was {:.2f} year.\".format(\n",
    "    age,\n",
    "    intakes[age].mean(),\n",
    "    age,\n",
    "    intakes[age].median()))\n",
    "print(\"This is due to the usual low animal life expectancy, and there were some values that offset the average like our bird Sunshine.\")\n",
    "print(\"Also this is the Age upon intake, so it will generally be lower.\")\n",
    "\n",
    "print()\n",
    "print(\"Here are the quartals.\")\n",
    "print(\"First: {}\".format(intakes[age].quantile(.25)))\n",
    "print(\"Third: {}\".format(intakes[age].quantile(.75)))"
   ]
  },
  {
   "cell_type": "code",
   "execution_count": 13,
   "id": "0c187010",
   "metadata": {},
   "outputs": [],
   "source": [
    "#just a function to box plot the parameters\n",
    "def box( axes , to_print , column , df ):\n",
    "    bp = axes.boxplot(df[column][~np.isnan(df[column])],\n",
    "           vert=False,\n",
    "           showmeans=True,\n",
    "           flierprops={\"markeredgecolor\":'powderblue'})\n",
    "    axes.legend([bp['medians'][0], bp['means'][0],bp['fliers'][0]], ['median', 'mean','fliers'])\n",
    "    axes.set_title(\"Distribution of ages of {} animals\".format(to_print),loc='left')\n",
    "    axes.set_xlabel(column,labelpad=1)\n",
    "#turns off y axis\n",
    "    axes.yaxis.set_visible(False)\n",
    "#adds locators\n",
    "    axes.xaxis.set_minor_locator(ticker.AutoMinorLocator(5))\n",
    "#adds grid\n",
    "    axes.grid(axis=\"x\", color=\"black\", alpha=.3 , linewidth=1.2)\n",
    "    axes.grid(axis=\"x\", which='minor', color=\"black\", alpha=.1, linewidth=.5)\n",
    "    return axes"
   ]
  },
  {
   "cell_type": "code",
   "execution_count": 14,
   "id": "785d54db",
   "metadata": {},
   "outputs": [
    {
     "data": {
      "image/png": "[encoded data removed]",
      "text/plain": [
       "<Figure size 1000x600 with 2 Axes>"
      ]
     },
     "metadata": {},
     "output_type": "display_data"
    }
   ],
   "source": [
    "fig, ax = plt.subplots(2,1,figsize=(10,6))\n",
    "fig.subplots_adjust(hspace=0.5)\n",
    "\n",
    "ax[0]=box(ax[0],\"intake\", \"Age upon Intake\" , intakes)\n",
    "ax[1]=box(ax[1], \"outcome\" , \"Age upon Outcome\", outcomes)\n",
    "plt.show()"
   ]
  },
  {
   "cell_type": "code",
   "execution_count": 15,
   "id": "2bd89777",
   "metadata": {},
   "outputs": [
    {
     "name": "stdout",
     "output_type": "stream",
     "text": [
      "Maximum Age upon Outcome of an animal was 30 years, its name was Sunshine and it was a Transfer.\n"
     ]
    }
   ],
   "source": [
    "age = \"Age upon Outcome\"\n",
    "print(\"Maximum {} of an animal was {} years, its name was {} and it was a {}.\".format(\n",
    "    age,\n",
    "    int(outcomes[age].max()),\n",
    "    outcomes[\"Name\"][outcomes[age] == outcomes[age].max()].item(),\n",
    "    outcomes[\"Outcome Type\"][outcomes[age] == outcomes[age].max()].item()))"
   ]
  },
  {
   "cell_type": "markdown",
   "id": "47ec333b",
   "metadata": {},
   "source": [
    "Is we can see, there is not much of a change between the distribution of ages of income and outcome animals. The mean shifted slightly, median stayed the same. Even the max age stayed the same, because the old bird was transfered away."
   ]
  },
  {
   "cell_type": "code",
   "execution_count": 52,
   "id": "79f477ee",
   "metadata": {},
   "outputs": [],
   "source": [
    "def dt_hist(axes , df , to_print ):\n",
    "    col = \"DateTime\"\n",
    "    # bins = 8 years and 12 months in each + a couple of months\n",
    "    n, bins, patches = axes.hist(df[col], bins= 12*8+7, range=(df[col].min(),\"2022-04-30 00:00:00\"), color=\"powderblue\")\n",
    "    #12 months in a year\n",
    "    axes.xaxis.set_minor_locator(ticker.AutoMinorLocator(12))\n",
    "    \n",
    "    axes.set_title(\"Distribution of the number of {} animals in time\".format(to_print))\n",
    "    \n",
    "    #color coding max and min values\n",
    "    max_patch = np.argmax(n)\n",
    "    min_patch = np.argmin(n)\n",
    "    plt.setp(patches[min_patch], 'facecolor', 'lightcoral')\n",
    "    plt.setp(patches[max_patch], 'facecolor', 'palegreen')\n",
    "    \n",
    "    axes.grid(axis=\"x\", color=\"black\", alpha=.2 , linewidth=0.5)\n",
    "    \n",
    "    axes.legend([patches[max_patch],patches[min_patch]], [\"most animals {}\".format(to_print),\"least animals {}\".format(to_print)])"
   ]
  },
  {
   "cell_type": "code",
   "execution_count": 53,
   "id": "b15634f1",
   "metadata": {},
   "outputs": [
    {
     "data": {
      "image/png": "[encoded data removed]",
      "text/plain": [
       "<Figure size 1000x1000 with 2 Axes>"
      ]
     },
     "metadata": {},
     "output_type": "display_data"
    }
   ],
   "source": [
    "fig, ax = plt.subplots(2,1,figsize=(10,10))\n",
    "\n",
    "dt_hist(ax[0],intakes, \"incoming\")\n",
    "dt_hist(ax[1],outcomes, \"leaving\")\n",
    "plt.show()"
   ]
  },
  {
   "cell_type": "markdown",
   "id": "01e49ee6",
   "metadata": {},
   "source": [
    "As we can see from the histograms, there was a big dip in the beggining of the 2020 year, possibly because of covid pandemic. And the traffic did not recover to the previous levels since then. Both max levels of traffic were in June and there was a recurring theme of generally higher traffic in the summer and dips in winter. \\\n",
    "I did not really feel like finding mean and median for these values is worth it, sice these are date values, where, univariant statistics probably would not really tell us anything."
   ]
  },
  {
   "cell_type": "code",
   "execution_count": 18,
   "id": "1a2a1e00",
   "metadata": {},
   "outputs": [
    {
     "data": {
      "image/png": "[encoded data removed]",
      "text/plain": [
       "<Figure size 1000x500 with 1 Axes>"
      ]
     },
     "metadata": {},
     "output_type": "display_data"
    }
   ],
   "source": [
    "fig, ax = plt.subplots(figsize=(10,5))\n",
    "\n",
    "#Setting the format of labels so they wrap around if too long\n",
    "labels = [ label.replace(' ', '\\n') for label in outcomes[\"Outcome Type\"].value_counts().index ]\n",
    "rects = ax.bar(labels,outcomes[\"Outcome Type\"].value_counts(),color=\"powderblue\")\n",
    "\n",
    "ax.set_ylabel('Frequency of outcome')\n",
    "\n",
    "ax.spines['top'].set_visible(False)\n",
    "ax.spines['right'].set_visible(False)\n",
    "ax.spines['left'].set_visible(False)\n",
    "\n",
    "ax.set_title(\"Number of outcomes based on the Outcome type\")\n",
    "\n",
    "ax.yaxis.set_visible(False)\n",
    "\n",
    "ax.bar_label(rects)\n",
    "plt.show()"
   ]
  },
  {
   "cell_type": "code",
   "execution_count": 19,
   "id": "a6137c2a",
   "metadata": {
    "scrolled": true
   },
   "outputs": [
    {
     "name": "stdout",
     "output_type": "stream",
     "text": [
      "The most common name in the Intakes was Max\n",
      "\n",
      "The names that occured only once in the Intakes and started with and \"F\" were:\n",
      " Fairy\n",
      "Fiver\n",
      "Flowtron\n",
      "Falcon\n",
      "Fluffy Fluff\n",
      "Faraon\n",
      "Fufy\n",
      "Flakey\n",
      "Fico\n",
      "Fat Louie\n",
      "Feral #3\n",
      "Felipe Rabbi\n",
      "Flufferton\n",
      "Finton\n",
      "Frassina\n",
      "Fric\n",
      "Fen\n",
      "Frog\n",
      "Fluffy Butt\n",
      "Fudge Brownie\n",
      "F\n",
      "Fender\n",
      "Fiby\n",
      "Fantasma\n",
      "Freddie Mercury\n",
      "Fayah\n",
      "Firelord Zuko\n",
      "Fancee\n",
      "Felix Jupe\n",
      "Fossil\n",
      "Fred Astaire\n",
      "Florentino\n",
      "Foxy James\n",
      "Fonzie\n",
      "Ferulais\n",
      "Frida Luna\n",
      "Foxy Mae\n",
      "Florian\n",
      "Fernie\n",
      "Filbert\n",
      "Fanning\n",
      "Fuzzyball\n",
      "Fluffer\n",
      "Flea\n",
      "Fitzgerald\n",
      "Finesse\n",
      "Firulin\n",
      "Foxy Brown\n",
      "Fugi\n",
      "Fawkes\n",
      "Faux\n",
      "Fate\n",
      "Flowery\n",
      "Fe\n",
      "Flour\n",
      "Fritos\n",
      "Ferdinand Fi\n",
      "Frijol\n",
      "Favor\n",
      "Flow\n",
      "Foo Foo\n",
      "Fizzgig\n",
      "Faro\n",
      "Firulias\n",
      "Freebee\n",
      "Ferdy\n",
      "Farquad\n",
      "Fabi\n",
      "Fenek\n",
      "Firecat\n",
      "Fudge\n",
      "France\n",
      "Fraulein\n",
      "Flower Pot\n",
      "Freckle\n",
      "Friend Called Five\n",
      "Fruity\n",
      "Firo\n",
      "Feliz\n",
      "Flappy\n",
      "Faye Bunaway\n",
      "Forester\n",
      "Fat Fat\n",
      "Flynn Ryder\n",
      "Ferbie\n",
      "Fusilli\n",
      "Ficus\n",
      "Fofinho\n",
      "Frisk\n",
      "Fence\n",
      "Fragle\n",
      "Fawn\n",
      "Firus\n",
      "Frazetta\n",
      "Fee Fee\n",
      "Fleck\n",
      "Fieryo\n",
      "Fredrick\n",
      "Francine\n",
      "Fievel\n",
      "Fatty\n",
      "Faneto\n",
      "Fungus\n",
      "Furgus Mckit\n",
      "Feelo\n",
      "Fetcher\n",
      "Frumpkin\n",
      "Fonka\n",
      "Fat Guy\n",
      "Foxxy\n",
      "Felony\n",
      "Firu\n",
      "Floofy\n",
      "Federico\n",
      "Fino\n",
      "Finn Smart\n",
      "Fiona Wilde\n",
      "Furriosa\n",
      "Fourty\n",
      "Fallon\n",
      "Fenway\n",
      "Fuzzbox\n",
      "Flecher\n",
      "Freida\n",
      "Fry\n",
      "Finola\n",
      "Fat Jack\n",
      "Firebolt\n",
      "Fluffy Varge\n",
      "Flynt\n",
      "Fritette\n",
      "Fizz\n",
      "Fang\n",
      "Francis N. Beans\n",
      "Fennec\n",
      "Fresh Prince\n",
      "Finnigan\n",
      "Flaquita\n",
      "Fattso\n",
      "Faleas\n",
      "Fozzie\n",
      "Frizzy\n",
      "Finny\n",
      "Fargo\n",
      "Fra-1\n",
      "Falafel\n",
      "Forky\n",
      "Fuego\n",
      "Feather\n",
      "Fionn\n",
      "Fina\n",
      "Fancy Nancy\n",
      "Fuzzy Butt\n",
      "Feo\n",
      "Freddie Brew\n",
      "Fluffette\n",
      "Fleur\n",
      "Faez\n",
      "Fuzzo\n",
      "Fox Trot\n",
      "Fflewddur\n",
      "Fulton\n",
      "Flakis\n",
      "Franklin Jr.\n",
      "Fafali\n",
      "Fifi 2\n",
      "Fossa\n",
      "Flora Lou\n",
      "Fetch\n",
      "Feisty\n",
      "Fryer\n",
      "Florescita\n",
      "Fidela\n",
      "Fidget\n",
      "Fenny Mae\n",
      "Fluff-Nilla\n",
      "Frank Sinatra\n",
      "Flash 2\n",
      "Frosting\n",
      "Feeny\n",
      "Faylinn\n",
      "Frankiegrace\n",
      "Fritzi\n",
      "Fabio\n",
      "Feathers\n",
      "Fussbucket\n",
      "Fetti\n",
      "Fania\n",
      "Farida\n",
      "Fester\n",
      "Fatima\n",
      "Finnick\n",
      "Faulker\n",
      "Frijola\n",
      "Fly\n",
      "Francesca\n",
      "Fleetwood\n",
      "Flerken\n",
      "Fitzy Blue\n",
      "Fannie\n",
      "Fizzy Bevo\n",
      "Fido Alejandro\n",
      "Filtolice\n"
     ]
    }
   ],
   "source": [
    "#Saves the name with the highest occurence, because value_counts() returns sorted count of each value in the dataframe\n",
    "most_com_name = intakes['Name'].value_counts().index[0]\n",
    "print(\"The most common name in the Intakes was {}\".format(most_com_name))\n",
    "print()\n",
    "\n",
    "#takes all names that start with an F, quite a wild code, but did not find a way to do it better\n",
    "least_com_names = [x for x in intakes['Name'].value_counts(ascending=True).loc[lambda x : x==1].index if x[0]=='F' ]\n",
    "print(\"The names that occured only once in the Intakes and started with and \\\"F\\\" were:\\n\" , '\\n'.join(least_com_names))\n"
   ]
  },
  {
   "cell_type": "code",
   "execution_count": 56,
   "id": "b813c236",
   "metadata": {},
   "outputs": [
    {
     "data": {
      "image/png": "[encoded data removed]",
      "text/plain": [
       "<Figure size 500x500 with 1 Axes>"
      ]
     },
     "metadata": {},
     "output_type": "display_data"
    }
   ],
   "source": [
    "fig, ax = plt.subplots(figsize=(5,5))\n",
    "# adding livestock to the Other animal type for this visualization, because there are very few livestock animals and it\n",
    "# was causing problems in the graph\n",
    "livestock_is_other = intakes\n",
    "livestock_is_other[\"Animal Type\"] = np.where( intakes[\"Animal Type\"] != 'Livestock', intakes[\"Animal Type\"] , 'Other' )\n",
    "\n",
    "values = livestock_is_other[\"Animal Type\"].value_counts()\n",
    "labels = livestock_is_other[\"Animal Type\"].unique()\n",
    "colors = ['powderblue', '#7b9fa1', '#e6b0d6', '#e6dcb0']\n",
    "ax.pie( values ,labels=labels, colors=colors ,explode=[0.05 for x in labels],autopct='%1.2f%%',pctdistance=0.85)\n",
    "\n",
    "ax.set_title(\"The distribution of Animal Types incoming\")\n",
    "\n",
    "#code for the inner circle borrowed from: https://www.geeksforgeeks.org/donut-chart-using-matplotlib-in-python/ \n",
    "centre_circle = plt.Circle((0, 0), 0.70, fc='white')\n",
    "fig = plt.gcf()\n",
    "\n",
    "fig.gca().add_artist(centre_circle)\n",
    "\n",
    "plt.show()"
   ]
  },
  {
   "cell_type": "code",
   "execution_count": 109,
   "id": "14d6ac6b",
   "metadata": {},
   "outputs": [
    {
     "data": {
      "text/plain": [
       "Text(0.5, 1.0, 'Average outcome age of animals')"
      ]
     },
     "execution_count": 109,
     "metadata": {},
     "output_type": "execute_result"
    },
    {
     "data": {
      "image/png": "[encoded data removed]",
      "text/plain": [
       "<Figure size 640x480 with 1 Axes>"
      ]
     },
     "metadata": {},
     "output_type": "display_data"
    }
   ],
   "source": [
    "fig, ax = plt.subplots()\n",
    "\n",
    "#creating series of animal types and their average age upon outcome\n",
    "avg_ages = outcomes.groupby(\"Animal Type\")[\"Age upon Outcome\"].mean()\n",
    "\n",
    "ax.bar(x=avg_ages.index,height=avg_ages,color=\"#7b9fa1\")\n",
    "ax.set_ylabel(\"Average age upon outcome\")\n",
    "#not adding label for anima type because it would be more cluttered and in my opinion it is obvious what the x-axis represents\n",
    "\n",
    "ax.spines['top'].set_visible(False)\n",
    "ax.spines['right'].set_visible(False)\n",
    "\n",
    "ax.grid(axis=\"y\", color=\"black\", alpha=.1 , linewidth=0.5)\n",
    "\n",
    "ax.set_title(\"Average outcome age of animals\")"
   ]
  }
 ],
 "metadata": {
  "kernelspec": {
   "display_name": "Python 3 (ipykernel)",
   "language": "python",
   "name": "python3"
  },
  "language_info": {
   "codemirror_mode": {
    "name": "ipython",
    "version": 3
   },
   "file_extension": ".py",
   "mimetype": "text/x-python",
   "name": "python",
   "nbconvert_exporter": "python",
   "pygments_lexer": "ipython3",
   "version": "3.8.2"
  }
 },
 "nbformat": 4,
 "nbformat_minor": 5
}
